{
 "cells": [
  {
   "cell_type": "code",
   "execution_count": 172,
   "id": "79e7b1a1",
   "metadata": {},
   "outputs": [],
   "source": [
    "from selenium import webdriver\n",
    "from selenium.webdriver.chrome.service import Service\n",
    "from time import sleep\n",
    "import time\n",
    "from selenium.webdriver.support.ui import WebDriverWait\n",
    "from selenium.webdriver.support import expected_conditions as EC\n",
    "from selenium.webdriver.common.by import By\n"
   ]
  },
  {
   "cell_type": "code",
   "execution_count": 173,
   "id": "cd6335c0",
   "metadata": {},
   "outputs": [],
   "source": [
    "path = \"C:\\\\Users\\\\Apocalypse\\\\Desktop\\\\House_Prediction\\\\Web_scrapping\\\\chromedriver_win32\\\\chromedriver.exe\"\n",
    "service = Service(executable_path=path)\n",
    "driver = webdriver.Chrome(service=service)\n",
    "driver.get('https://nepalhomesearch.com/')\n",
    "driver.maximize_window()"
   ]
  },
  {
   "cell_type": "code",
   "execution_count": 174,
   "id": "6d410ae2",
   "metadata": {},
   "outputs": [],
   "source": [
    "click_homeforsale = driver.find_element(by=\"xpath\",value='//*[@id=\"menu-property-types-1\"]/li/a')\n",
    "click_homeforsale.click()"
   ]
  },
  {
   "cell_type": "code",
   "execution_count": 175,
   "id": "905a93b0",
   "metadata": {},
   "outputs": [],
   "source": [
    "house_details_link = driver.find_elements(by=\"xpath\",value='//*[@id=\"properties-listing\"]/div[1]/div[3]/article/div/div/div/h3/a')\n",
    "# print(house_details_link[6].get_property(\"href\"))"
   ]
  },
  {
   "cell_type": "code",
   "execution_count": 176,
   "id": "9583c4a0",
   "metadata": {},
   "outputs": [
    {
     "name": "stdout",
     "output_type": "stream",
     "text": [
      "https://nepalhomesearch.com/property/semi-bungalow-house-sale-in-mulpani/\n",
      "https://nepalhomesearch.com/property/lale-lalitpur-house-sale/\n",
      "https://nepalhomesearch.com/property/thaiba-heights-housing/\n",
      "https://nepalhomesearch.com/property/beautiful-new-house-for-sale-at-nakhipot-lalitpur/\n",
      "https://nepalhomesearch.com/property/beautiful-house-for-sale-in-dholahiti-lalitpur/\n",
      "https://nepalhomesearch.com/property/beautiful-house-for-sale-in-hattiban-lalitpur/\n",
      "https://nepalhomesearch.com/property/house-for-sale-at-gahana-pokhari-kathmandu/\n",
      "https://nepalhomesearch.com/property/house-for-sale-in-ishan-colony-budhanilkantha/\n",
      "https://nepalhomesearch.com/property/house-for-sale-in-panipokhari/\n",
      "https://nepalhomesearch.com/property/villa-for-sale-in-chabahil-kathmandu/\n",
      "https://nepalhomesearch.com/property/%e0%a4%a5%e0%a4%be%e0%a4%a8%e0%a4%95%e0%a5%8b%e0%a4%9f-%e0%a4%ae%e0%a4%be-%e0%a4%98%e0%a4%b0-%e0%a4%ac%e0%a4%bf%e0%a4%95%e0%a5%8d%e0%a4%b0%e0%a5%80%e0%a4%ae%e0%a4%be/\n",
      "https://nepalhomesearch.com/property/house-for-sale-at-vinayak-colony/\n",
      "https://nepalhomesearch.com/property/apartment-building-for-sale-in-sanepa/\n",
      "https://nepalhomesearch.com/property/villas-for-sale-in-meghauli/\n",
      "https://nepalhomesearch.com/property/commercial-property-for-sale-at-imadol-lalitpur/\n",
      "https://nepalhomesearch.com/property/house-for-sale-at-bhrikuti-chowk-kapan/\n",
      "https://nepalhomesearch.com/property/house-sale-in-mid-baneshowr/\n",
      "https://nepalhomesearch.com/property/house-for-sale-thecho-laliptur/\n"
     ]
    },
    {
     "data": {
      "text/plain": [
       "['https://nepalhomesearch.com/property/semi-bungalow-house-sale-in-mulpani/',\n",
       " 'https://nepalhomesearch.com/property/lale-lalitpur-house-sale/',\n",
       " 'https://nepalhomesearch.com/property/thaiba-heights-housing/',\n",
       " 'https://nepalhomesearch.com/property/beautiful-new-house-for-sale-at-nakhipot-lalitpur/',\n",
       " 'https://nepalhomesearch.com/property/beautiful-house-for-sale-in-dholahiti-lalitpur/',\n",
       " 'https://nepalhomesearch.com/property/beautiful-house-for-sale-in-hattiban-lalitpur/',\n",
       " 'https://nepalhomesearch.com/property/house-for-sale-at-gahana-pokhari-kathmandu/',\n",
       " 'https://nepalhomesearch.com/property/house-for-sale-in-ishan-colony-budhanilkantha/',\n",
       " 'https://nepalhomesearch.com/property/house-for-sale-in-panipokhari/',\n",
       " 'https://nepalhomesearch.com/property/villa-for-sale-in-chabahil-kathmandu/',\n",
       " 'https://nepalhomesearch.com/property/%e0%a4%a5%e0%a4%be%e0%a4%a8%e0%a4%95%e0%a5%8b%e0%a4%9f-%e0%a4%ae%e0%a4%be-%e0%a4%98%e0%a4%b0-%e0%a4%ac%e0%a4%bf%e0%a4%95%e0%a5%8d%e0%a4%b0%e0%a5%80%e0%a4%ae%e0%a4%be/',\n",
       " 'https://nepalhomesearch.com/property/house-for-sale-at-vinayak-colony/',\n",
       " 'https://nepalhomesearch.com/property/apartment-building-for-sale-in-sanepa/',\n",
       " 'https://nepalhomesearch.com/property/villas-for-sale-in-meghauli/',\n",
       " 'https://nepalhomesearch.com/property/commercial-property-for-sale-at-imadol-lalitpur/',\n",
       " 'https://nepalhomesearch.com/property/house-for-sale-at-bhrikuti-chowk-kapan/',\n",
       " 'https://nepalhomesearch.com/property/house-sale-in-mid-baneshowr/',\n",
       " 'https://nepalhomesearch.com/property/house-for-sale-thecho-laliptur/']"
      ]
     },
     "execution_count": 176,
     "metadata": {},
     "output_type": "execute_result"
    }
   ],
   "source": [
    "list_of_house_links=[]\n",
    "for house in house_details_link:\n",
    "    house_link=house.get_property(\"href\")\n",
    "    list_of_house_links.append(house_link)\n",
    "    print(house_link)\n",
    "    \n",
    "list_of_house_links"
   ]
  },
  {
   "cell_type": "code",
   "execution_count": 177,
   "id": "5067a6d0",
   "metadata": {},
   "outputs": [],
   "source": [
    "#save links in a text file\n",
    "# with open('houses.txt', 'w') as f:\n",
    "#     for house in list_of_house_links:\n",
    "#         f.write(house + '\\n')"
   ]
  },
  {
   "cell_type": "code",
   "execution_count": 178,
   "id": "4074b868",
   "metadata": {},
   "outputs": [],
   "source": [
    "next_page = driver.find_element(By.CSS_SELECTOR, '#properties-listing > div.rh_page.rh_page__listing_page.rh_page__main > div.rh_pagination > a.rh_pagination__btn.rh_pagination__next')"
   ]
  },
  {
   "cell_type": "code",
   "execution_count": 180,
   "id": "04adfe95",
   "metadata": {},
   "outputs": [],
   "source": [
    "next_page.click()"
   ]
  },
  {
   "cell_type": "markdown",
   "id": "a4856476",
   "metadata": {},
   "source": [
    "list_of_house_links=[]\n",
    "condition=True\n",
    "while condition:\n",
    "    house_details_link = driver.find_elements(by=\"xpath\",value='//*[@id=\"properties-listing\"]/div[1]/div[3]/article/div/div/div/h3/a')\n",
    "    for house in house_details_link:\n",
    "        house_link=house.get_property(\"href\")\n",
    "        list_of_house_links.append(house_link)\n",
    "        print(len(list_of_house_links))\n",
    "    try:\n",
    "        nnext_page = driver.find_element(by=\"xpath\", value=\"//a[@class='rh_pagination__btn rh_pagination__next']\")\n",
    "        next_page.click()\n",
    "    except:\n",
    "        condition=False"
   ]
  },
  {
   "cell_type": "code",
   "execution_count": null,
   "id": "b93ef384",
   "metadata": {},
   "outputs": [],
   "source": [
    "#exporting to csv\n",
    "\n",
    "# import csv\n",
    "# with open('house_links.csv', mode='w', newline='') as file:\n",
    "#     writer = csv.writer(file)\n",
    "#     for link in list_of_house_links:\n",
    "#         writer.writerow([link])"
   ]
  },
  {
   "cell_type": "code",
   "execution_count": null,
   "id": "83166daf",
   "metadata": {},
   "outputs": [],
   "source": []
  },
  {
   "cell_type": "code",
   "execution_count": null,
   "id": "7df4af19",
   "metadata": {},
   "outputs": [],
   "source": []
  }
 ],
 "metadata": {
  "kernelspec": {
   "display_name": "Python 3 (ipykernel)",
   "language": "python",
   "name": "python3"
  },
  "language_info": {
   "codemirror_mode": {
    "name": "ipython",
    "version": 3
   },
   "file_extension": ".py",
   "mimetype": "text/x-python",
   "name": "python",
   "nbconvert_exporter": "python",
   "pygments_lexer": "ipython3",
   "version": "3.9.13"
  }
 },
 "nbformat": 4,
 "nbformat_minor": 5
}
