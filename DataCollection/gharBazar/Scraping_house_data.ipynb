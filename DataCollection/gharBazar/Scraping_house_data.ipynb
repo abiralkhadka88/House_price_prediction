{
 "cells": [
  {
   "cell_type": "code",
   "execution_count": 11,
   "id": "b0af1ad9",
   "metadata": {},
   "outputs": [],
   "source": [
    "from selenium import webdriver\n",
    "from selenium.webdriver.chrome.service import Service\n",
    "from time import sleep\n",
    "import time\n",
    "from selenium.webdriver.support.ui import WebDriverWait\n",
    "from selenium.webdriver.support import expected_conditions as EC\n",
    "from selenium.webdriver.common.by import By\n",
    "import csv"
   ]
  },
  {
   "cell_type": "code",
   "execution_count": 12,
   "id": "60c9ca62",
   "metadata": {},
   "outputs": [],
   "source": [
    "path = \"C:\\\\Users\\\\Apocalypse\\\\Desktop\\\\House_Prediction\\\\Web_scrapping\\\\chromedriver_win32\\\\chromedriver.exe\""
   ]
  },
  {
   "cell_type": "code",
   "execution_count": 13,
   "id": "91cedfbd",
   "metadata": {},
   "outputs": [],
   "source": [
    "#loading Driver\n",
    "service = Service(executable_path=path)\n",
    "driver = webdriver.Chrome(service=service)"
   ]
  },
  {
   "cell_type": "code",
   "execution_count": 14,
   "id": "a2a10a8f",
   "metadata": {},
   "outputs": [],
   "source": [
    "# Load the CSV file and extract the URLs\n",
    "with open('house_links_nepalhomes.csv') as csv_file:\n",
    "    csv_reader = csv.reader(csv_file)\n",
    "    urls = [row[0] for row in csv_reader]"
   ]
  },
  {
   "cell_type": "code",
   "execution_count": 15,
   "id": "d660beb6",
   "metadata": {},
   "outputs": [
    {
     "name": "stdout",
     "output_type": "stream",
     "text": [
      "https://www.nepalhomes.com/detail/house-for-sale-NH19353\n"
     ]
    }
   ],
   "source": [
    "print(urls[0])"
   ]
  },
  {
   "cell_type": "code",
   "execution_count": 16,
   "id": "9d9bb504",
   "metadata": {},
   "outputs": [],
   "source": [
    "# driver.get(urls[0])"
   ]
  },
  {
   "cell_type": "code",
   "execution_count": 17,
   "id": "49b2048f",
   "metadata": {},
   "outputs": [],
   "source": [
    "# div_components =driver.find_elements(by='xpath',value='//*[@id=\"sectionOverview\"]/ul/li/div')\n",
    "# for component in div_components:\n",
    "#     print(component.text)"
   ]
  },
  {
   "cell_type": "code",
   "execution_count": 18,
   "id": "89312db6",
   "metadata": {},
   "outputs": [],
   "source": [
    "# print(land_area)"
   ]
  },
  {
   "cell_type": "code",
   "execution_count": 19,
   "id": "85dba714",
   "metadata": {},
   "outputs": [],
   "source": [
    "# data_dict ={}\n",
    "# for li in div_components:\n",
    "#     title = li.find_element(by='xpath',value='//*[@id=\"sectionOverview\"]/ul/li/div/h3').text\n",
    "#     value=li.find_element(by='xpath',value='//*[@id=\"sectionOverview\"]/ul/li/div/h5').text\n",
    "#     data_dict[title]=value\n",
    "    "
   ]
  },
  {
   "cell_type": "code",
   "execution_count": 20,
   "id": "72278267",
   "metadata": {},
   "outputs": [],
   "source": [
    "\n",
    "\n",
    "# print(data_dict)"
   ]
  },
  {
   "cell_type": "code",
   "execution_count": 21,
   "id": "a0d57c4c",
   "metadata": {},
   "outputs": [],
   "source": [
    "# for i in land_area:\n",
    "#     print(i.text)"
   ]
  },
  {
   "cell_type": "code",
   "execution_count": 22,
   "id": "94cc643d",
   "metadata": {},
   "outputs": [],
   "source": [
    "# # data_dict = {}\n",
    "# for url in urls:\n",
    "#     driver.get(url)\n",
    "\n",
    "#     div_components = driver.find_elements(by='xpath', value='//*[@id=\"sectionOverview\"]/ul/li/div')\n",
    "\n",
    "#     data_dict = {}\n",
    "\n",
    "#     for component in div_components:\n",
    "#         # Get the h3 and h5 elements\n",
    "#         h3_element = component.find_element(by='xpath', value='./h3')\n",
    "#         h5_element = component.find_element(by='xpath', value='./h5')\n",
    "\n",
    "#         # Get the text from the h3 and h5 elements\n",
    "#         title = h3_element.text\n",
    "#         value = h5_element.text\n",
    "\n",
    "#         # Store the data in the dictionary with the title as key\n",
    "#         data_dict[title] = value\n",
    "\n",
    "#     # Print the dictionary\n",
    "#     print(data_dict)\n"
   ]
  },
  {
   "cell_type": "code",
   "execution_count": 23,
   "id": "b974b842",
   "metadata": {},
   "outputs": [],
   "source": [
    "# driver.get(urls[0])\n",
    "# main_component = driver.find_element(by='xpath',value='//*[@id=\"__next\"]/div[3]/div[3]/section[1]/div/div/div[2]/div[1]')\n",
    "# print(main_component.text)"
   ]
  },
  {
   "cell_type": "code",
   "execution_count": 24,
   "id": "1dc09efe",
   "metadata": {},
   "outputs": [],
   "source": [
    "# title = main_component.find_element(by='xpath',value='./div/div/div/div/h1')\n",
    "# location = main_component.find_element(by='xpath',value='./div/div/div/div/p[@class=\"location\"]')\n",
    "# price=main_component.find_element(by='xpath',value='./div/div/div/div/p[@class=\"price\"]')\n",
    "# posted_on = main_component.find_element(by='xpath',value='./div/div/div[@class=\"details--hero-header-sub\"]/span[4]')\n",
    "# views = main_component.find_element(by='xpath',value='./div/div/div[@class=\"details--hero-header-sub\"]/span[5]')\n",
    "# print(title.text,\"\\n\",location.text)\n",
    "# print(price.text)\n",
    "# print(posted_on.text[11:])\n",
    "# print(views.text[:3])"
   ]
  },
  {
   "cell_type": "code",
   "execution_count": 25,
   "id": "747d8aa3",
   "metadata": {},
   "outputs": [],
   "source": [
    "# amenity_dataset={}\n",
    "# Amenities = main_component.find_elements(by='xpath',value='./div/div[@id=\"sectionAmenities\"]/ul')\n",
    "# for i in Amenities:\n",
    "#     amenity_dataset['amenity']=i.text.replace(\"\\n\",\",\")\n",
    "# # print(Amenities.text)\n",
    "# print(amenity_dataset)"
   ]
  },
  {
   "cell_type": "code",
   "execution_count": 26,
   "id": "a841ea74",
   "metadata": {},
   "outputs": [],
   "source": [
    "data_list=[]\n",
    "start_time = time.time()\n",
    "for url in urls:\n",
    "    driver.get(url)\n",
    "    data_dict = {}\n",
    "    main_component = driver.find_element(by='xpath',value='//*[@id=\"__next\"]/div[3]/div[3]/section[1]/div/div/div[2]/div[1]')\n",
    "    title = main_component.find_element(by='xpath',value='./div/div/div/div/h1')\n",
    "    location = main_component.find_element(by='xpath',value='./div/div/div/div/p[@class=\"location\"]')\n",
    "    price=main_component.find_element(by='xpath',value='./div/div/div/div/p[@class=\"price\"]')\n",
    "    posted_on = main_component.find_element(by='xpath',value='./div/div/div[@class=\"details--hero-header-sub\"]/span[4]')\n",
    "    views = main_component.find_element(by='xpath',value='./div/div/div[@class=\"details--hero-header-sub\"]/span[5]')\n",
    "    div_components = driver.find_elements(by='xpath', value='//*[@id=\"sectionOverview\"]/ul/li/div')\n",
    "\n",
    "    data_dict['title'] = title.text\n",
    "    data_dict['location'] = location.text\n",
    "    data_dict['price'] = price.text\n",
    "    data_dict['posted_on'] = posted_on.text[11:]\n",
    "    data_dict['views'] = views.text[:3]\n",
    "\n",
    "    for component in div_components:\n",
    "        # Get the h3 and h5 elements\n",
    "        h3_element = component.find_element(by='xpath', value='./h3')\n",
    "        h5_element = component.find_element(by='xpath', value='./h5')\n",
    "\n",
    "        # Get the text from the h3 and h5 elements\n",
    "        key = h3_element.text\n",
    "        value = h5_element.text\n",
    "\n",
    "        # Store the data in the dictionary with the title as key\n",
    "        data_dict[key] = value\n",
    "        \n",
    "    Amenities = main_component.find_elements(by='xpath',value='./div/div[@id=\"sectionAmenities\"]/ul')\n",
    "    for i in Amenities:\n",
    "        data_dict['amenity']=i.text.replace(\"\\n\",\",\")\n",
    "    \n",
    "    data_dict['url']=url\n",
    "    # Print the dictionary\n",
    "    data_list.append(data_dict)\n",
    "\n",
    "end_time = time.time()"
   ]
  },
  {
   "cell_type": "code",
   "execution_count": 27,
   "id": "9735c37e",
   "metadata": {},
   "outputs": [],
   "source": [
    "# import pandas as pd\n",
    "\n",
    "# df = pd.DataFrame(data_dict)\n",
    "# df_homedata.to_csv('details.csv')"
   ]
  },
  {
   "cell_type": "code",
   "execution_count": 35,
   "id": "68323799",
   "metadata": {},
   "outputs": [
    {
     "name": "stdout",
     "output_type": "stream",
     "text": [
      "2340\n",
      "Hose Details Extration time: 3833.389058828354 sec\n"
     ]
    }
   ],
   "source": [
    "print(len(data_list))\n",
    "print(\"Hose Details Extration time:\",end_time-start_time,\"sec\")"
   ]
  },
  {
   "cell_type": "code",
   "execution_count": 217,
   "id": "d45e25eb",
   "metadata": {},
   "outputs": [
    {
     "ename": "PermissionError",
     "evalue": "[Errno 13] Permission denied: 'real_estate_data.csv'",
     "output_type": "error",
     "traceback": [
      "\u001b[1;31m---------------------------------------------------------------------------\u001b[0m",
      "\u001b[1;31mPermissionError\u001b[0m                           Traceback (most recent call last)",
      "\u001b[1;32m~\\AppData\\Local\\Temp\\ipykernel_1660\\395385920.py\u001b[0m in \u001b[0;36m<module>\u001b[1;34m\u001b[0m\n\u001b[0;32m     10\u001b[0m \u001b[1;33m\u001b[0m\u001b[0m\n\u001b[0;32m     11\u001b[0m \u001b[1;31m# Create the CSV file and write the data\u001b[0m\u001b[1;33m\u001b[0m\u001b[1;33m\u001b[0m\u001b[0m\n\u001b[1;32m---> 12\u001b[1;33m \u001b[1;32mwith\u001b[0m \u001b[0mopen\u001b[0m\u001b[1;33m(\u001b[0m\u001b[1;34m'real_estate_data.csv'\u001b[0m\u001b[1;33m,\u001b[0m \u001b[1;34m'w'\u001b[0m\u001b[1;33m,\u001b[0m \u001b[0mnewline\u001b[0m\u001b[1;33m=\u001b[0m\u001b[1;34m''\u001b[0m\u001b[1;33m,\u001b[0m \u001b[0mencoding\u001b[0m\u001b[1;33m=\u001b[0m\u001b[1;34m'utf-8'\u001b[0m\u001b[1;33m)\u001b[0m \u001b[1;32mas\u001b[0m \u001b[0mcsvfile\u001b[0m\u001b[1;33m:\u001b[0m\u001b[1;33m\u001b[0m\u001b[1;33m\u001b[0m\u001b[0m\n\u001b[0m\u001b[0;32m     13\u001b[0m     \u001b[1;31m# Define the field names for the CSV file\u001b[0m\u001b[1;33m\u001b[0m\u001b[1;33m\u001b[0m\u001b[0m\n\u001b[0;32m     14\u001b[0m     \u001b[0mfieldnames\u001b[0m \u001b[1;33m=\u001b[0m \u001b[1;33m[\u001b[0m\u001b[1;34m'title'\u001b[0m\u001b[1;33m,\u001b[0m \u001b[1;34m'location'\u001b[0m\u001b[1;33m,\u001b[0m \u001b[1;34m'price'\u001b[0m\u001b[1;33m,\u001b[0m \u001b[1;34m'posted_on'\u001b[0m\u001b[1;33m,\u001b[0m \u001b[1;34m'views'\u001b[0m\u001b[1;33m,\u001b[0m \u001b[1;34m'LAND AREA'\u001b[0m\u001b[1;33m,\u001b[0m \u001b[1;34m'ROAD ACCESS'\u001b[0m\u001b[1;33m,\u001b[0m \u001b[1;34m'FACING'\u001b[0m\u001b[1;33m,\u001b[0m \u001b[1;34m'FLOOR'\u001b[0m\u001b[1;33m,\u001b[0m \u001b[1;34m'FURNISH STATUS'\u001b[0m\u001b[1;33m,\u001b[0m \u001b[1;34m'PARKING'\u001b[0m\u001b[1;33m,\u001b[0m \u001b[1;34m'BEDROOM'\u001b[0m\u001b[1;33m,\u001b[0m \u001b[1;34m'BATHROOM'\u001b[0m\u001b[1;33m,\u001b[0m \u001b[1;34m'BUILTUP AREA'\u001b[0m\u001b[1;33m,\u001b[0m \u001b[1;34m'BUILT YEAR'\u001b[0m\u001b[1;33m,\u001b[0m \u001b[1;34m'amenity'\u001b[0m\u001b[1;33m]\u001b[0m\u001b[1;33m\u001b[0m\u001b[1;33m\u001b[0m\u001b[0m\n",
      "\u001b[1;31mPermissionError\u001b[0m: [Errno 13] Permission denied: 'real_estate_data.csv'"
     ]
    }
   ],
   "source": [
    "# import csv\n",
    "\n",
    "# # Create a list to store all the data dictionaries\n",
    "# all_data = []\n",
    "\n",
    "# # Your existing code here...\n",
    "\n",
    "#     # Add the current data_dict to the all_data list\n",
    "# all_data.append(data_dict)\n",
    "\n",
    "# # Create the CSV file and write the data\n",
    "# with open('real_estate_data.csv', 'w', newline='', encoding='utf-8') as csvfile:\n",
    "#     # Define the field names for the CSV file\n",
    "#     fieldnames = ['title', 'location', 'price', 'posted_on', 'views', 'LAND AREA', 'ROAD ACCESS', 'FACING', 'FLOOR', 'FURNISH STATUS', 'PARKING', 'BEDROOM', 'BATHROOM', 'BUILTUP AREA', 'BUILT YEAR', 'amenity']\n",
    "\n",
    "#     # Create the CSV writer object\n",
    "#     writer = csv.DictWriter(csvfile, fieldnames=fieldnames)\n",
    "\n",
    "#     # Write the header row to the CSV file\n",
    "#     writer.writeheader()\n",
    "\n",
    "#     # Write each data dictionary as a row in the CSV file\n",
    "#     for data_dict in all_data:\n",
    "#         writer.writerow(data_dict)"
   ]
  },
  {
   "cell_type": "code",
   "execution_count": 29,
   "id": "afe9446e",
   "metadata": {},
   "outputs": [],
   "source": [
    "import pandas as pd\n",
    "\n",
    "df = pd.DataFrame(data_list)\n",
    "df.to_csv('dataset_nepalhomes.csv',index=False)"
   ]
  },
  {
   "cell_type": "code",
   "execution_count": 30,
   "id": "947af30b",
   "metadata": {},
   "outputs": [],
   "source": [
    "df_input = pd.read_csv('dataset_nepalhomes.csv')"
   ]
  },
  {
   "cell_type": "code",
   "execution_count": 32,
   "id": "34fbf87f",
   "metadata": {},
   "outputs": [
    {
     "data": {
      "text/html": [
       "<div>\n",
       "<style scoped>\n",
       "    .dataframe tbody tr th:only-of-type {\n",
       "        vertical-align: middle;\n",
       "    }\n",
       "\n",
       "    .dataframe tbody tr th {\n",
       "        vertical-align: top;\n",
       "    }\n",
       "\n",
       "    .dataframe thead th {\n",
       "        text-align: right;\n",
       "    }\n",
       "</style>\n",
       "<table border=\"1\" class=\"dataframe\">\n",
       "  <thead>\n",
       "    <tr style=\"text-align: right;\">\n",
       "      <th></th>\n",
       "      <th>title</th>\n",
       "      <th>location</th>\n",
       "      <th>price</th>\n",
       "      <th>posted_on</th>\n",
       "      <th>views</th>\n",
       "      <th>LAND AREA</th>\n",
       "      <th>ROAD ACCESS</th>\n",
       "      <th>FACING</th>\n",
       "      <th>FLOOR</th>\n",
       "      <th>PARKING</th>\n",
       "      <th>BEDROOM</th>\n",
       "      <th>BATHROOM</th>\n",
       "      <th>FURNISH STATUS</th>\n",
       "      <th>amenity</th>\n",
       "      <th>url</th>\n",
       "      <th>BUILTUP AREA</th>\n",
       "      <th>BUILT YEAR</th>\n",
       "    </tr>\n",
       "  </thead>\n",
       "  <tbody>\n",
       "    <tr>\n",
       "      <th>2335</th>\n",
       "      <td>A Bungalow on sale at Banasthali Kathmandu</td>\n",
       "      <td>Banasthali, Kathmandu</td>\n",
       "      <td>Rs. 10 Cr</td>\n",
       "      <td>Mar 12, 2020</td>\n",
       "      <td>49</td>\n",
       "      <td>12.0 aana</td>\n",
       "      <td>13-20 Feet</td>\n",
       "      <td>North</td>\n",
       "      <td>2.5</td>\n",
       "      <td>NaN</td>\n",
       "      <td>5.0</td>\n",
       "      <td>6.0</td>\n",
       "      <td>Semi-Furnished</td>\n",
       "      <td>NaN</td>\n",
       "      <td>https://www.nepalhomes.com/detail/a-bungalow-o...</td>\n",
       "      <td>4500 Sq. Meter</td>\n",
       "      <td>2074 BS</td>\n",
       "    </tr>\n",
       "    <tr>\n",
       "      <th>2336</th>\n",
       "      <td>Residential House On Sale At Gokarneshwor, Kat...</td>\n",
       "      <td>Gorkarneshwor, Kathmandu</td>\n",
       "      <td>Rs. 2.7 Cr</td>\n",
       "      <td>Mar 11, 2020</td>\n",
       "      <td>41</td>\n",
       "      <td>4.0 aana</td>\n",
       "      <td>11 Feet</td>\n",
       "      <td>West</td>\n",
       "      <td>4.5</td>\n",
       "      <td>NaN</td>\n",
       "      <td>8.0</td>\n",
       "      <td>4.0</td>\n",
       "      <td>Semi-Furnished</td>\n",
       "      <td>NaN</td>\n",
       "      <td>https://www.nepalhomes.com/detail/residential-...</td>\n",
       "      <td>NaN</td>\n",
       "      <td>2072 BS</td>\n",
       "    </tr>\n",
       "    <tr>\n",
       "      <th>2337</th>\n",
       "      <td>Bungalow house for sale in Bijulibazar, Thapagaun</td>\n",
       "      <td>Bijulibajar, Kathmandu</td>\n",
       "      <td>Rs. 5 Cr</td>\n",
       "      <td>Mar 4, 2020</td>\n",
       "      <td>368</td>\n",
       "      <td>6.0 aana</td>\n",
       "      <td>14 Feet</td>\n",
       "      <td>South-East</td>\n",
       "      <td>3.0</td>\n",
       "      <td>NaN</td>\n",
       "      <td>10.0</td>\n",
       "      <td>5.0</td>\n",
       "      <td>Un-Furnished</td>\n",
       "      <td>NaN</td>\n",
       "      <td>https://www.nepalhomes.com/detail/bungalow-hou...</td>\n",
       "      <td>NaN</td>\n",
       "      <td>0 BS</td>\n",
       "    </tr>\n",
       "    <tr>\n",
       "      <th>2338</th>\n",
       "      <td>House for SALE at Kusunti, Lalitpur</td>\n",
       "      <td>Kusunti, Lalitpur</td>\n",
       "      <td>Rs. 4.25 Cr</td>\n",
       "      <td>Mar 4, 2020</td>\n",
       "      <td>64</td>\n",
       "      <td>5.2 aana</td>\n",
       "      <td>15 Feet</td>\n",
       "      <td>South-West</td>\n",
       "      <td>2.5</td>\n",
       "      <td>NaN</td>\n",
       "      <td>4.0</td>\n",
       "      <td>4.0</td>\n",
       "      <td>Un-Furnished</td>\n",
       "      <td>NaN</td>\n",
       "      <td>https://www.nepalhomes.com/detail/house-for-sa...</td>\n",
       "      <td>NaN</td>\n",
       "      <td>2076 BS</td>\n",
       "    </tr>\n",
       "    <tr>\n",
       "      <th>2339</th>\n",
       "      <td>Resort on SALE at Godawari</td>\n",
       "      <td>Godawari, Lalitpur</td>\n",
       "      <td>Rs. 25.1 Cr</td>\n",
       "      <td>Mar 4, 2020</td>\n",
       "      <td>514</td>\n",
       "      <td>162.0 aana</td>\n",
       "      <td>16 Feet</td>\n",
       "      <td>North-East</td>\n",
       "      <td>3.0</td>\n",
       "      <td>NaN</td>\n",
       "      <td>NaN</td>\n",
       "      <td>NaN</td>\n",
       "      <td>Semi-Furnished</td>\n",
       "      <td>NaN</td>\n",
       "      <td>https://www.nepalhomes.com/detail/resort-on-sa...</td>\n",
       "      <td>NaN</td>\n",
       "      <td>0 BS</td>\n",
       "    </tr>\n",
       "  </tbody>\n",
       "</table>\n",
       "</div>"
      ],
      "text/plain": [
       "                                                  title  \\\n",
       "2335         A Bungalow on sale at Banasthali Kathmandu   \n",
       "2336  Residential House On Sale At Gokarneshwor, Kat...   \n",
       "2337  Bungalow house for sale in Bijulibazar, Thapagaun   \n",
       "2338                House for SALE at Kusunti, Lalitpur   \n",
       "2339                         Resort on SALE at Godawari   \n",
       "\n",
       "                      location        price     posted_on views   LAND AREA  \\\n",
       "2335     Banasthali, Kathmandu    Rs. 10 Cr  Mar 12, 2020   49    12.0 aana   \n",
       "2336  Gorkarneshwor, Kathmandu   Rs. 2.7 Cr  Mar 11, 2020   41     4.0 aana   \n",
       "2337    Bijulibajar, Kathmandu     Rs. 5 Cr   Mar 4, 2020   368    6.0 aana   \n",
       "2338         Kusunti, Lalitpur  Rs. 4.25 Cr   Mar 4, 2020   64     5.2 aana   \n",
       "2339        Godawari, Lalitpur  Rs. 25.1 Cr   Mar 4, 2020   514  162.0 aana   \n",
       "\n",
       "     ROAD ACCESS      FACING  FLOOR PARKING  BEDROOM  BATHROOM  \\\n",
       "2335  13-20 Feet       North    2.5     NaN      5.0       6.0   \n",
       "2336     11 Feet        West    4.5     NaN      8.0       4.0   \n",
       "2337     14 Feet  South-East    3.0     NaN     10.0       5.0   \n",
       "2338     15 Feet  South-West    2.5     NaN      4.0       4.0   \n",
       "2339     16 Feet  North-East    3.0     NaN      NaN       NaN   \n",
       "\n",
       "      FURNISH STATUS amenity  \\\n",
       "2335  Semi-Furnished     NaN   \n",
       "2336  Semi-Furnished     NaN   \n",
       "2337    Un-Furnished     NaN   \n",
       "2338    Un-Furnished     NaN   \n",
       "2339  Semi-Furnished     NaN   \n",
       "\n",
       "                                                    url    BUILTUP AREA  \\\n",
       "2335  https://www.nepalhomes.com/detail/a-bungalow-o...  4500 Sq. Meter   \n",
       "2336  https://www.nepalhomes.com/detail/residential-...             NaN   \n",
       "2337  https://www.nepalhomes.com/detail/bungalow-hou...             NaN   \n",
       "2338  https://www.nepalhomes.com/detail/house-for-sa...             NaN   \n",
       "2339  https://www.nepalhomes.com/detail/resort-on-sa...             NaN   \n",
       "\n",
       "     BUILT YEAR  \n",
       "2335    2074 BS  \n",
       "2336    2072 BS  \n",
       "2337       0 BS  \n",
       "2338    2076 BS  \n",
       "2339       0 BS  "
      ]
     },
     "execution_count": 32,
     "metadata": {},
     "output_type": "execute_result"
    }
   ],
   "source": [
    "df_input.tail()"
   ]
  },
  {
   "cell_type": "code",
   "execution_count": null,
   "id": "70ae5c99",
   "metadata": {},
   "outputs": [],
   "source": []
  }
 ],
 "metadata": {
  "kernelspec": {
   "display_name": "Python 3 (ipykernel)",
   "language": "python",
   "name": "python3"
  },
  "language_info": {
   "codemirror_mode": {
    "name": "ipython",
    "version": 3
   },
   "file_extension": ".py",
   "mimetype": "text/x-python",
   "name": "python",
   "nbconvert_exporter": "python",
   "pygments_lexer": "ipython3",
   "version": "3.10.11"
  }
 },
 "nbformat": 4,
 "nbformat_minor": 5
}
