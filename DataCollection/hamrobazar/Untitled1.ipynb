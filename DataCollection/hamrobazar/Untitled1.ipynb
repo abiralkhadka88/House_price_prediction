{
 "cells": [
  {
   "cell_type": "code",
   "execution_count": 1,
   "id": "27738c45",
   "metadata": {},
   "outputs": [],
   "source": [
    "import pandas as pd"
   ]
  },
  {
   "cell_type": "code",
   "execution_count": 2,
   "id": "d259c3f1",
   "metadata": {},
   "outputs": [],
   "source": [
    "df1 = pd.read_csv('hamrobazar.csv')"
   ]
  },
  {
   "cell_type": "code",
   "execution_count": 3,
   "id": "18ff8cfd",
   "metadata": {},
   "outputs": [],
   "source": [
    "df2 = pd.read_csv('hamrobazar2.csv')"
   ]
  },
  {
   "cell_type": "code",
   "execution_count": 4,
   "id": "65b30a0c",
   "metadata": {},
   "outputs": [],
   "source": [
    "merged_df = pd.concat([df1, df2])"
   ]
  },
  {
   "cell_type": "code",
   "execution_count": 9,
   "id": "7f011970",
   "metadata": {},
   "outputs": [
    {
     "data": {
      "text/plain": [
       "0"
      ]
     },
     "execution_count": 9,
     "metadata": {},
     "output_type": "execute_result"
    }
   ],
   "source": []
  },
  {
   "cell_type": "code",
   "execution_count": 12,
   "id": "a037e098",
   "metadata": {},
   "outputs": [],
   "source": [
    "merged_df.to_csv('sub_hamrobazar.csv')"
   ]
  },
  {
   "cell_type": "code",
   "execution_count": null,
   "id": "b4085164",
   "metadata": {},
   "outputs": [],
   "source": []
  }
 ],
 "metadata": {
  "kernelspec": {
   "display_name": "Python 3 (ipykernel)",
   "language": "python",
   "name": "python3"
  },
  "language_info": {
   "codemirror_mode": {
    "name": "ipython",
    "version": 3
   },
   "file_extension": ".py",
   "mimetype": "text/x-python",
   "name": "python",
   "nbconvert_exporter": "python",
   "pygments_lexer": "ipython3",
   "version": "3.10.9"
  }
 },
 "nbformat": 4,
 "nbformat_minor": 5
}
