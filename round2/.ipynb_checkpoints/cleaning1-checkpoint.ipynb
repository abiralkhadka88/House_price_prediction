{
 "cells": [
  {
   "cell_type": "code",
   "execution_count": 98,
   "id": "2898451f",
   "metadata": {},
   "outputs": [],
   "source": [
    "# Importing the libraries \n",
    "import pandas as pd\n",
    "import numpy as np\n",
    "from sklearn import metrics\n",
    "import matplotlib.pyplot as plt\n",
    "import seaborn as sns\n",
    "%matplotlib inline"
   ]
  },
  {
   "cell_type": "code",
   "execution_count": 99,
   "id": "9f1cc033",
   "metadata": {},
   "outputs": [],
   "source": [
    "df = pd.read_csv('merged_AB_AS_MB_SM.csv')"
   ]
  },
  {
   "cell_type": "code",
   "execution_count": 100,
   "id": "364eb103",
   "metadata": {},
   "outputs": [
    {
     "data": {
      "text/html": [
       "<div>\n",
       "<style scoped>\n",
       "    .dataframe tbody tr th:only-of-type {\n",
       "        vertical-align: middle;\n",
       "    }\n",
       "\n",
       "    .dataframe tbody tr th {\n",
       "        vertical-align: top;\n",
       "    }\n",
       "\n",
       "    .dataframe thead th {\n",
       "        text-align: right;\n",
       "    }\n",
       "</style>\n",
       "<table border=\"1\" class=\"dataframe\">\n",
       "  <thead>\n",
       "    <tr style=\"text-align: right;\">\n",
       "      <th></th>\n",
       "      <th>Floors</th>\n",
       "      <th>City</th>\n",
       "      <th>Address</th>\n",
       "      <th>Land</th>\n",
       "      <th>Price</th>\n",
       "      <th>Bedroom</th>\n",
       "      <th>Bathroom</th>\n",
       "      <th>Face</th>\n",
       "      <th>Road</th>\n",
       "    </tr>\n",
       "  </thead>\n",
       "  <tbody>\n",
       "    <tr>\n",
       "      <th>0</th>\n",
       "      <td>NaN</td>\n",
       "      <td>Kathmandu</td>\n",
       "      <td>Pepsicola</td>\n",
       "      <td>200.0000</td>\n",
       "      <td>500000.0</td>\n",
       "      <td>0.0</td>\n",
       "      <td>0.0</td>\n",
       "      <td>South East</td>\n",
       "      <td>0.0</td>\n",
       "    </tr>\n",
       "    <tr>\n",
       "      <th>1</th>\n",
       "      <td>12.0</td>\n",
       "      <td>Lalitpur</td>\n",
       "      <td>Jhamsikhel</td>\n",
       "      <td>683.0000</td>\n",
       "      <td>40000.0</td>\n",
       "      <td>2.0</td>\n",
       "      <td>1.0</td>\n",
       "      <td>South</td>\n",
       "      <td>0.0</td>\n",
       "    </tr>\n",
       "    <tr>\n",
       "      <th>2</th>\n",
       "      <td>2.5</td>\n",
       "      <td>Kathmandu</td>\n",
       "      <td>Golfutar</td>\n",
       "      <td>1779.7000</td>\n",
       "      <td>43000000.0</td>\n",
       "      <td>5.0</td>\n",
       "      <td>5.0</td>\n",
       "      <td>East</td>\n",
       "      <td>0.0</td>\n",
       "    </tr>\n",
       "    <tr>\n",
       "      <th>3</th>\n",
       "      <td>NaN</td>\n",
       "      <td>Kathmandu</td>\n",
       "      <td>Budhanilkantha</td>\n",
       "      <td>1369.0000</td>\n",
       "      <td>35000000.0</td>\n",
       "      <td>0.0</td>\n",
       "      <td>0.0</td>\n",
       "      <td>North East</td>\n",
       "      <td>0.0</td>\n",
       "    </tr>\n",
       "    <tr>\n",
       "      <th>4</th>\n",
       "      <td>NaN</td>\n",
       "      <td>Kathmandu</td>\n",
       "      <td>Dhumbarahi</td>\n",
       "      <td>2481.3125</td>\n",
       "      <td>51700000.0</td>\n",
       "      <td>0.0</td>\n",
       "      <td>0.0</td>\n",
       "      <td>East</td>\n",
       "      <td>0.0</td>\n",
       "    </tr>\n",
       "    <tr>\n",
       "      <th>5</th>\n",
       "      <td>NaN</td>\n",
       "      <td>Lalitpur</td>\n",
       "      <td>Bhaisepati</td>\n",
       "      <td>1796.8125</td>\n",
       "      <td>150000.0</td>\n",
       "      <td>4.0</td>\n",
       "      <td>4.0</td>\n",
       "      <td>East</td>\n",
       "      <td>0.0</td>\n",
       "    </tr>\n",
       "    <tr>\n",
       "      <th>6</th>\n",
       "      <td>NaN</td>\n",
       "      <td>Kathmandu</td>\n",
       "      <td>Thamel</td>\n",
       "      <td>10952.0000</td>\n",
       "      <td>1800000.0</td>\n",
       "      <td>43.0</td>\n",
       "      <td>20.0</td>\n",
       "      <td>East</td>\n",
       "      <td>0.0</td>\n",
       "    </tr>\n",
       "    <tr>\n",
       "      <th>7</th>\n",
       "      <td>NaN</td>\n",
       "      <td>Kathmandu</td>\n",
       "      <td>Budhanilkantha</td>\n",
       "      <td>10952.0000</td>\n",
       "      <td>150000000.0</td>\n",
       "      <td>0.0</td>\n",
       "      <td>0.0</td>\n",
       "      <td>South East</td>\n",
       "      <td>0.0</td>\n",
       "    </tr>\n",
       "    <tr>\n",
       "      <th>8</th>\n",
       "      <td>7.0</td>\n",
       "      <td>Kathmandu</td>\n",
       "      <td>Thamel</td>\n",
       "      <td>53.6700</td>\n",
       "      <td>95000000.0</td>\n",
       "      <td>0.0</td>\n",
       "      <td>0.0</td>\n",
       "      <td>North West</td>\n",
       "      <td>0.0</td>\n",
       "    </tr>\n",
       "    <tr>\n",
       "      <th>9</th>\n",
       "      <td>NaN</td>\n",
       "      <td>Bhaktapur</td>\n",
       "      <td>Nagarkot</td>\n",
       "      <td>2053.5000</td>\n",
       "      <td>5550000.0</td>\n",
       "      <td>0.0</td>\n",
       "      <td>0.0</td>\n",
       "      <td>North East</td>\n",
       "      <td>0.0</td>\n",
       "    </tr>\n",
       "  </tbody>\n",
       "</table>\n",
       "</div>"
      ],
      "text/plain": [
       "   Floors        City         Address        Land        Price  Bedroom  \\\n",
       "0     NaN   Kathmandu       Pepsicola    200.0000     500000.0      0.0   \n",
       "1    12.0    Lalitpur      Jhamsikhel    683.0000      40000.0      2.0   \n",
       "2     2.5   Kathmandu        Golfutar   1779.7000   43000000.0      5.0   \n",
       "3     NaN   Kathmandu  Budhanilkantha   1369.0000   35000000.0      0.0   \n",
       "4     NaN   Kathmandu      Dhumbarahi   2481.3125   51700000.0      0.0   \n",
       "5     NaN    Lalitpur      Bhaisepati   1796.8125     150000.0      4.0   \n",
       "6     NaN   Kathmandu          Thamel  10952.0000    1800000.0     43.0   \n",
       "7     NaN   Kathmandu  Budhanilkantha  10952.0000  150000000.0      0.0   \n",
       "8     7.0   Kathmandu          Thamel     53.6700   95000000.0      0.0   \n",
       "9     NaN   Bhaktapur        Nagarkot   2053.5000    5550000.0      0.0   \n",
       "\n",
       "   Bathroom        Face  Road  \n",
       "0       0.0  South East   0.0  \n",
       "1       1.0       South   0.0  \n",
       "2       5.0        East   0.0  \n",
       "3       0.0  North East   0.0  \n",
       "4       0.0        East   0.0  \n",
       "5       4.0        East   0.0  \n",
       "6      20.0        East   0.0  \n",
       "7       0.0  South East   0.0  \n",
       "8       0.0  North West   0.0  \n",
       "9       0.0  North East   0.0  "
      ]
     },
     "execution_count": 100,
     "metadata": {},
     "output_type": "execute_result"
    }
   ],
   "source": [
    "df.head(10)"
   ]
  },
  {
   "cell_type": "code",
   "execution_count": 101,
   "id": "5a25a5db",
   "metadata": {},
   "outputs": [
    {
     "data": {
      "text/plain": [
       "East              1479\n",
       "South              810\n",
       "West               679\n",
       "North              508\n",
       "South East         451\n",
       "North East         334\n",
       "South West         253\n",
       "North West         144\n",
       "west                 6\n",
       "North/East           4\n",
       "South/East           2\n",
       "North/West           2\n",
       "east                 2\n",
       "East/North           1\n",
       "South to East        1\n",
       "south                1\n",
       "east and north       1\n",
       "east/west            1\n",
       "East-South           1\n",
       "South-West           1\n",
       "north                1\n",
       "north/east           1\n",
       "Name: Face, dtype: int64"
      ]
     },
     "execution_count": 101,
     "metadata": {},
     "output_type": "execute_result"
    }
   ],
   "source": [
    "df['Face'].value_counts()\n"
   ]
  },
  {
   "cell_type": "code",
   "execution_count": 102,
   "id": "6ec86362",
   "metadata": {},
   "outputs": [],
   "source": [
    "df['Face'] = df['Face'].str.lower()\n"
   ]
  },
  {
   "cell_type": "code",
   "execution_count": 103,
   "id": "f84b8a3a",
   "metadata": {},
   "outputs": [
    {
     "data": {
      "text/plain": [
       "east              1481\n",
       "south              811\n",
       "west               685\n",
       "north              509\n",
       "south east         451\n",
       "north east         334\n",
       "south west         253\n",
       "north west         144\n",
       "north/east           5\n",
       "north/west           2\n",
       "south/east           2\n",
       "east/west            1\n",
       "south-west           1\n",
       "east-south           1\n",
       "south to east        1\n",
       "east and north       1\n",
       "east/north           1\n",
       "Name: Face, dtype: int64"
      ]
     },
     "execution_count": 103,
     "metadata": {},
     "output_type": "execute_result"
    }
   ],
   "source": [
    "df['Face'].value_counts()"
   ]
  },
  {
   "cell_type": "code",
   "execution_count": 104,
   "id": "e56ae340",
   "metadata": {},
   "outputs": [],
   "source": [
    "df['Face'] = df['Face'].str.replace('/', ' ').str.replace('-', ' ')\n"
   ]
  },
  {
   "cell_type": "code",
   "execution_count": 105,
   "id": "6a537653",
   "metadata": {},
   "outputs": [
    {
     "data": {
      "text/plain": [
       "east              1481\n",
       "south              811\n",
       "west               685\n",
       "north              509\n",
       "south east         453\n",
       "north east         339\n",
       "south west         254\n",
       "north west         146\n",
       "east west            1\n",
       "east south           1\n",
       "south to east        1\n",
       "east and north       1\n",
       "east north           1\n",
       "Name: Face, dtype: int64"
      ]
     },
     "execution_count": 105,
     "metadata": {},
     "output_type": "execute_result"
    }
   ],
   "source": [
    "df['Face'].value_counts()"
   ]
  },
  {
   "cell_type": "code",
   "execution_count": 106,
   "id": "ffa5d46e",
   "metadata": {},
   "outputs": [],
   "source": [
    "df['Face']= df['Face'].str.replace('to','')"
   ]
  },
  {
   "cell_type": "code",
   "execution_count": 107,
   "id": "5ab6829e",
   "metadata": {},
   "outputs": [],
   "source": [
    "df['Face']= df['Face'].str.replace('and','')"
   ]
  },
  {
   "cell_type": "code",
   "execution_count": 108,
   "id": "a3c0b711",
   "metadata": {},
   "outputs": [
    {
     "data": {
      "text/plain": [
       "east           1481\n",
       "south           811\n",
       "west            685\n",
       "north           509\n",
       "south east      453\n",
       "north east      339\n",
       "south west      254\n",
       "north west      146\n",
       "east west         1\n",
       "east south        1\n",
       "south  east       1\n",
       "east  north       1\n",
       "east north        1\n",
       "Name: Face, dtype: int64"
      ]
     },
     "execution_count": 108,
     "metadata": {},
     "output_type": "execute_result"
    }
   ],
   "source": [
    "df['Face'].value_counts()"
   ]
  },
  {
   "cell_type": "code",
   "execution_count": 109,
   "id": "75c9af18",
   "metadata": {},
   "outputs": [],
   "source": [
    "df['Face'].replace({'east west': 'east',\n",
    "                    'east south': 'south east',\n",
    "                    'south east': 'south east',\n",
    "                    'east north': 'north east',\n",
    "                    'east north': 'north east'}, inplace=True)\n"
   ]
  },
  {
   "cell_type": "code",
   "execution_count": 110,
   "id": "e9acf547",
   "metadata": {},
   "outputs": [
    {
     "data": {
      "text/plain": [
       "east           1482\n",
       "south           811\n",
       "west            685\n",
       "north           509\n",
       "south east      454\n",
       "north east      340\n",
       "south west      254\n",
       "north west      146\n",
       "south  east       1\n",
       "east  north       1\n",
       "Name: Face, dtype: int64"
      ]
     },
     "execution_count": 110,
     "metadata": {},
     "output_type": "execute_result"
    }
   ],
   "source": [
    "df['Face'].value_counts()"
   ]
  },
  {
   "cell_type": "code",
   "execution_count": 111,
   "id": "07ef9e82",
   "metadata": {},
   "outputs": [],
   "source": [
    "df['Face'].replace({\n",
    "                    'south  east': 'south east',\n",
    "                     'east  north': 'north east',\n",
    "                    }, inplace=True)"
   ]
  },
  {
   "cell_type": "code",
   "execution_count": 112,
   "id": "b9ca2b7d",
   "metadata": {},
   "outputs": [
    {
     "data": {
      "text/plain": [
       "east          1482\n",
       "south          811\n",
       "west           685\n",
       "north          509\n",
       "south east     455\n",
       "north east     341\n",
       "south west     254\n",
       "north west     146\n",
       "Name: Face, dtype: int64"
      ]
     },
     "execution_count": 112,
     "metadata": {},
     "output_type": "execute_result"
    }
   ],
   "source": [
    "df['Face'].value_counts()"
   ]
  },
  {
   "cell_type": "code",
   "execution_count": 113,
   "id": "b936adbc",
   "metadata": {},
   "outputs": [],
   "source": [
    "df.to_csv('cleaned_face.csv')"
   ]
  },
  {
   "cell_type": "code",
   "execution_count": 114,
   "id": "09541ae0",
   "metadata": {},
   "outputs": [
    {
     "data": {
      "text/plain": [
       "13.000    1546\n",
       "20.000     799\n",
       "12.000     446\n",
       "15.000     425\n",
       "10.000     384\n",
       "          ... \n",
       "44.000       1\n",
       "22.967       1\n",
       "3.281        1\n",
       "1.000        1\n",
       "13.500       1\n",
       "Name: Road, Length: 65, dtype: int64"
      ]
     },
     "execution_count": 114,
     "metadata": {},
     "output_type": "execute_result"
    }
   ],
   "source": [
    "df['Road'].value_counts()"
   ]
  },
  {
   "cell_type": "code",
   "execution_count": 115,
   "id": "5de278a0",
   "metadata": {},
   "outputs": [
    {
     "data": {
      "text/plain": [
       "Floors       24\n",
       "City          8\n",
       "Address     565\n",
       "Land        465\n",
       "Price       519\n",
       "Bedroom      35\n",
       "Bathroom     30\n",
       "Face          8\n",
       "Road         65\n",
       "dtype: int64"
      ]
     },
     "execution_count": 115,
     "metadata": {},
     "output_type": "execute_result"
    }
   ],
   "source": [
    "df.nunique()"
   ]
  },
  {
   "cell_type": "code",
   "execution_count": 116,
   "id": "223b3e5c",
   "metadata": {},
   "outputs": [
    {
     "data": {
      "text/html": [
       "<div>\n",
       "<style scoped>\n",
       "    .dataframe tbody tr th:only-of-type {\n",
       "        vertical-align: middle;\n",
       "    }\n",
       "\n",
       "    .dataframe tbody tr th {\n",
       "        vertical-align: top;\n",
       "    }\n",
       "\n",
       "    .dataframe thead th {\n",
       "        text-align: right;\n",
       "    }\n",
       "</style>\n",
       "<table border=\"1\" class=\"dataframe\">\n",
       "  <thead>\n",
       "    <tr style=\"text-align: right;\">\n",
       "      <th></th>\n",
       "      <th>Floors</th>\n",
       "      <th>City</th>\n",
       "      <th>Address</th>\n",
       "      <th>Land</th>\n",
       "      <th>Price</th>\n",
       "      <th>Bedroom</th>\n",
       "      <th>Bathroom</th>\n",
       "      <th>Face</th>\n",
       "      <th>Road</th>\n",
       "    </tr>\n",
       "  </thead>\n",
       "  <tbody>\n",
       "    <tr>\n",
       "      <th>0</th>\n",
       "      <td>NaN</td>\n",
       "      <td>Kathmandu</td>\n",
       "      <td>Pepsicola</td>\n",
       "      <td>200.0000</td>\n",
       "      <td>500000.0</td>\n",
       "      <td>0.0</td>\n",
       "      <td>0.0</td>\n",
       "      <td>south east</td>\n",
       "      <td>0.0</td>\n",
       "    </tr>\n",
       "    <tr>\n",
       "      <th>3</th>\n",
       "      <td>NaN</td>\n",
       "      <td>Kathmandu</td>\n",
       "      <td>Budhanilkantha</td>\n",
       "      <td>1369.0000</td>\n",
       "      <td>35000000.0</td>\n",
       "      <td>0.0</td>\n",
       "      <td>0.0</td>\n",
       "      <td>north east</td>\n",
       "      <td>0.0</td>\n",
       "    </tr>\n",
       "    <tr>\n",
       "      <th>4</th>\n",
       "      <td>NaN</td>\n",
       "      <td>Kathmandu</td>\n",
       "      <td>Dhumbarahi</td>\n",
       "      <td>2481.3125</td>\n",
       "      <td>51700000.0</td>\n",
       "      <td>0.0</td>\n",
       "      <td>0.0</td>\n",
       "      <td>east</td>\n",
       "      <td>0.0</td>\n",
       "    </tr>\n",
       "    <tr>\n",
       "      <th>5</th>\n",
       "      <td>NaN</td>\n",
       "      <td>Lalitpur</td>\n",
       "      <td>Bhaisepati</td>\n",
       "      <td>1796.8125</td>\n",
       "      <td>150000.0</td>\n",
       "      <td>4.0</td>\n",
       "      <td>4.0</td>\n",
       "      <td>east</td>\n",
       "      <td>0.0</td>\n",
       "    </tr>\n",
       "    <tr>\n",
       "      <th>6</th>\n",
       "      <td>NaN</td>\n",
       "      <td>Kathmandu</td>\n",
       "      <td>Thamel</td>\n",
       "      <td>10952.0000</td>\n",
       "      <td>1800000.0</td>\n",
       "      <td>43.0</td>\n",
       "      <td>20.0</td>\n",
       "      <td>east</td>\n",
       "      <td>0.0</td>\n",
       "    </tr>\n",
       "    <tr>\n",
       "      <th>...</th>\n",
       "      <td>...</td>\n",
       "      <td>...</td>\n",
       "      <td>...</td>\n",
       "      <td>...</td>\n",
       "      <td>...</td>\n",
       "      <td>...</td>\n",
       "      <td>...</td>\n",
       "      <td>...</td>\n",
       "      <td>...</td>\n",
       "    </tr>\n",
       "    <tr>\n",
       "      <th>5325</th>\n",
       "      <td>NaN</td>\n",
       "      <td>Kathmandu</td>\n",
       "      <td>Surya Darshan Height</td>\n",
       "      <td>NaN</td>\n",
       "      <td>29500000.0</td>\n",
       "      <td>NaN</td>\n",
       "      <td>NaN</td>\n",
       "      <td>NaN</td>\n",
       "      <td>NaN</td>\n",
       "    </tr>\n",
       "    <tr>\n",
       "      <th>5326</th>\n",
       "      <td>2.0</td>\n",
       "      <td>Lalitpur</td>\n",
       "      <td>Villa sunakothi</td>\n",
       "      <td>1454.5600</td>\n",
       "      <td>32500000.0</td>\n",
       "      <td>5.0</td>\n",
       "      <td>3.0</td>\n",
       "      <td>north</td>\n",
       "      <td>NaN</td>\n",
       "    </tr>\n",
       "    <tr>\n",
       "      <th>5327</th>\n",
       "      <td>3.5</td>\n",
       "      <td>Kathmandu</td>\n",
       "      <td>Dhumbarahi</td>\n",
       "      <td>NaN</td>\n",
       "      <td>57000000.0</td>\n",
       "      <td>8.0</td>\n",
       "      <td>7.0</td>\n",
       "      <td>NaN</td>\n",
       "      <td>NaN</td>\n",
       "    </tr>\n",
       "    <tr>\n",
       "      <th>5328</th>\n",
       "      <td>NaN</td>\n",
       "      <td>Kathmandu</td>\n",
       "      <td>Kalanki</td>\n",
       "      <td>NaN</td>\n",
       "      <td>60000000.0</td>\n",
       "      <td>NaN</td>\n",
       "      <td>NaN</td>\n",
       "      <td>NaN</td>\n",
       "      <td>NaN</td>\n",
       "    </tr>\n",
       "    <tr>\n",
       "      <th>5329</th>\n",
       "      <td>NaN</td>\n",
       "      <td>Kathmandu</td>\n",
       "      <td>Bhaktapur</td>\n",
       "      <td>NaN</td>\n",
       "      <td>85000000.0</td>\n",
       "      <td>NaN</td>\n",
       "      <td>NaN</td>\n",
       "      <td>NaN</td>\n",
       "      <td>NaN</td>\n",
       "    </tr>\n",
       "  </tbody>\n",
       "</table>\n",
       "<p>2013 rows × 9 columns</p>\n",
       "</div>"
      ],
      "text/plain": [
       "      Floors       City               Address        Land       Price  \\\n",
       "0        NaN  Kathmandu             Pepsicola    200.0000    500000.0   \n",
       "3        NaN  Kathmandu        Budhanilkantha   1369.0000  35000000.0   \n",
       "4        NaN  Kathmandu            Dhumbarahi   2481.3125  51700000.0   \n",
       "5        NaN   Lalitpur            Bhaisepati   1796.8125    150000.0   \n",
       "6        NaN  Kathmandu                Thamel  10952.0000   1800000.0   \n",
       "...      ...        ...                   ...         ...         ...   \n",
       "5325     NaN  Kathmandu  Surya Darshan Height         NaN  29500000.0   \n",
       "5326     2.0   Lalitpur       Villa sunakothi   1454.5600  32500000.0   \n",
       "5327     3.5  Kathmandu            Dhumbarahi         NaN  57000000.0   \n",
       "5328     NaN  Kathmandu               Kalanki         NaN  60000000.0   \n",
       "5329     NaN  Kathmandu             Bhaktapur         NaN  85000000.0   \n",
       "\n",
       "      Bedroom  Bathroom        Face  Road  \n",
       "0         0.0       0.0  south east   0.0  \n",
       "3         0.0       0.0  north east   0.0  \n",
       "4         0.0       0.0        east   0.0  \n",
       "5         4.0       4.0        east   0.0  \n",
       "6        43.0      20.0        east   0.0  \n",
       "...       ...       ...         ...   ...  \n",
       "5325      NaN       NaN         NaN   NaN  \n",
       "5326      5.0       3.0       north   NaN  \n",
       "5327      8.0       7.0         NaN   NaN  \n",
       "5328      NaN       NaN         NaN   NaN  \n",
       "5329      NaN       NaN         NaN   NaN  \n",
       "\n",
       "[2013 rows x 9 columns]"
      ]
     },
     "execution_count": 116,
     "metadata": {},
     "output_type": "execute_result"
    }
   ],
   "source": [
    "df[df.isnull().any(axis=1)]"
   ]
  },
  {
   "cell_type": "code",
   "execution_count": 117,
   "id": "02eced51",
   "metadata": {},
   "outputs": [
    {
     "data": {
      "text/plain": [
       "Budhanilkantha      375\n",
       "Imadol              345\n",
       "Bhaisepati          168\n",
       "Kapan               131\n",
       "Tikathali            95\n",
       "                   ... \n",
       "Mahaboudha            1\n",
       "Aryal-Gaun            1\n",
       "Dholahiti Height      1\n",
       "Dhapakhel-23          1\n",
       "Villa sunakothi       1\n",
       "Name: Address, Length: 565, dtype: int64"
      ]
     },
     "execution_count": 117,
     "metadata": {},
     "output_type": "execute_result"
    }
   ],
   "source": [
    "df['Address'].value_counts()"
   ]
  },
  {
   "cell_type": "code",
   "execution_count": 118,
   "id": "25e03d38",
   "metadata": {},
   "outputs": [
    {
     "data": {
      "text/plain": [
       "181"
      ]
     },
     "execution_count": 118,
     "metadata": {},
     "output_type": "execute_result"
    }
   ],
   "source": [
    "count_gt_10 = (df['Address'].value_counts() > 5).sum()\n",
    "count_gt_10"
   ]
  },
  {
   "cell_type": "code",
   "execution_count": 22,
   "id": "19d2ef67",
   "metadata": {},
   "outputs": [],
   "source": [
    "address_counts = df['Address'].value_counts()\n",
    "filtered_df = df[df['Address'].isin(address_counts[address_counts >= 5].index)]\n"
   ]
  },
  {
   "cell_type": "code",
   "execution_count": 23,
   "id": "ccd0b4e9",
   "metadata": {},
   "outputs": [
    {
     "data": {
      "text/html": [
       "<div>\n",
       "<style scoped>\n",
       "    .dataframe tbody tr th:only-of-type {\n",
       "        vertical-align: middle;\n",
       "    }\n",
       "\n",
       "    .dataframe tbody tr th {\n",
       "        vertical-align: top;\n",
       "    }\n",
       "\n",
       "    .dataframe thead th {\n",
       "        text-align: right;\n",
       "    }\n",
       "</style>\n",
       "<table border=\"1\" class=\"dataframe\">\n",
       "  <thead>\n",
       "    <tr style=\"text-align: right;\">\n",
       "      <th></th>\n",
       "      <th>Floors</th>\n",
       "      <th>City</th>\n",
       "      <th>Address</th>\n",
       "      <th>Land</th>\n",
       "      <th>Price</th>\n",
       "      <th>Bedroom</th>\n",
       "      <th>Bathroom</th>\n",
       "      <th>Face</th>\n",
       "      <th>Road</th>\n",
       "    </tr>\n",
       "  </thead>\n",
       "  <tbody>\n",
       "    <tr>\n",
       "      <th>0</th>\n",
       "      <td>NaN</td>\n",
       "      <td>Kathmandu</td>\n",
       "      <td>Pepsicola</td>\n",
       "      <td>200.0000</td>\n",
       "      <td>500000.0</td>\n",
       "      <td>0.0</td>\n",
       "      <td>0.0</td>\n",
       "      <td>south east</td>\n",
       "      <td>0.0</td>\n",
       "    </tr>\n",
       "    <tr>\n",
       "      <th>1</th>\n",
       "      <td>12.0</td>\n",
       "      <td>Lalitpur</td>\n",
       "      <td>Jhamsikhel</td>\n",
       "      <td>683.0000</td>\n",
       "      <td>40000.0</td>\n",
       "      <td>2.0</td>\n",
       "      <td>1.0</td>\n",
       "      <td>south</td>\n",
       "      <td>0.0</td>\n",
       "    </tr>\n",
       "    <tr>\n",
       "      <th>2</th>\n",
       "      <td>2.5</td>\n",
       "      <td>Kathmandu</td>\n",
       "      <td>Golfutar</td>\n",
       "      <td>1779.7000</td>\n",
       "      <td>43000000.0</td>\n",
       "      <td>5.0</td>\n",
       "      <td>5.0</td>\n",
       "      <td>east</td>\n",
       "      <td>0.0</td>\n",
       "    </tr>\n",
       "    <tr>\n",
       "      <th>3</th>\n",
       "      <td>NaN</td>\n",
       "      <td>Kathmandu</td>\n",
       "      <td>Budhanilkantha</td>\n",
       "      <td>1369.0000</td>\n",
       "      <td>35000000.0</td>\n",
       "      <td>0.0</td>\n",
       "      <td>0.0</td>\n",
       "      <td>north east</td>\n",
       "      <td>0.0</td>\n",
       "    </tr>\n",
       "    <tr>\n",
       "      <th>4</th>\n",
       "      <td>NaN</td>\n",
       "      <td>Kathmandu</td>\n",
       "      <td>Dhumbarahi</td>\n",
       "      <td>2481.3125</td>\n",
       "      <td>51700000.0</td>\n",
       "      <td>0.0</td>\n",
       "      <td>0.0</td>\n",
       "      <td>east</td>\n",
       "      <td>0.0</td>\n",
       "    </tr>\n",
       "    <tr>\n",
       "      <th>...</th>\n",
       "      <td>...</td>\n",
       "      <td>...</td>\n",
       "      <td>...</td>\n",
       "      <td>...</td>\n",
       "      <td>...</td>\n",
       "      <td>...</td>\n",
       "      <td>...</td>\n",
       "      <td>...</td>\n",
       "      <td>...</td>\n",
       "    </tr>\n",
       "    <tr>\n",
       "      <th>5321</th>\n",
       "      <td>2.0</td>\n",
       "      <td>Kathmandu</td>\n",
       "      <td>Bansbari</td>\n",
       "      <td>1197.8700</td>\n",
       "      <td>13500000.0</td>\n",
       "      <td>3.0</td>\n",
       "      <td>2.0</td>\n",
       "      <td>west</td>\n",
       "      <td>NaN</td>\n",
       "    </tr>\n",
       "    <tr>\n",
       "      <th>5324</th>\n",
       "      <td>NaN</td>\n",
       "      <td>Kathmandu</td>\n",
       "      <td>Satdobato</td>\n",
       "      <td>NaN</td>\n",
       "      <td>27500000.0</td>\n",
       "      <td>NaN</td>\n",
       "      <td>NaN</td>\n",
       "      <td>NaN</td>\n",
       "      <td>NaN</td>\n",
       "    </tr>\n",
       "    <tr>\n",
       "      <th>5327</th>\n",
       "      <td>3.5</td>\n",
       "      <td>Kathmandu</td>\n",
       "      <td>Dhumbarahi</td>\n",
       "      <td>NaN</td>\n",
       "      <td>57000000.0</td>\n",
       "      <td>8.0</td>\n",
       "      <td>7.0</td>\n",
       "      <td>NaN</td>\n",
       "      <td>NaN</td>\n",
       "    </tr>\n",
       "    <tr>\n",
       "      <th>5328</th>\n",
       "      <td>NaN</td>\n",
       "      <td>Kathmandu</td>\n",
       "      <td>Kalanki</td>\n",
       "      <td>NaN</td>\n",
       "      <td>60000000.0</td>\n",
       "      <td>NaN</td>\n",
       "      <td>NaN</td>\n",
       "      <td>NaN</td>\n",
       "      <td>NaN</td>\n",
       "    </tr>\n",
       "    <tr>\n",
       "      <th>5329</th>\n",
       "      <td>NaN</td>\n",
       "      <td>Kathmandu</td>\n",
       "      <td>Bhaktapur</td>\n",
       "      <td>NaN</td>\n",
       "      <td>85000000.0</td>\n",
       "      <td>NaN</td>\n",
       "      <td>NaN</td>\n",
       "      <td>NaN</td>\n",
       "      <td>NaN</td>\n",
       "    </tr>\n",
       "  </tbody>\n",
       "</table>\n",
       "<p>4733 rows × 9 columns</p>\n",
       "</div>"
      ],
      "text/plain": [
       "      Floors        City         Address       Land       Price  Bedroom  \\\n",
       "0        NaN   Kathmandu       Pepsicola   200.0000    500000.0      0.0   \n",
       "1       12.0    Lalitpur      Jhamsikhel   683.0000     40000.0      2.0   \n",
       "2        2.5   Kathmandu        Golfutar  1779.7000  43000000.0      5.0   \n",
       "3        NaN   Kathmandu  Budhanilkantha  1369.0000  35000000.0      0.0   \n",
       "4        NaN   Kathmandu      Dhumbarahi  2481.3125  51700000.0      0.0   \n",
       "...      ...         ...             ...        ...         ...      ...   \n",
       "5321     2.0   Kathmandu        Bansbari  1197.8700  13500000.0      3.0   \n",
       "5324     NaN   Kathmandu       Satdobato        NaN  27500000.0      NaN   \n",
       "5327     3.5   Kathmandu      Dhumbarahi        NaN  57000000.0      8.0   \n",
       "5328     NaN   Kathmandu         Kalanki        NaN  60000000.0      NaN   \n",
       "5329     NaN   Kathmandu       Bhaktapur        NaN  85000000.0      NaN   \n",
       "\n",
       "      Bathroom        Face  Road  \n",
       "0          0.0  south east   0.0  \n",
       "1          1.0       south   0.0  \n",
       "2          5.0        east   0.0  \n",
       "3          0.0  north east   0.0  \n",
       "4          0.0        east   0.0  \n",
       "...        ...         ...   ...  \n",
       "5321       2.0        west   NaN  \n",
       "5324       NaN         NaN   NaN  \n",
       "5327       7.0         NaN   NaN  \n",
       "5328       NaN         NaN   NaN  \n",
       "5329       NaN         NaN   NaN  \n",
       "\n",
       "[4733 rows x 9 columns]"
      ]
     },
     "execution_count": 23,
     "metadata": {},
     "output_type": "execute_result"
    }
   ],
   "source": [
    "filtered_df"
   ]
  },
  {
   "cell_type": "code",
   "execution_count": 24,
   "id": "8053b7d8",
   "metadata": {},
   "outputs": [
    {
     "data": {
      "text/plain": [
       "Floors      949\n",
       "City         12\n",
       "Address      12\n",
       "Land         19\n",
       "Price        42\n",
       "Bedroom     639\n",
       "Bathroom    792\n",
       "Face        647\n",
       "Road         68\n",
       "dtype: int64"
      ]
     },
     "execution_count": 24,
     "metadata": {},
     "output_type": "execute_result"
    }
   ],
   "source": [
    "df.isnull().sum()"
   ]
  },
  {
   "cell_type": "code",
   "execution_count": 25,
   "id": "959a815b",
   "metadata": {},
   "outputs": [],
   "source": [
    "new_df = df.dropna()"
   ]
  },
  {
   "cell_type": "code",
   "execution_count": 26,
   "id": "31aeea19",
   "metadata": {},
   "outputs": [
    {
     "data": {
      "text/html": [
       "<div>\n",
       "<style scoped>\n",
       "    .dataframe tbody tr th:only-of-type {\n",
       "        vertical-align: middle;\n",
       "    }\n",
       "\n",
       "    .dataframe tbody tr th {\n",
       "        vertical-align: top;\n",
       "    }\n",
       "\n",
       "    .dataframe thead th {\n",
       "        text-align: right;\n",
       "    }\n",
       "</style>\n",
       "<table border=\"1\" class=\"dataframe\">\n",
       "  <thead>\n",
       "    <tr style=\"text-align: right;\">\n",
       "      <th></th>\n",
       "      <th>Floors</th>\n",
       "      <th>City</th>\n",
       "      <th>Address</th>\n",
       "      <th>Land</th>\n",
       "      <th>Price</th>\n",
       "      <th>Bedroom</th>\n",
       "      <th>Bathroom</th>\n",
       "      <th>Face</th>\n",
       "      <th>Road</th>\n",
       "    </tr>\n",
       "  </thead>\n",
       "  <tbody>\n",
       "    <tr>\n",
       "      <th>1</th>\n",
       "      <td>12.0</td>\n",
       "      <td>Lalitpur</td>\n",
       "      <td>Jhamsikhel</td>\n",
       "      <td>683.00000</td>\n",
       "      <td>40000.0</td>\n",
       "      <td>2.0</td>\n",
       "      <td>1.0</td>\n",
       "      <td>south</td>\n",
       "      <td>0.0</td>\n",
       "    </tr>\n",
       "    <tr>\n",
       "      <th>2</th>\n",
       "      <td>2.5</td>\n",
       "      <td>Kathmandu</td>\n",
       "      <td>Golfutar</td>\n",
       "      <td>1779.70000</td>\n",
       "      <td>43000000.0</td>\n",
       "      <td>5.0</td>\n",
       "      <td>5.0</td>\n",
       "      <td>east</td>\n",
       "      <td>0.0</td>\n",
       "    </tr>\n",
       "    <tr>\n",
       "      <th>8</th>\n",
       "      <td>7.0</td>\n",
       "      <td>Kathmandu</td>\n",
       "      <td>Thamel</td>\n",
       "      <td>53.67000</td>\n",
       "      <td>95000000.0</td>\n",
       "      <td>0.0</td>\n",
       "      <td>0.0</td>\n",
       "      <td>north west</td>\n",
       "      <td>0.0</td>\n",
       "    </tr>\n",
       "    <tr>\n",
       "      <th>12</th>\n",
       "      <td>4.0</td>\n",
       "      <td>Kathmandu</td>\n",
       "      <td>Balkhu</td>\n",
       "      <td>1796.81250</td>\n",
       "      <td>60000000.0</td>\n",
       "      <td>0.0</td>\n",
       "      <td>0.0</td>\n",
       "      <td>south</td>\n",
       "      <td>0.0</td>\n",
       "    </tr>\n",
       "    <tr>\n",
       "      <th>15</th>\n",
       "      <td>3.0</td>\n",
       "      <td>Kathmandu</td>\n",
       "      <td>Thamel</td>\n",
       "      <td>1369.00000</td>\n",
       "      <td>26000000.0</td>\n",
       "      <td>6.0</td>\n",
       "      <td>5.0</td>\n",
       "      <td>east</td>\n",
       "      <td>0.0</td>\n",
       "    </tr>\n",
       "    <tr>\n",
       "      <th>24</th>\n",
       "      <td>3.0</td>\n",
       "      <td>Kathmandu</td>\n",
       "      <td>Chabahil</td>\n",
       "      <td>1194.79290</td>\n",
       "      <td>31000000.0</td>\n",
       "      <td>8.0</td>\n",
       "      <td>4.0</td>\n",
       "      <td>west</td>\n",
       "      <td>0.0</td>\n",
       "    </tr>\n",
       "    <tr>\n",
       "      <th>31</th>\n",
       "      <td>4.0</td>\n",
       "      <td>Kathmandu</td>\n",
       "      <td>Chabahil</td>\n",
       "      <td>3080.25000</td>\n",
       "      <td>57500000.0</td>\n",
       "      <td>0.0</td>\n",
       "      <td>0.0</td>\n",
       "      <td>east</td>\n",
       "      <td>0.0</td>\n",
       "    </tr>\n",
       "    <tr>\n",
       "      <th>39</th>\n",
       "      <td>4.0</td>\n",
       "      <td>Kathmandu</td>\n",
       "      <td>Balaju</td>\n",
       "      <td>1411.78125</td>\n",
       "      <td>45000000.0</td>\n",
       "      <td>12.0</td>\n",
       "      <td>4.0</td>\n",
       "      <td>north</td>\n",
       "      <td>0.0</td>\n",
       "    </tr>\n",
       "    <tr>\n",
       "      <th>40</th>\n",
       "      <td>3.0</td>\n",
       "      <td>Kathmandu</td>\n",
       "      <td>Kapan</td>\n",
       "      <td>1197.87500</td>\n",
       "      <td>15000000.0</td>\n",
       "      <td>4.0</td>\n",
       "      <td>4.0</td>\n",
       "      <td>west</td>\n",
       "      <td>0.0</td>\n",
       "    </tr>\n",
       "    <tr>\n",
       "      <th>41</th>\n",
       "      <td>4.0</td>\n",
       "      <td>Lalitpur</td>\n",
       "      <td>Kupondole</td>\n",
       "      <td>2738.00000</td>\n",
       "      <td>95000.0</td>\n",
       "      <td>4.0</td>\n",
       "      <td>2.0</td>\n",
       "      <td>south east</td>\n",
       "      <td>0.0</td>\n",
       "    </tr>\n",
       "  </tbody>\n",
       "</table>\n",
       "</div>"
      ],
      "text/plain": [
       "    Floors        City     Address        Land       Price  Bedroom  Bathroom  \\\n",
       "1     12.0    Lalitpur  Jhamsikhel   683.00000     40000.0      2.0       1.0   \n",
       "2      2.5   Kathmandu    Golfutar  1779.70000  43000000.0      5.0       5.0   \n",
       "8      7.0   Kathmandu      Thamel    53.67000  95000000.0      0.0       0.0   \n",
       "12     4.0   Kathmandu      Balkhu  1796.81250  60000000.0      0.0       0.0   \n",
       "15     3.0   Kathmandu      Thamel  1369.00000  26000000.0      6.0       5.0   \n",
       "24     3.0   Kathmandu    Chabahil  1194.79290  31000000.0      8.0       4.0   \n",
       "31     4.0   Kathmandu    Chabahil  3080.25000  57500000.0      0.0       0.0   \n",
       "39     4.0   Kathmandu      Balaju  1411.78125  45000000.0     12.0       4.0   \n",
       "40     3.0   Kathmandu       Kapan  1197.87500  15000000.0      4.0       4.0   \n",
       "41     4.0    Lalitpur   Kupondole  2738.00000     95000.0      4.0       2.0   \n",
       "\n",
       "          Face  Road  \n",
       "1        south   0.0  \n",
       "2         east   0.0  \n",
       "8   north west   0.0  \n",
       "12       south   0.0  \n",
       "15        east   0.0  \n",
       "24        west   0.0  \n",
       "31        east   0.0  \n",
       "39       north   0.0  \n",
       "40        west   0.0  \n",
       "41  south east   0.0  "
      ]
     },
     "execution_count": 26,
     "metadata": {},
     "output_type": "execute_result"
    }
   ],
   "source": [
    "new_df.head(10)"
   ]
  },
  {
   "cell_type": "code",
   "execution_count": 27,
   "id": "f51427eb",
   "metadata": {},
   "outputs": [
    {
     "data": {
      "text/plain": [
       "(5330, 9)"
      ]
     },
     "execution_count": 27,
     "metadata": {},
     "output_type": "execute_result"
    }
   ],
   "source": [
    "df.shape"
   ]
  },
  {
   "cell_type": "code",
   "execution_count": 119,
   "id": "602c6b3d",
   "metadata": {},
   "outputs": [
    {
     "data": {
      "image/png": "[encoded data removed]",
      "text/plain": [
       "<Figure size 2500x1000 with 2 Axes>"
      ]
     },
     "metadata": {},
     "output_type": "display_data"
    }
   ],
   "source": [
    "import missingno as msno\n",
    "import matplotlib.pyplot as plt\n",
    "\n",
    "msno.matrix(df)\n",
    "plt.show()\n"
   ]
  },
  {
   "cell_type": "code",
   "execution_count": 120,
   "id": "9334ec3a",
   "metadata": {},
   "outputs": [
    {
     "data": {
      "text/plain": [
       "array([  nan, 12.  ,  2.5 ,  7.  ,  4.  ,  3.  ,  1.  ,  6.  ,  2.  ,\n",
       "        3.5 ,  5.  ,  9.  ,  1.5 ,  4.5 ,  4.25,  1.35,  5.5 , 10.  ,\n",
       "        8.  ,  0.  ,  8.5 , 20.  ,  2.3 ,  6.5 , 13.  ])"
      ]
     },
     "execution_count": 120,
     "metadata": {},
     "output_type": "execute_result"
    }
   ],
   "source": [
    "df['Floors'].unique()"
   ]
  },
  {
   "cell_type": "code",
   "execution_count": 123,
   "id": "71995c8e",
   "metadata": {},
   "outputs": [
    {
     "data": {
      "text/plain": [
       "0"
      ]
     },
     "execution_count": 123,
     "metadata": {},
     "output_type": "execute_result"
    }
   ],
   "source": [
    "mean_floors = df['Floors'].mean()\n",
    "df['Floors'] = df['Floors'].fillna(mean_floors)\n",
    "df['Floors'].isna().sum()"
   ]
  },
  {
   "cell_type": "code",
   "execution_count": 124,
   "id": "4e71a18d",
   "metadata": {},
   "outputs": [
    {
     "data": {
      "text/plain": [
       "array([ 0. ,  2. ,  5. ,  4. , 43. ,  6. ,  3. ,  nan,  8. ,  7. , 12. ,\n",
       "        1. , 23. , 17. , 22. ,  9. , 13. , 10. , 18. , 16. , 11. , 36. ,\n",
       "       15. , 21. , 14. ,  2.5, 25. , 20. , 19. , 28. , 34. ,  3.5, 95. ,\n",
       "       31. , 24. , 30. ])"
      ]
     },
     "execution_count": 124,
     "metadata": {},
     "output_type": "execute_result"
    }
   ],
   "source": [
    "df['Bedroom'].unique()"
   ]
  },
  {
   "cell_type": "code",
   "execution_count": 125,
   "id": "c117b243",
   "metadata": {},
   "outputs": [],
   "source": [
    "median_bedroom = df['Bedroom'].median()\n",
    "df['Bedroom'] = df['Bedroom'].fillna(median_bedroom)\n"
   ]
  },
  {
   "cell_type": "code",
   "execution_count": 126,
   "id": "c44c4b1f",
   "metadata": {},
   "outputs": [
    {
     "data": {
      "text/plain": [
       "5.0"
      ]
     },
     "execution_count": 126,
     "metadata": {},
     "output_type": "execute_result"
    }
   ],
   "source": [
    "df['Bedroom'].median()"
   ]
  },
  {
   "cell_type": "code",
   "execution_count": 127,
   "id": "74ac734e",
   "metadata": {},
   "outputs": [],
   "source": [
    "median_bathroom = df['Bathroom'].median()\n",
    "df['Bathroom'] = df['Bathroom'].fillna(median_bathroom)\n"
   ]
  },
  {
   "cell_type": "code",
   "execution_count": 128,
   "id": "99030cc3",
   "metadata": {},
   "outputs": [
    {
     "data": {
      "text/plain": [
       "array(['south east', 'south', 'east', 'north east', 'north west', 'west',\n",
       "       nan, 'north', 'south west'], dtype=object)"
      ]
     },
     "execution_count": 128,
     "metadata": {},
     "output_type": "execute_result"
    }
   ],
   "source": [
    "df['Face'].unique()"
   ]
  },
  {
   "cell_type": "code",
   "execution_count": 129,
   "id": "9510e392",
   "metadata": {},
   "outputs": [],
   "source": [
    "# Randomly sample existing face directions to fill missing values\n",
    "existing_faces = df['Face'].dropna().unique()\n",
    "missing_faces = df['Face'].isnull()\n",
    "df.loc[missing_faces, 'Face'] = np.random.choice(existing_faces, size=missing_faces.sum())\n"
   ]
  },
  {
   "cell_type": "code",
   "execution_count": 130,
   "id": "7151b178",
   "metadata": {},
   "outputs": [
    {
     "data": {
      "text/plain": [
       "east          1560\n",
       "south          893\n",
       "west           768\n",
       "north          581\n",
       "south east     532\n",
       "north east     429\n",
       "south west     331\n",
       "north west     236\n",
       "Name: Face, dtype: int64"
      ]
     },
     "execution_count": 130,
     "metadata": {},
     "output_type": "execute_result"
    }
   ],
   "source": [
    "df['Face'].value_counts()"
   ]
  },
  {
   "cell_type": "code",
   "execution_count": 131,
   "id": "c308e37f",
   "metadata": {},
   "outputs": [
    {
     "data": {
      "text/plain": [
       "Floors       0\n",
       "City        12\n",
       "Address     12\n",
       "Land        19\n",
       "Price       42\n",
       "Bedroom      0\n",
       "Bathroom     0\n",
       "Face         0\n",
       "Road        68\n",
       "dtype: int64"
      ]
     },
     "execution_count": 131,
     "metadata": {},
     "output_type": "execute_result"
    }
   ],
   "source": [
    "df.isna().sum()"
   ]
  },
  {
   "cell_type": "code",
   "execution_count": 132,
   "id": "d09a2dbb",
   "metadata": {},
   "outputs": [
    {
     "data": {
      "text/html": [
       "<div>\n",
       "<style scoped>\n",
       "    .dataframe tbody tr th:only-of-type {\n",
       "        vertical-align: middle;\n",
       "    }\n",
       "\n",
       "    .dataframe tbody tr th {\n",
       "        vertical-align: top;\n",
       "    }\n",
       "\n",
       "    .dataframe thead th {\n",
       "        text-align: right;\n",
       "    }\n",
       "</style>\n",
       "<table border=\"1\" class=\"dataframe\">\n",
       "  <thead>\n",
       "    <tr style=\"text-align: right;\">\n",
       "      <th></th>\n",
       "      <th>Floors</th>\n",
       "      <th>City</th>\n",
       "      <th>Address</th>\n",
       "      <th>Land</th>\n",
       "      <th>Price</th>\n",
       "      <th>Bedroom</th>\n",
       "      <th>Bathroom</th>\n",
       "      <th>Face</th>\n",
       "      <th>Road</th>\n",
       "    </tr>\n",
       "  </thead>\n",
       "  <tbody>\n",
       "    <tr>\n",
       "      <th>0</th>\n",
       "      <td>2.80299</td>\n",
       "      <td>Kathmandu</td>\n",
       "      <td>Pepsicola</td>\n",
       "      <td>200.000000</td>\n",
       "      <td>500000.0</td>\n",
       "      <td>0.0</td>\n",
       "      <td>0.0</td>\n",
       "      <td>south east</td>\n",
       "      <td>0.00</td>\n",
       "    </tr>\n",
       "    <tr>\n",
       "      <th>1</th>\n",
       "      <td>12.00000</td>\n",
       "      <td>Lalitpur</td>\n",
       "      <td>Jhamsikhel</td>\n",
       "      <td>683.000000</td>\n",
       "      <td>40000.0</td>\n",
       "      <td>2.0</td>\n",
       "      <td>1.0</td>\n",
       "      <td>south</td>\n",
       "      <td>0.00</td>\n",
       "    </tr>\n",
       "    <tr>\n",
       "      <th>2</th>\n",
       "      <td>2.50000</td>\n",
       "      <td>Kathmandu</td>\n",
       "      <td>Golfutar</td>\n",
       "      <td>1779.700000</td>\n",
       "      <td>43000000.0</td>\n",
       "      <td>5.0</td>\n",
       "      <td>5.0</td>\n",
       "      <td>east</td>\n",
       "      <td>0.00</td>\n",
       "    </tr>\n",
       "    <tr>\n",
       "      <th>3</th>\n",
       "      <td>2.80299</td>\n",
       "      <td>Kathmandu</td>\n",
       "      <td>Budhanilkantha</td>\n",
       "      <td>1369.000000</td>\n",
       "      <td>35000000.0</td>\n",
       "      <td>0.0</td>\n",
       "      <td>0.0</td>\n",
       "      <td>north east</td>\n",
       "      <td>0.00</td>\n",
       "    </tr>\n",
       "    <tr>\n",
       "      <th>4</th>\n",
       "      <td>2.80299</td>\n",
       "      <td>Kathmandu</td>\n",
       "      <td>Dhumbarahi</td>\n",
       "      <td>2481.312500</td>\n",
       "      <td>51700000.0</td>\n",
       "      <td>0.0</td>\n",
       "      <td>0.0</td>\n",
       "      <td>east</td>\n",
       "      <td>0.00</td>\n",
       "    </tr>\n",
       "    <tr>\n",
       "      <th>...</th>\n",
       "      <td>...</td>\n",
       "      <td>...</td>\n",
       "      <td>...</td>\n",
       "      <td>...</td>\n",
       "      <td>...</td>\n",
       "      <td>...</td>\n",
       "      <td>...</td>\n",
       "      <td>...</td>\n",
       "      <td>...</td>\n",
       "    </tr>\n",
       "    <tr>\n",
       "      <th>5257</th>\n",
       "      <td>8.00000</td>\n",
       "      <td>Kathmandu</td>\n",
       "      <td>Baneshwor</td>\n",
       "      <td>2200.000000</td>\n",
       "      <td>350000.0</td>\n",
       "      <td>0.0</td>\n",
       "      <td>0.0</td>\n",
       "      <td>south</td>\n",
       "      <td>98.43</td>\n",
       "    </tr>\n",
       "    <tr>\n",
       "      <th>5258</th>\n",
       "      <td>3.00000</td>\n",
       "      <td>Kathmandu</td>\n",
       "      <td>Koteshwor</td>\n",
       "      <td>900.000000</td>\n",
       "      <td>60000.0</td>\n",
       "      <td>0.0</td>\n",
       "      <td>4.0</td>\n",
       "      <td>east</td>\n",
       "      <td>98.43</td>\n",
       "    </tr>\n",
       "    <tr>\n",
       "      <th>5259</th>\n",
       "      <td>4.00000</td>\n",
       "      <td>Kathmandu</td>\n",
       "      <td>Kalanki</td>\n",
       "      <td>1796.812500</td>\n",
       "      <td>52500000.0</td>\n",
       "      <td>0.0</td>\n",
       "      <td>0.0</td>\n",
       "      <td>west</td>\n",
       "      <td>19.00</td>\n",
       "    </tr>\n",
       "    <tr>\n",
       "      <th>5260</th>\n",
       "      <td>4.00000</td>\n",
       "      <td>Kathmandu</td>\n",
       "      <td>Basundhara</td>\n",
       "      <td>523.986652</td>\n",
       "      <td>26000000.0</td>\n",
       "      <td>0.0</td>\n",
       "      <td>4.0</td>\n",
       "      <td>north</td>\n",
       "      <td>21.00</td>\n",
       "    </tr>\n",
       "    <tr>\n",
       "      <th>5261</th>\n",
       "      <td>3.00000</td>\n",
       "      <td>Lalitpur</td>\n",
       "      <td>Tikathali</td>\n",
       "      <td>3208.593750</td>\n",
       "      <td>40000000.0</td>\n",
       "      <td>4.0</td>\n",
       "      <td>4.0</td>\n",
       "      <td>south</td>\n",
       "      <td>30.00</td>\n",
       "    </tr>\n",
       "  </tbody>\n",
       "</table>\n",
       "<p>5210 rows × 9 columns</p>\n",
       "</div>"
      ],
      "text/plain": [
       "        Floors        City         Address         Land       Price  Bedroom  \\\n",
       "0      2.80299   Kathmandu       Pepsicola   200.000000    500000.0      0.0   \n",
       "1     12.00000    Lalitpur      Jhamsikhel   683.000000     40000.0      2.0   \n",
       "2      2.50000   Kathmandu        Golfutar  1779.700000  43000000.0      5.0   \n",
       "3      2.80299   Kathmandu  Budhanilkantha  1369.000000  35000000.0      0.0   \n",
       "4      2.80299   Kathmandu      Dhumbarahi  2481.312500  51700000.0      0.0   \n",
       "...        ...         ...             ...          ...         ...      ...   \n",
       "5257   8.00000   Kathmandu       Baneshwor  2200.000000    350000.0      0.0   \n",
       "5258   3.00000   Kathmandu       Koteshwor   900.000000     60000.0      0.0   \n",
       "5259   4.00000   Kathmandu         Kalanki  1796.812500  52500000.0      0.0   \n",
       "5260   4.00000   Kathmandu      Basundhara   523.986652  26000000.0      0.0   \n",
       "5261   3.00000    Lalitpur       Tikathali  3208.593750  40000000.0      4.0   \n",
       "\n",
       "      Bathroom        Face   Road  \n",
       "0          0.0  south east   0.00  \n",
       "1          1.0       south   0.00  \n",
       "2          5.0        east   0.00  \n",
       "3          0.0  north east   0.00  \n",
       "4          0.0        east   0.00  \n",
       "...        ...         ...    ...  \n",
       "5257       0.0       south  98.43  \n",
       "5258       4.0        east  98.43  \n",
       "5259       0.0        west  19.00  \n",
       "5260       4.0       north  21.00  \n",
       "5261       4.0       south  30.00  \n",
       "\n",
       "[5210 rows x 9 columns]"
      ]
     },
     "execution_count": 132,
     "metadata": {},
     "output_type": "execute_result"
    }
   ],
   "source": [
    "df.dropna()"
   ]
  },
  {
   "cell_type": "code",
   "execution_count": 133,
   "id": "cc5cc4c5",
   "metadata": {},
   "outputs": [
    {
     "data": {
      "text/plain": [
       "Floors       0\n",
       "City        12\n",
       "Address     12\n",
       "Land        19\n",
       "Price       42\n",
       "Bedroom      0\n",
       "Bathroom     0\n",
       "Face         0\n",
       "Road        68\n",
       "dtype: int64"
      ]
     },
     "execution_count": 133,
     "metadata": {},
     "output_type": "execute_result"
    }
   ],
   "source": [
    "df.isna().sum()"
   ]
  },
  {
   "cell_type": "code",
   "execution_count": 134,
   "id": "678d85b0",
   "metadata": {},
   "outputs": [
    {
     "data": {
      "text/plain": [
       "299"
      ]
     },
     "execution_count": 134,
     "metadata": {},
     "output_type": "execute_result"
    }
   ],
   "source": [
    "zero_count = (df['Road'] == 0).sum()\n",
    "zero_count"
   ]
  },
  {
   "cell_type": "code",
   "execution_count": 135,
   "id": "e2dbb6d7",
   "metadata": {},
   "outputs": [],
   "source": [
    "median_road = df['Road'].median()\n",
    "df['Road'] = df['Road'].replace(0, median_road)\n"
   ]
  },
  {
   "cell_type": "code",
   "execution_count": 136,
   "id": "21f0f2b0",
   "metadata": {},
   "outputs": [],
   "source": [
    "median_Bedroom = df['Bedroom'].median()\n",
    "df['Bedroom'] = df['Bedroom'].replace(0, median_road)\n"
   ]
  },
  {
   "cell_type": "code",
   "execution_count": 137,
   "id": "55e7320b",
   "metadata": {},
   "outputs": [],
   "source": [
    "median_bathroom = df['Bathroom'].median()\n",
    "df['Bathroom'] = df['Bathroom'].replace(0, median_bathroom)\n"
   ]
  },
  {
   "cell_type": "code",
   "execution_count": 138,
   "id": "29d5e1cb",
   "metadata": {},
   "outputs": [
    {
     "data": {
      "text/plain": [
       "Floors       6\n",
       "City         0\n",
       "Address      0\n",
       "Land        21\n",
       "Price        0\n",
       "Bedroom      0\n",
       "Bathroom     0\n",
       "Face         0\n",
       "Road         0\n",
       "dtype: int64"
      ]
     },
     "execution_count": 138,
     "metadata": {},
     "output_type": "execute_result"
    }
   ],
   "source": [
    "zero_count = (df == 0).sum()\n",
    "zero_count"
   ]
  },
  {
   "cell_type": "code",
   "execution_count": 139,
   "id": "519995f8",
   "metadata": {},
   "outputs": [],
   "source": [
    "median_land = df['Land'].median()\n",
    "df['Land'] = df['Land'].replace(0, median_land)\n"
   ]
  },
  {
   "cell_type": "code",
   "execution_count": 140,
   "id": "c4e18d48",
   "metadata": {},
   "outputs": [],
   "source": [
    "median_floors = df['Floors'].median()\n",
    "df['Floors'] = df['Floors'].replace(0, median_floors)\n"
   ]
  },
  {
   "cell_type": "code",
   "execution_count": 141,
   "id": "2af2ac0a",
   "metadata": {},
   "outputs": [
    {
     "data": {
      "text/html": [
       "<div>\n",
       "<style scoped>\n",
       "    .dataframe tbody tr th:only-of-type {\n",
       "        vertical-align: middle;\n",
       "    }\n",
       "\n",
       "    .dataframe tbody tr th {\n",
       "        vertical-align: top;\n",
       "    }\n",
       "\n",
       "    .dataframe thead th {\n",
       "        text-align: right;\n",
       "    }\n",
       "</style>\n",
       "<table border=\"1\" class=\"dataframe\">\n",
       "  <thead>\n",
       "    <tr style=\"text-align: right;\">\n",
       "      <th></th>\n",
       "      <th>Floors</th>\n",
       "      <th>City</th>\n",
       "      <th>Address</th>\n",
       "      <th>Land</th>\n",
       "      <th>Price</th>\n",
       "      <th>Bedroom</th>\n",
       "      <th>Bathroom</th>\n",
       "      <th>Face</th>\n",
       "      <th>Road</th>\n",
       "    </tr>\n",
       "  </thead>\n",
       "  <tbody>\n",
       "    <tr>\n",
       "      <th>0</th>\n",
       "      <td>2.80299</td>\n",
       "      <td>Kathmandu</td>\n",
       "      <td>Pepsicola</td>\n",
       "      <td>200.0000</td>\n",
       "      <td>500000.0</td>\n",
       "      <td>13.0</td>\n",
       "      <td>3.0</td>\n",
       "      <td>south east</td>\n",
       "      <td>13.0</td>\n",
       "    </tr>\n",
       "    <tr>\n",
       "      <th>1</th>\n",
       "      <td>12.00000</td>\n",
       "      <td>Lalitpur</td>\n",
       "      <td>Jhamsikhel</td>\n",
       "      <td>683.0000</td>\n",
       "      <td>40000.0</td>\n",
       "      <td>2.0</td>\n",
       "      <td>1.0</td>\n",
       "      <td>south</td>\n",
       "      <td>13.0</td>\n",
       "    </tr>\n",
       "    <tr>\n",
       "      <th>2</th>\n",
       "      <td>2.50000</td>\n",
       "      <td>Kathmandu</td>\n",
       "      <td>Golfutar</td>\n",
       "      <td>1779.7000</td>\n",
       "      <td>43000000.0</td>\n",
       "      <td>5.0</td>\n",
       "      <td>5.0</td>\n",
       "      <td>east</td>\n",
       "      <td>13.0</td>\n",
       "    </tr>\n",
       "    <tr>\n",
       "      <th>3</th>\n",
       "      <td>2.80299</td>\n",
       "      <td>Kathmandu</td>\n",
       "      <td>Budhanilkantha</td>\n",
       "      <td>1369.0000</td>\n",
       "      <td>35000000.0</td>\n",
       "      <td>13.0</td>\n",
       "      <td>3.0</td>\n",
       "      <td>north east</td>\n",
       "      <td>13.0</td>\n",
       "    </tr>\n",
       "    <tr>\n",
       "      <th>4</th>\n",
       "      <td>2.80299</td>\n",
       "      <td>Kathmandu</td>\n",
       "      <td>Dhumbarahi</td>\n",
       "      <td>2481.3125</td>\n",
       "      <td>51700000.0</td>\n",
       "      <td>13.0</td>\n",
       "      <td>3.0</td>\n",
       "      <td>east</td>\n",
       "      <td>13.0</td>\n",
       "    </tr>\n",
       "  </tbody>\n",
       "</table>\n",
       "</div>"
      ],
      "text/plain": [
       "     Floors        City         Address       Land       Price  Bedroom  \\\n",
       "0   2.80299   Kathmandu       Pepsicola   200.0000    500000.0     13.0   \n",
       "1  12.00000    Lalitpur      Jhamsikhel   683.0000     40000.0      2.0   \n",
       "2   2.50000   Kathmandu        Golfutar  1779.7000  43000000.0      5.0   \n",
       "3   2.80299   Kathmandu  Budhanilkantha  1369.0000  35000000.0     13.0   \n",
       "4   2.80299   Kathmandu      Dhumbarahi  2481.3125  51700000.0     13.0   \n",
       "\n",
       "   Bathroom        Face  Road  \n",
       "0       3.0  south east  13.0  \n",
       "1       1.0       south  13.0  \n",
       "2       5.0        east  13.0  \n",
       "3       3.0  north east  13.0  \n",
       "4       3.0        east  13.0  "
      ]
     },
     "execution_count": 141,
     "metadata": {},
     "output_type": "execute_result"
    }
   ],
   "source": [
    "df.head()"
   ]
  },
  {
   "cell_type": "code",
   "execution_count": 66,
   "id": "fc94c743",
   "metadata": {},
   "outputs": [
    {
     "data": {
      "text/plain": [
       "433.0"
      ]
     },
     "execution_count": 66,
     "metadata": {},
     "output_type": "execute_result"
    }
   ],
   "source": []
  },
  {
   "cell_type": "code",
   "execution_count": 142,
   "id": "5b11355f",
   "metadata": {},
   "outputs": [
    {
     "name": "stderr",
     "output_type": "stream",
     "text": [
      "C:\\Users\\Abiral\\AppData\\Local\\Temp\\ipykernel_2220\\371128712.py:7: DeprecationWarning: `np.bool` is a deprecated alias for the builtin `bool`. To silence this warning, use `bool` by itself. Doing this will not modify any behavior and is safe. If you specifically wanted the numpy scalar type, use `np.bool_` here.\n",
      "Deprecated in NumPy 1.20; for more details and guidance: https://numpy.org/devdocs/release/1.20.0-notes.html#deprecations\n",
      "  mask = np.zeros_like(df[features].corr(), dtype=np.bool)\n"
     ]
    },
    {
     "data": {
      "image/png": "[encoded data removed]",
      "text/plain": [
       "<Figure size 1000x800 with 2 Axes>"
      ]
     },
     "metadata": {},
     "output_type": "display_data"
    }
   ],
   "source": [
    "import matplotlib.pyplot as plt\n",
    "import seaborn as sns\n",
    "import numpy as np\n",
    "\n",
    "features = ['Price', 'Bathroom', 'Bedroom', 'Floors', 'Land']\n",
    "\n",
    "mask = np.zeros_like(df[features].corr(), dtype=np.bool)\n",
    "mask[np.triu_indices_from(mask)] = True\n",
    "\n",
    "plt.figure(figsize=(10, 8))\n",
    "plt.title('Pearson Correlation Matrix', fontsize=20)\n",
    "\n",
    "sns.heatmap(df[features].corr(), linewidths=0.5, vmax=0.7, square=True, cmap=\"BuGn\",\n",
    "            linecolor='w', annot=True, annot_kws={\"size\": 8}, mask=mask, cbar_kws={\"shrink\": 0.9})\n",
    "\n",
    "plt.savefig('correlation_matrix.png', dpi=300)\n",
    "plt.show()\n"
   ]
  },
  {
   "cell_type": "code",
   "execution_count": 71,
   "id": "e202269d",
   "metadata": {},
   "outputs": [
    {
     "data": {
      "text/plain": [
       "213"
      ]
     },
     "execution_count": 71,
     "metadata": {},
     "output_type": "execute_result"
    }
   ],
   "source": [
    "df.duplicated().sum()"
   ]
  },
  {
   "cell_type": "code",
   "execution_count": 73,
   "id": "f9fa98f8",
   "metadata": {},
   "outputs": [],
   "source": [
    "df.drop_duplicates(inplace=True)\n"
   ]
  },
  {
   "cell_type": "code",
   "execution_count": 144,
   "id": "22aa885f",
   "metadata": {},
   "outputs": [
    {
     "data": {
      "text/plain": [
       "Floors       0\n",
       "City        12\n",
       "Address     12\n",
       "Land        19\n",
       "Price       42\n",
       "Bedroom      0\n",
       "Bathroom     0\n",
       "Face         0\n",
       "Road        68\n",
       "dtype: int64"
      ]
     },
     "execution_count": 144,
     "metadata": {},
     "output_type": "execute_result"
    }
   ],
   "source": [
    "df.isnull().sum()"
   ]
  },
  {
   "cell_type": "code",
   "execution_count": 147,
   "id": "c91df429",
   "metadata": {},
   "outputs": [],
   "source": [
    "df['Price'].dropna(inplace=True)\n"
   ]
  },
  {
   "cell_type": "code",
   "execution_count": 148,
   "id": "f9fca511",
   "metadata": {},
   "outputs": [
    {
     "data": {
      "text/plain": [
       "Floors       0\n",
       "City        12\n",
       "Address     12\n",
       "Land        19\n",
       "Price       42\n",
       "Bedroom      0\n",
       "Bathroom     0\n",
       "Face         0\n",
       "Road        68\n",
       "dtype: int64"
      ]
     },
     "execution_count": 148,
     "metadata": {},
     "output_type": "execute_result"
    }
   ],
   "source": [
    "df.isna().sum()"
   ]
  },
  {
   "cell_type": "code",
   "execution_count": 150,
   "id": "00e40115",
   "metadata": {},
   "outputs": [
    {
     "name": "stdout",
     "output_type": "stream",
     "text": [
      "       Floors       City               Address     Land       Price  Bedroom  \\\n",
      "747   2.80299  Kathmandu             Anamnagar  3935.87         NaN      5.0   \n",
      "880   3.00000   Lalitpur             Tikathali  3080.25         NaN      7.0   \n",
      "938   5.50000  Kathmandu              Sundhara  2524.09         NaN     36.0   \n",
      "1035  2.50000   Lalitpur              Hattiban  2224.62         NaN      5.0   \n",
      "1064  2.50000  Kathmandu               Kalanki  1197.87         NaN      4.0   \n",
      "...       ...        ...                   ...      ...         ...      ...   \n",
      "5325  2.80299  Kathmandu  Surya Darshan Height      NaN  29500000.0      5.0   \n",
      "5326  2.00000   Lalitpur       Villa sunakothi  1454.56  32500000.0      5.0   \n",
      "5327  3.50000  Kathmandu            Dhumbarahi      NaN  57000000.0      8.0   \n",
      "5328  2.80299  Kathmandu               Kalanki      NaN  60000000.0      5.0   \n",
      "5329  2.80299  Kathmandu             Bhaktapur      NaN  85000000.0      5.0   \n",
      "\n",
      "      Bathroom        Face  Road  \n",
      "747        3.0        west  10.0  \n",
      "880        3.0  north east  12.0  \n",
      "938       13.0        west  12.0  \n",
      "1035       3.0  south east  12.0  \n",
      "1064       3.0  north west  12.0  \n",
      "...        ...         ...   ...  \n",
      "5325       3.0  south west   NaN  \n",
      "5326       3.0       north   NaN  \n",
      "5327       7.0  north east   NaN  \n",
      "5328       3.0  south west   NaN  \n",
      "5329       3.0        west   NaN  \n",
      "\n",
      "[120 rows x 9 columns]\n"
     ]
    }
   ],
   "source": [
    "rows_with_missing_values = df[df.isna().any(axis=1)]\n",
    "print(rows_with_missing_values)\n",
    "\n"
   ]
  },
  {
   "cell_type": "code",
   "execution_count": 151,
   "id": "e85c5f27",
   "metadata": {},
   "outputs": [],
   "source": [
    "df.dropna(inplace=True)\n"
   ]
  },
  {
   "cell_type": "code",
   "execution_count": 152,
   "id": "0e253230",
   "metadata": {},
   "outputs": [
    {
     "name": "stdout",
     "output_type": "stream",
     "text": [
      "<class 'pandas.core.frame.DataFrame'>\n",
      "Int64Index: 5210 entries, 0 to 5261\n",
      "Data columns (total 9 columns):\n",
      " #   Column    Non-Null Count  Dtype  \n",
      "---  ------    --------------  -----  \n",
      " 0   Floors    5210 non-null   float64\n",
      " 1   City      5210 non-null   object \n",
      " 2   Address   5210 non-null   object \n",
      " 3   Land      5210 non-null   float64\n",
      " 4   Price     5210 non-null   float64\n",
      " 5   Bedroom   5210 non-null   float64\n",
      " 6   Bathroom  5210 non-null   float64\n",
      " 7   Face      5210 non-null   object \n",
      " 8   Road      5210 non-null   float64\n",
      "dtypes: float64(6), object(3)\n",
      "memory usage: 407.0+ KB\n"
     ]
    }
   ],
   "source": [
    "df.info()"
   ]
  },
  {
   "cell_type": "code",
   "execution_count": null,
   "id": "8f58c6f4",
   "metadata": {},
   "outputs": [],
   "source": []
  }
 ],
 "metadata": {
  "kernelspec": {
   "display_name": "Python 3 (ipykernel)",
   "language": "python",
   "name": "python3"
  },
  "language_info": {
   "codemirror_mode": {
    "name": "ipython",
    "version": 3
   },
   "file_extension": ".py",
   "mimetype": "text/x-python",
   "name": "python",
   "nbconvert_exporter": "python",
   "pygments_lexer": "ipython3",
   "version": "3.10.9"
  }
 },
 "nbformat": 4,
 "nbformat_minor": 5
}
