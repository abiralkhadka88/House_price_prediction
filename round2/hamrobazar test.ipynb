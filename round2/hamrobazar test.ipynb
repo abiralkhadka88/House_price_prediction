{
 "cells": [
  {
   "cell_type": "code",
   "execution_count": 1,
   "id": "c7cfcdf9",
   "metadata": {},
   "outputs": [],
   "source": [
    "import pandas as pd\n",
    "import matplotlib as plt\n",
    "import seaborn as sns"
   ]
  },
  {
   "cell_type": "code",
   "execution_count": 2,
   "id": "a3f56d62",
   "metadata": {},
   "outputs": [],
   "source": [
    "df = pd.read_csv('hamro_AB_AS_MB_SM.csv')"
   ]
  },
  {
   "cell_type": "code",
   "execution_count": 3,
   "id": "906915e9",
   "metadata": {},
   "outputs": [
    {
     "data": {
      "text/plain": [
       "(3408, 8)"
      ]
     },
     "execution_count": 3,
     "metadata": {},
     "output_type": "execute_result"
    }
   ],
   "source": [
    "df.shape"
   ]
  },
  {
   "cell_type": "code",
   "execution_count": 4,
   "id": "ac9da5a6",
   "metadata": {},
   "outputs": [
    {
     "data": {
      "text/html": [
       "<div>\n",
       "<style scoped>\n",
       "    .dataframe tbody tr th:only-of-type {\n",
       "        vertical-align: middle;\n",
       "    }\n",
       "\n",
       "    .dataframe tbody tr th {\n",
       "        vertical-align: top;\n",
       "    }\n",
       "\n",
       "    .dataframe thead th {\n",
       "        text-align: right;\n",
       "    }\n",
       "</style>\n",
       "<table border=\"1\" class=\"dataframe\">\n",
       "  <thead>\n",
       "    <tr style=\"text-align: right;\">\n",
       "      <th></th>\n",
       "      <th>Price</th>\n",
       "      <th>Road</th>\n",
       "    </tr>\n",
       "  </thead>\n",
       "  <tbody>\n",
       "    <tr>\n",
       "      <th>count</th>\n",
       "      <td>3.408000e+03</td>\n",
       "      <td>3244.000000</td>\n",
       "    </tr>\n",
       "    <tr>\n",
       "      <th>mean</th>\n",
       "      <td>1.153894e+14</td>\n",
       "      <td>13.715475</td>\n",
       "    </tr>\n",
       "    <tr>\n",
       "      <th>std</th>\n",
       "      <td>4.008551e+15</td>\n",
       "      <td>2.882977</td>\n",
       "    </tr>\n",
       "    <tr>\n",
       "      <th>min</th>\n",
       "      <td>1.000000e+00</td>\n",
       "      <td>5.000000</td>\n",
       "    </tr>\n",
       "    <tr>\n",
       "      <th>25%</th>\n",
       "      <td>2.400000e+07</td>\n",
       "      <td>13.000000</td>\n",
       "    </tr>\n",
       "    <tr>\n",
       "      <th>50%</th>\n",
       "      <td>3.250000e+07</td>\n",
       "      <td>13.000000</td>\n",
       "    </tr>\n",
       "    <tr>\n",
       "      <th>75%</th>\n",
       "      <td>5.000000e+07</td>\n",
       "      <td>13.000000</td>\n",
       "    </tr>\n",
       "    <tr>\n",
       "      <th>max</th>\n",
       "      <td>2.000000e+17</td>\n",
       "      <td>20.000000</td>\n",
       "    </tr>\n",
       "  </tbody>\n",
       "</table>\n",
       "</div>"
      ],
      "text/plain": [
       "              Price         Road\n",
       "count  3.408000e+03  3244.000000\n",
       "mean   1.153894e+14    13.715475\n",
       "std    4.008551e+15     2.882977\n",
       "min    1.000000e+00     5.000000\n",
       "25%    2.400000e+07    13.000000\n",
       "50%    3.250000e+07    13.000000\n",
       "75%    5.000000e+07    13.000000\n",
       "max    2.000000e+17    20.000000"
      ]
     },
     "execution_count": 4,
     "metadata": {},
     "output_type": "execute_result"
    }
   ],
   "source": [
    "df.describe()"
   ]
  },
  {
   "cell_type": "code",
   "execution_count": 9,
   "id": "6607e477",
   "metadata": {},
   "outputs": [
    {
     "data": {
      "text/html": [
       "<div>\n",
       "<style scoped>\n",
       "    .dataframe tbody tr th:only-of-type {\n",
       "        vertical-align: middle;\n",
       "    }\n",
       "\n",
       "    .dataframe tbody tr th {\n",
       "        vertical-align: top;\n",
       "    }\n",
       "\n",
       "    .dataframe thead th {\n",
       "        text-align: right;\n",
       "    }\n",
       "</style>\n",
       "<table border=\"1\" class=\"dataframe\">\n",
       "  <thead>\n",
       "    <tr style=\"text-align: right;\">\n",
       "      <th></th>\n",
       "      <th>Price</th>\n",
       "      <th>Address</th>\n",
       "      <th>Floor</th>\n",
       "      <th>Bathroom</th>\n",
       "      <th>Bedroom</th>\n",
       "      <th>Land</th>\n",
       "      <th>Road</th>\n",
       "      <th>Land Mark</th>\n",
       "    </tr>\n",
       "  </thead>\n",
       "  <tbody>\n",
       "    <tr>\n",
       "      <th>3403</th>\n",
       "      <td>15500000.00</td>\n",
       "      <td>गोकर्णेश्वर</td>\n",
       "      <td>NaN</td>\n",
       "      <td>NaN</td>\n",
       "      <td>NaN</td>\n",
       "      <td>NaN</td>\n",
       "      <td>NaN</td>\n",
       "      <td>NaN</td>\n",
       "    </tr>\n",
       "    <tr>\n",
       "      <th>3404</th>\n",
       "      <td>45000000.00</td>\n",
       "      <td>Kathmandu &gt; Mandikatar (Dhumbarahi)</td>\n",
       "      <td>NaN</td>\n",
       "      <td>NaN</td>\n",
       "      <td>NaN</td>\n",
       "      <td>NaN</td>\n",
       "      <td>NaN</td>\n",
       "      <td>Mandikhatar heights</td>\n",
       "    </tr>\n",
       "    <tr>\n",
       "      <th>3405</th>\n",
       "      <td>50000000.00</td>\n",
       "      <td>Budhanilkantha, Kathmandu</td>\n",
       "      <td>NaN</td>\n",
       "      <td>NaN</td>\n",
       "      <td>NaN</td>\n",
       "      <td>NaN</td>\n",
       "      <td>NaN</td>\n",
       "      <td>NaN</td>\n",
       "    </tr>\n",
       "    <tr>\n",
       "      <th>3406</th>\n",
       "      <td>34000000.00</td>\n",
       "      <td>Sano Bharyang, Kathmandu, Kathmandu Metropolit...</td>\n",
       "      <td>NaN</td>\n",
       "      <td>NaN</td>\n",
       "      <td>NaN</td>\n",
       "      <td>NaN</td>\n",
       "      <td>NaN</td>\n",
       "      <td>NaN</td>\n",
       "    </tr>\n",
       "    <tr>\n",
       "      <th>3407</th>\n",
       "      <td>21000000.00</td>\n",
       "      <td>Achham (Other Area), Achham</td>\n",
       "      <td>NaN</td>\n",
       "      <td>NaN</td>\n",
       "      <td>NaN</td>\n",
       "      <td>NaN</td>\n",
       "      <td>NaN</td>\n",
       "      <td>NaN</td>\n",
       "    </tr>\n",
       "  </tbody>\n",
       "</table>\n",
       "</div>"
      ],
      "text/plain": [
       "           Price                                            Address Floor  \\\n",
       "3403 15500000.00                                        गोकर्णेश्वर   NaN   \n",
       "3404 45000000.00                Kathmandu > Mandikatar (Dhumbarahi)   NaN   \n",
       "3405 50000000.00                          Budhanilkantha, Kathmandu   NaN   \n",
       "3406 34000000.00  Sano Bharyang, Kathmandu, Kathmandu Metropolit...   NaN   \n",
       "3407 21000000.00                        Achham (Other Area), Achham   NaN   \n",
       "\n",
       "     Bathroom Bedroom Land  Road            Land Mark  \n",
       "3403      NaN     NaN  NaN   NaN                  NaN  \n",
       "3404      NaN     NaN  NaN   NaN  Mandikhatar heights  \n",
       "3405      NaN     NaN  NaN   NaN                  NaN  \n",
       "3406      NaN     NaN  NaN   NaN                  NaN  \n",
       "3407      NaN     NaN  NaN   NaN                  NaN  "
      ]
     },
     "execution_count": 9,
     "metadata": {},
     "output_type": "execute_result"
    }
   ],
   "source": [
    "df.tail()"
   ]
  },
  {
   "cell_type": "code",
   "execution_count": 11,
   "id": "1f5aa389",
   "metadata": {},
   "outputs": [
    {
     "data": {
      "text/plain": [
       "Price           0\n",
       "Address         0\n",
       "Floor         255\n",
       "Bathroom      331\n",
       "Bedroom       337\n",
       "Land          164\n",
       "Road          164\n",
       "Land Mark    2212\n",
       "dtype: int64"
      ]
     },
     "execution_count": 11,
     "metadata": {},
     "output_type": "execute_result"
    }
   ],
   "source": [
    "df.isna().sum()"
   ]
  },
  {
   "cell_type": "code",
   "execution_count": 12,
   "id": "657cc4ad",
   "metadata": {},
   "outputs": [],
   "source": [
    "dropped = df.dropna()"
   ]
  },
  {
   "cell_type": "code",
   "execution_count": 14,
   "id": "2469c4bc",
   "metadata": {},
   "outputs": [
    {
     "data": {
      "text/html": [
       "<div>\n",
       "<style scoped>\n",
       "    .dataframe tbody tr th:only-of-type {\n",
       "        vertical-align: middle;\n",
       "    }\n",
       "\n",
       "    .dataframe tbody tr th {\n",
       "        vertical-align: top;\n",
       "    }\n",
       "\n",
       "    .dataframe thead th {\n",
       "        text-align: right;\n",
       "    }\n",
       "</style>\n",
       "<table border=\"1\" class=\"dataframe\">\n",
       "  <thead>\n",
       "    <tr style=\"text-align: right;\">\n",
       "      <th></th>\n",
       "      <th>Price</th>\n",
       "      <th>Address</th>\n",
       "      <th>Floor</th>\n",
       "      <th>Bathroom</th>\n",
       "      <th>Bedroom</th>\n",
       "      <th>Land</th>\n",
       "      <th>Road</th>\n",
       "      <th>Land Mark</th>\n",
       "    </tr>\n",
       "  </thead>\n",
       "  <tbody>\n",
       "    <tr>\n",
       "      <th>5</th>\n",
       "      <td>31500000.00</td>\n",
       "      <td>Kuti Galli, माइजु बहल, चाबहिल</td>\n",
       "      <td>0</td>\n",
       "      <td>4</td>\n",
       "      <td>6</td>\n",
       "      <td>1369</td>\n",
       "      <td>13.00</td>\n",
       "      <td>chabahil</td>\n",
       "    </tr>\n",
       "    <tr>\n",
       "      <th>13</th>\n",
       "      <td>39900000.00</td>\n",
       "      <td>Budhanilkantha, Kathmandu</td>\n",
       "      <td>0</td>\n",
       "      <td>4</td>\n",
       "      <td>6</td>\n",
       "      <td>0</td>\n",
       "      <td>12.00</td>\n",
       "      <td>budhanilkantha</td>\n",
       "    </tr>\n",
       "    <tr>\n",
       "      <th>17</th>\n",
       "      <td>27500000.00</td>\n",
       "      <td>Milijuli Tol, चप्पल कारखाना</td>\n",
       "      <td>0</td>\n",
       "      <td>3</td>\n",
       "      <td>4</td>\n",
       "      <td>0</td>\n",
       "      <td>13.00</td>\n",
       "      <td>bansbari</td>\n",
       "    </tr>\n",
       "    <tr>\n",
       "      <th>21</th>\n",
       "      <td>16500000.00</td>\n",
       "      <td>Maulo Gade Pokhari, Chandragiri Municipality, ...</td>\n",
       "      <td>0</td>\n",
       "      <td>0</td>\n",
       "      <td>0</td>\n",
       "      <td>855.625</td>\n",
       "      <td>13.00</td>\n",
       "      <td>0</td>\n",
       "    </tr>\n",
       "    <tr>\n",
       "      <th>33</th>\n",
       "      <td>13000000.00</td>\n",
       "      <td>Ranibari (Samakhusi), Kathmandu</td>\n",
       "      <td>0</td>\n",
       "      <td>0.0</td>\n",
       "      <td>0.0</td>\n",
       "      <td>1369</td>\n",
       "      <td>5.00</td>\n",
       "      <td>0</td>\n",
       "    </tr>\n",
       "    <tr>\n",
       "      <th>...</th>\n",
       "      <td>...</td>\n",
       "      <td>...</td>\n",
       "      <td>...</td>\n",
       "      <td>...</td>\n",
       "      <td>...</td>\n",
       "      <td>...</td>\n",
       "      <td>...</td>\n",
       "      <td>...</td>\n",
       "    </tr>\n",
       "    <tr>\n",
       "      <th>3146</th>\n",
       "      <td>11800000.00</td>\n",
       "      <td>naya baneshwar, New Baneshwor, Kathmandu</td>\n",
       "      <td>O</td>\n",
       "      <td>O</td>\n",
       "      <td>O</td>\n",
       "      <td>2464.2</td>\n",
       "      <td>20.00</td>\n",
       "      <td>Newbaneshwor sangam chok</td>\n",
       "    </tr>\n",
       "    <tr>\n",
       "      <th>3147</th>\n",
       "      <td>13800000.00</td>\n",
       "      <td>Lamatar (Mahalaxmi), Lalitpur</td>\n",
       "      <td>O</td>\n",
       "      <td>O</td>\n",
       "      <td>O</td>\n",
       "      <td>1026.75</td>\n",
       "      <td>13.00</td>\n",
       "      <td>Lamatar housing near</td>\n",
       "    </tr>\n",
       "    <tr>\n",
       "      <th>3148</th>\n",
       "      <td>97500000.00</td>\n",
       "      <td>naya baneshwar, Min Bhawan (New Baneshwor), Ka...</td>\n",
       "      <td>O</td>\n",
       "      <td>O</td>\n",
       "      <td>O</td>\n",
       "      <td>3490.95</td>\n",
       "      <td>20.00</td>\n",
       "      <td>New baneshwor pathshala school</td>\n",
       "    </tr>\n",
       "    <tr>\n",
       "      <th>3149</th>\n",
       "      <td>4150000.00</td>\n",
       "      <td>Imadol (Mahalaxmi), Lalitpur</td>\n",
       "      <td>O</td>\n",
       "      <td>O</td>\n",
       "      <td>O</td>\n",
       "      <td>1026.75</td>\n",
       "      <td>13.00</td>\n",
       "      <td>Imadol pawan prakrti school</td>\n",
       "    </tr>\n",
       "    <tr>\n",
       "      <th>3151</th>\n",
       "      <td>75000000.00</td>\n",
       "      <td>hadigaun hadigaon, Handigaun, Kathmandu</td>\n",
       "      <td>tiles, marble</td>\n",
       "      <td>2</td>\n",
       "      <td>5</td>\n",
       "      <td>2609.65</td>\n",
       "      <td>13.00</td>\n",
       "      <td>Near Lakshmi bank</td>\n",
       "    </tr>\n",
       "  </tbody>\n",
       "</table>\n",
       "<p>1065 rows × 8 columns</p>\n",
       "</div>"
      ],
      "text/plain": [
       "           Price                                            Address  \\\n",
       "5    31500000.00                      Kuti Galli, माइजु बहल, चाबहिल   \n",
       "13   39900000.00                          Budhanilkantha, Kathmandu   \n",
       "17   27500000.00                        Milijuli Tol, चप्पल कारखाना   \n",
       "21   16500000.00  Maulo Gade Pokhari, Chandragiri Municipality, ...   \n",
       "33   13000000.00                    Ranibari (Samakhusi), Kathmandu   \n",
       "...          ...                                                ...   \n",
       "3146 11800000.00           naya baneshwar, New Baneshwor, Kathmandu   \n",
       "3147 13800000.00                      Lamatar (Mahalaxmi), Lalitpur   \n",
       "3148 97500000.00  naya baneshwar, Min Bhawan (New Baneshwor), Ka...   \n",
       "3149  4150000.00                       Imadol (Mahalaxmi), Lalitpur   \n",
       "3151 75000000.00            hadigaun hadigaon, Handigaun, Kathmandu   \n",
       "\n",
       "              Floor Bathroom Bedroom     Land  Road  \\\n",
       "5                 0        4       6     1369 13.00   \n",
       "13                0        4       6        0 12.00   \n",
       "17                0        3       4        0 13.00   \n",
       "21                0        0       0  855.625 13.00   \n",
       "33                0      0.0     0.0     1369  5.00   \n",
       "...             ...      ...     ...      ...   ...   \n",
       "3146              O        O       O   2464.2 20.00   \n",
       "3147              O        O       O  1026.75 13.00   \n",
       "3148              O        O       O  3490.95 20.00   \n",
       "3149              O        O       O  1026.75 13.00   \n",
       "3151  tiles, marble        2       5  2609.65 13.00   \n",
       "\n",
       "                           Land Mark  \n",
       "5                           chabahil  \n",
       "13                    budhanilkantha  \n",
       "17                          bansbari  \n",
       "21                                 0  \n",
       "33                                 0  \n",
       "...                              ...  \n",
       "3146        Newbaneshwor sangam chok  \n",
       "3147            Lamatar housing near  \n",
       "3148  New baneshwor pathshala school  \n",
       "3149     Imadol pawan prakrti school  \n",
       "3151               Near Lakshmi bank  \n",
       "\n",
       "[1065 rows x 8 columns]"
      ]
     },
     "execution_count": 14,
     "metadata": {},
     "output_type": "execute_result"
    }
   ],
   "source": [
    "dropped"
   ]
  },
  {
   "cell_type": "code",
   "execution_count": 16,
   "id": "0eb4f009",
   "metadata": {},
   "outputs": [
    {
     "data": {
      "text/plain": [
       "227605674702102.3"
      ]
     },
     "execution_count": 16,
     "metadata": {},
     "output_type": "execute_result"
    }
   ],
   "source": [
    "dropped['Price'].mean()"
   ]
  },
  {
   "cell_type": "code",
   "execution_count": 28,
   "id": "c54ce098",
   "metadata": {},
   "outputs": [],
   "source": [
    "dropped.loc[:, 'Floor'] = dropped['Floor'].str.replace('floor', '')"
   ]
  },
  {
   "cell_type": "code",
   "execution_count": 40,
   "id": "e4b3d507",
   "metadata": {},
   "outputs": [
    {
     "data": {
      "text/plain": [
       "array(['0', '1', '1 ', '1 .5', '1.5', '10', '12', '3', '13', '15', '2',\n",
       "       '2 & Half ', '2 1', '2 and 1/2', '2 and Hal Floor', '2 and half',\n",
       "       '2.5', '25', '25 Talle', '25 ', '25 s', '250', '26', '275',\n",
       "       '3 & a half', '3 & half', '3 Floors', '3 ana', '3 and half story',\n",
       "       '3 s', '3-Jan', '3.5', '35', '35 ', '350', '3rd dloor', '4',\n",
       "       '4 and half', '4.5', '43', '45', '5', '55', '6', '6-Apr', '800',\n",
       "       'G+1', 'O', 'tiles, marble'], dtype=object)"
      ]
     },
     "execution_count": 40,
     "metadata": {},
     "output_type": "execute_result"
    }
   ],
   "source": [
    "dropped['Floor'].unique()"
   ]
  },
  {
   "cell_type": "code",
   "execution_count": 32,
   "id": "35e918d3",
   "metadata": {},
   "outputs": [],
   "source": [
    "floor = dropped[dropped['Floor']=='123']"
   ]
  },
  {
   "cell_type": "code",
   "execution_count": 33,
   "id": "27760548",
   "metadata": {},
   "outputs": [
    {
     "data": {
      "text/html": [
       "<div>\n",
       "<style scoped>\n",
       "    .dataframe tbody tr th:only-of-type {\n",
       "        vertical-align: middle;\n",
       "    }\n",
       "\n",
       "    .dataframe tbody tr th {\n",
       "        vertical-align: top;\n",
       "    }\n",
       "\n",
       "    .dataframe thead th {\n",
       "        text-align: right;\n",
       "    }\n",
       "</style>\n",
       "<table border=\"1\" class=\"dataframe\">\n",
       "  <thead>\n",
       "    <tr style=\"text-align: right;\">\n",
       "      <th></th>\n",
       "      <th>Price</th>\n",
       "      <th>Address</th>\n",
       "      <th>Floor</th>\n",
       "      <th>Bathroom</th>\n",
       "      <th>Bedroom</th>\n",
       "      <th>Land</th>\n",
       "      <th>Road</th>\n",
       "      <th>Land Mark</th>\n",
       "    </tr>\n",
       "  </thead>\n",
       "  <tbody>\n",
       "    <tr>\n",
       "      <th>243</th>\n",
       "      <td>21000000.00</td>\n",
       "      <td>245, Tukucha Marga, Kirtan Chok, Baluwatar, Ka...</td>\n",
       "      <td>123</td>\n",
       "      <td>3</td>\n",
       "      <td>7</td>\n",
       "      <td>684.5</td>\n",
       "      <td>13.00</td>\n",
       "      <td>Gairidhara near Alice restaurant</td>\n",
       "    </tr>\n",
       "  </tbody>\n",
       "</table>\n",
       "</div>"
      ],
      "text/plain": [
       "          Price                                            Address Floor  \\\n",
       "243 21000000.00  245, Tukucha Marga, Kirtan Chok, Baluwatar, Ka...   123   \n",
       "\n",
       "    Bathroom Bedroom   Land  Road                         Land Mark  \n",
       "243        3       7  684.5 13.00  Gairidhara near Alice restaurant  "
      ]
     },
     "execution_count": 33,
     "metadata": {},
     "output_type": "execute_result"
    }
   ],
   "source": [
    "floor"
   ]
  },
  {
   "cell_type": "code",
   "execution_count": 36,
   "id": "76aee603",
   "metadata": {},
   "outputs": [],
   "source": [
    "dropped.loc[:, 'Floor'] = dropped['Floor'].str.replace('with extra room on top', '.5')"
   ]
  },
  {
   "cell_type": "code",
   "execution_count": 38,
   "id": "8096f8f0",
   "metadata": {},
   "outputs": [],
   "source": [
    "dropped = dropped[dropped['Floor'] != '1/4/1900']"
   ]
  },
  {
   "cell_type": "code",
   "execution_count": 39,
   "id": "fe3b0cfa",
   "metadata": {},
   "outputs": [
    {
     "data": {
      "text/html": [
       "<div>\n",
       "<style scoped>\n",
       "    .dataframe tbody tr th:only-of-type {\n",
       "        vertical-align: middle;\n",
       "    }\n",
       "\n",
       "    .dataframe tbody tr th {\n",
       "        vertical-align: top;\n",
       "    }\n",
       "\n",
       "    .dataframe thead th {\n",
       "        text-align: right;\n",
       "    }\n",
       "</style>\n",
       "<table border=\"1\" class=\"dataframe\">\n",
       "  <thead>\n",
       "    <tr style=\"text-align: right;\">\n",
       "      <th></th>\n",
       "      <th>Price</th>\n",
       "      <th>Address</th>\n",
       "      <th>Floor</th>\n",
       "      <th>Bathroom</th>\n",
       "      <th>Bedroom</th>\n",
       "      <th>Land</th>\n",
       "      <th>Road</th>\n",
       "      <th>Land Mark</th>\n",
       "    </tr>\n",
       "  </thead>\n",
       "  <tbody>\n",
       "    <tr>\n",
       "      <th>5</th>\n",
       "      <td>31500000.00</td>\n",
       "      <td>Kuti Galli, माइजु बहल, चाबहिल</td>\n",
       "      <td>0</td>\n",
       "      <td>4</td>\n",
       "      <td>6</td>\n",
       "      <td>1369</td>\n",
       "      <td>13.00</td>\n",
       "      <td>chabahil</td>\n",
       "    </tr>\n",
       "    <tr>\n",
       "      <th>13</th>\n",
       "      <td>39900000.00</td>\n",
       "      <td>Budhanilkantha, Kathmandu</td>\n",
       "      <td>0</td>\n",
       "      <td>4</td>\n",
       "      <td>6</td>\n",
       "      <td>0</td>\n",
       "      <td>12.00</td>\n",
       "      <td>budhanilkantha</td>\n",
       "    </tr>\n",
       "    <tr>\n",
       "      <th>17</th>\n",
       "      <td>27500000.00</td>\n",
       "      <td>Milijuli Tol, चप्पल कारखाना</td>\n",
       "      <td>0</td>\n",
       "      <td>3</td>\n",
       "      <td>4</td>\n",
       "      <td>0</td>\n",
       "      <td>13.00</td>\n",
       "      <td>bansbari</td>\n",
       "    </tr>\n",
       "    <tr>\n",
       "      <th>21</th>\n",
       "      <td>16500000.00</td>\n",
       "      <td>Maulo Gade Pokhari, Chandragiri Municipality, ...</td>\n",
       "      <td>0</td>\n",
       "      <td>0</td>\n",
       "      <td>0</td>\n",
       "      <td>855.625</td>\n",
       "      <td>13.00</td>\n",
       "      <td>0</td>\n",
       "    </tr>\n",
       "    <tr>\n",
       "      <th>33</th>\n",
       "      <td>13000000.00</td>\n",
       "      <td>Ranibari (Samakhusi), Kathmandu</td>\n",
       "      <td>0</td>\n",
       "      <td>0.0</td>\n",
       "      <td>0.0</td>\n",
       "      <td>1369</td>\n",
       "      <td>5.00</td>\n",
       "      <td>0</td>\n",
       "    </tr>\n",
       "  </tbody>\n",
       "</table>\n",
       "</div>"
      ],
      "text/plain": [
       "         Price                                            Address Floor  \\\n",
       "5  31500000.00                      Kuti Galli, माइजु बहल, चाबहिल     0   \n",
       "13 39900000.00                          Budhanilkantha, Kathmandu     0   \n",
       "17 27500000.00                        Milijuli Tol, चप्पल कारखाना     0   \n",
       "21 16500000.00  Maulo Gade Pokhari, Chandragiri Municipality, ...     0   \n",
       "33 13000000.00                    Ranibari (Samakhusi), Kathmandu     0   \n",
       "\n",
       "   Bathroom Bedroom     Land  Road       Land Mark  \n",
       "5         4       6     1369 13.00        chabahil  \n",
       "13        4       6        0 12.00  budhanilkantha  \n",
       "17        3       4        0 13.00        bansbari  \n",
       "21        0       0  855.625 13.00               0  \n",
       "33      0.0     0.0     1369  5.00               0  "
      ]
     },
     "execution_count": 39,
     "metadata": {},
     "output_type": "execute_result"
    }
   ],
   "source": []
  },
  {
   "cell_type": "code",
   "execution_count": 41,
   "id": "ea6272bd",
   "metadata": {},
   "outputs": [],
   "source": [
    "dropped.loc[:, 'Floor'] = dropped['Floor'].str.replace('half', '.5')"
   ]
  },
  {
   "cell_type": "code",
   "execution_count": 70,
   "id": "3811dd55",
   "metadata": {},
   "outputs": [],
   "source": [
    "unique = dropped['Floor'].unique()"
   ]
  },
  {
   "cell_type": "code",
   "execution_count": 43,
   "id": "a32c3d4a",
   "metadata": {},
   "outputs": [],
   "source": [
    "dropped.loc[:, 'Floor'] = dropped['Floor'].str.replace('Half', '.5')"
   ]
  },
  {
   "cell_type": "code",
   "execution_count": 45,
   "id": "3c2c22c0",
   "metadata": {},
   "outputs": [
    {
     "data": {
      "text/plain": [
       "array(['0', '1', '1 ', '1 .5', '1.5', '10', '12', '3', '13', '15', '2',\n",
       "       '2 & .5 ', '2 1', '2 and 1/2', '2 and Hal Floor', '2 and .5',\n",
       "       '2.5', '25', '25 Talle', '25 ', '25 s', '250', '26', '275',\n",
       "       '3 & a .5', '3 & .5', '3 Floors', '3 ana', '3 and .5 story', '3 s',\n",
       "       '3-Jan', '3.5', '35', '35 ', '350', '3rd dloor', '4', '4 and .5',\n",
       "       '4.5', '43', '45', '5', '55', '6', '6-Apr', '800', 'G+1', 'O',\n",
       "       'tiles, marble'], dtype=object)"
      ]
     },
     "execution_count": 45,
     "metadata": {},
     "output_type": "execute_result"
    }
   ],
   "source": [
    "unique"
   ]
  },
  {
   "cell_type": "code",
   "execution_count": 46,
   "id": "043ea6c7",
   "metadata": {},
   "outputs": [],
   "source": [
    "floor_value_to_drop = ['tiles, marble','G+1','6-Apr','275','3-Jan']"
   ]
  },
  {
   "cell_type": "code",
   "execution_count": 49,
   "id": "b47b6958",
   "metadata": {},
   "outputs": [],
   "source": [
    "dropped = dropped[~dropped['Floor'].isin(floor_value_to_drop)]\n"
   ]
  },
  {
   "cell_type": "code",
   "execution_count": 71,
   "id": "aa833c68",
   "metadata": {},
   "outputs": [
    {
     "data": {
      "text/plain": [
       "array(['0', '1', '1 ', '1 .5', '1.5', '10', '12', '3', '13', '15', '2',\n",
       "       '2 & .5 ', '2 1', '2 and 1/2', '2 and Hal Floor', '2 and .5',\n",
       "       '2.5', '25', '25 ', '25 s', '250', '26', '3 & a .5', '3 & .5',\n",
       "       '3 Floors', '3 ana', '3 and .5 story', '3 s', '3.5', '35', '35 ',\n",
       "       '350', '3rd dloor', '4', '4 and .5', '4.5', '43', '45', '5', '55',\n",
       "       '6', '800', 'O'], dtype=object)"
      ]
     },
     "execution_count": 71,
     "metadata": {},
     "output_type": "execute_result"
    }
   ],
   "source": [
    "unique"
   ]
  },
  {
   "cell_type": "code",
   "execution_count": 64,
   "id": "8b9a2256",
   "metadata": {},
   "outputs": [],
   "source": [
    "a =dropped[dropped['Floor'] == '25 Talle']"
   ]
  },
  {
   "cell_type": "code",
   "execution_count": 68,
   "id": "67b83a71",
   "metadata": {},
   "outputs": [],
   "source": [
    "dropped['Floor']=dropped['Floor'].str.replace('25 Talle','2.5')"
   ]
  },
  {
   "cell_type": "code",
   "execution_count": 72,
   "id": "b74c73cf",
   "metadata": {},
   "outputs": [],
   "source": [
    "dropped['Floor']=dropped['Floor'].str.replace('and','').str.replace('&', '')"
   ]
  },
  {
   "cell_type": "code",
   "execution_count": 73,
   "id": "bc2e0c36",
   "metadata": {},
   "outputs": [
    {
     "data": {
      "text/plain": [
       "array(['0', '1', '1 ', '1 .5', '1.5', '10', '12', '3', '13', '15', '2',\n",
       "       '2  .5 ', '2 1', '2  1/2', '2  Hal Floor', '2  .5', '2.5', '25',\n",
       "       '25 ', '25 s', '250', '26', '3  a .5', '3  .5', '3 Floors',\n",
       "       '3 ana', '3  .5 story', '3 s', '3.5', '35', '35 ', '350',\n",
       "       '3rd dloor', '4', '4  .5', '4.5', '43', '45', '5', '55', '6',\n",
       "       '800', 'O'], dtype=object)"
      ]
     },
     "execution_count": 73,
     "metadata": {},
     "output_type": "execute_result"
    }
   ],
   "source": [
    "dropped['Floor'].unique()"
   ]
  },
  {
   "cell_type": "code",
   "execution_count": 75,
   "id": "9aa5fbdf",
   "metadata": {},
   "outputs": [],
   "source": [
    "dropped['Floor']=dropped['Floor'].str.replace('Floors','').str.replace('story', '').str.replace('dloor','')"
   ]
  },
  {
   "cell_type": "code",
   "execution_count": 88,
   "id": "b2be8de9",
   "metadata": {},
   "outputs": [
    {
     "data": {
      "text/plain": [
       "array(['0', '1', '1 ', '1 .5', '1.5', '10', '12', '3', '13', '15', '2',\n",
       "       '2  .5 ', '2 1', '2  .5', '2.5', '25', '25 ', '25 s', '250', '26',\n",
       "       '3   .5', '3  .5', '3 ', '3  .5 ', '3 s', '3.5', '35', '35 ',\n",
       "       '350', '3rd ', '4', '4  .5', '4.5', '43', '45', '5', '55', '6',\n",
       "       '800', 'O'], dtype=object)"
      ]
     },
     "execution_count": 88,
     "metadata": {},
     "output_type": "execute_result"
    }
   ],
   "source": [
    "dropped['Floor'].unique()"
   ]
  },
  {
   "cell_type": "code",
   "execution_count": 79,
   "id": "a8c9c453",
   "metadata": {},
   "outputs": [],
   "source": [
    "dropped['Floor']=dropped['Floor'].str.replace('Hal Floor','.5')"
   ]
  },
  {
   "cell_type": "code",
   "execution_count": 78,
   "id": "2e5d6690",
   "metadata": {},
   "outputs": [
    {
     "data": {
      "text/html": [
       "<div>\n",
       "<style scoped>\n",
       "    .dataframe tbody tr th:only-of-type {\n",
       "        vertical-align: middle;\n",
       "    }\n",
       "\n",
       "    .dataframe tbody tr th {\n",
       "        vertical-align: top;\n",
       "    }\n",
       "\n",
       "    .dataframe thead th {\n",
       "        text-align: right;\n",
       "    }\n",
       "</style>\n",
       "<table border=\"1\" class=\"dataframe\">\n",
       "  <thead>\n",
       "    <tr style=\"text-align: right;\">\n",
       "      <th></th>\n",
       "      <th>Price</th>\n",
       "      <th>Address</th>\n",
       "      <th>Floor</th>\n",
       "      <th>Bathroom</th>\n",
       "      <th>Bedroom</th>\n",
       "      <th>Land</th>\n",
       "      <th>Road</th>\n",
       "      <th>Land Mark</th>\n",
       "    </tr>\n",
       "  </thead>\n",
       "  <tbody>\n",
       "    <tr>\n",
       "      <th>232</th>\n",
       "      <td>37500000.00</td>\n",
       "      <td>Kathmandu &gt; Gyaneshwar</td>\n",
       "      <td>10</td>\n",
       "      <td>6</td>\n",
       "      <td>5</td>\n",
       "      <td>1369</td>\n",
       "      <td>13.00</td>\n",
       "      <td>kalopull nagik gyaneswor jane bato ma</td>\n",
       "    </tr>\n",
       "  </tbody>\n",
       "</table>\n",
       "</div>"
      ],
      "text/plain": [
       "          Price                 Address Floor Bathroom Bedroom  Land  Road  \\\n",
       "232 37500000.00  Kathmandu > Gyaneshwar    10        6       5  1369 13.00   \n",
       "\n",
       "                                 Land Mark  \n",
       "232  kalopull nagik gyaneswor jane bato ma  "
      ]
     },
     "execution_count": 78,
     "metadata": {},
     "output_type": "execute_result"
    }
   ],
   "source": [
    "a = "
   ]
  },
  {
   "cell_type": "code",
   "execution_count": 82,
   "id": "baa8ed2c",
   "metadata": {},
   "outputs": [],
   "source": [
    "a =dropped[dropped['Floor'] == '3 ana']"
   ]
  },
  {
   "cell_type": "code",
   "execution_count": 83,
   "id": "498fae85",
   "metadata": {},
   "outputs": [
    {
     "data": {
      "text/html": [
       "<div>\n",
       "<style scoped>\n",
       "    .dataframe tbody tr th:only-of-type {\n",
       "        vertical-align: middle;\n",
       "    }\n",
       "\n",
       "    .dataframe tbody tr th {\n",
       "        vertical-align: top;\n",
       "    }\n",
       "\n",
       "    .dataframe thead th {\n",
       "        text-align: right;\n",
       "    }\n",
       "</style>\n",
       "<table border=\"1\" class=\"dataframe\">\n",
       "  <thead>\n",
       "    <tr style=\"text-align: right;\">\n",
       "      <th></th>\n",
       "      <th>Price</th>\n",
       "      <th>Address</th>\n",
       "      <th>Floor</th>\n",
       "      <th>Bathroom</th>\n",
       "      <th>Bedroom</th>\n",
       "      <th>Land</th>\n",
       "      <th>Road</th>\n",
       "      <th>Land Mark</th>\n",
       "    </tr>\n",
       "  </thead>\n",
       "  <tbody>\n",
       "    <tr>\n",
       "      <th>2645</th>\n",
       "      <td>20500000.00</td>\n",
       "      <td>Thankot (Chandragiri), Kathmandu</td>\n",
       "      <td>3 ana</td>\n",
       "      <td>3</td>\n",
       "      <td>6</td>\n",
       "      <td>1026.75</td>\n",
       "      <td>12.00</td>\n",
       "      <td>Thankot</td>\n",
       "    </tr>\n",
       "  </tbody>\n",
       "</table>\n",
       "</div>"
      ],
      "text/plain": [
       "           Price                           Address  Floor Bathroom Bedroom  \\\n",
       "2645 20500000.00  Thankot (Chandragiri), Kathmandu  3 ana        3       6   \n",
       "\n",
       "         Land  Road Land Mark  \n",
       "2645  1026.75 12.00   Thankot  "
      ]
     },
     "execution_count": 83,
     "metadata": {},
     "output_type": "execute_result"
    }
   ],
   "source": [
    "a"
   ]
  },
  {
   "cell_type": "code",
   "execution_count": 84,
   "id": "8f498810",
   "metadata": {},
   "outputs": [],
   "source": [
    "dropped['Floor']=dropped['Floor'].str.replace('ana','')"
   ]
  },
  {
   "cell_type": "code",
   "execution_count": 86,
   "id": "9deede69",
   "metadata": {},
   "outputs": [],
   "source": [
    "dropped['Floor']=dropped['Floor'].str.replace('1/2','.5')"
   ]
  },
  {
   "cell_type": "code",
   "execution_count": 87,
   "id": "df55241c",
   "metadata": {},
   "outputs": [],
   "source": [
    "dropped['Floor']=dropped['Floor'].str.replace('a','')"
   ]
  },
  {
   "cell_type": "code",
   "execution_count": 89,
   "id": "580e9cd1",
   "metadata": {},
   "outputs": [],
   "source": [
    "a =dropped[dropped['Floor'] == '25']"
   ]
  },
  {
   "cell_type": "code",
   "execution_count": 90,
   "id": "e92f71db",
   "metadata": {},
   "outputs": [
    {
     "data": {
      "text/html": [
       "<div>\n",
       "<style scoped>\n",
       "    .dataframe tbody tr th:only-of-type {\n",
       "        vertical-align: middle;\n",
       "    }\n",
       "\n",
       "    .dataframe tbody tr th {\n",
       "        vertical-align: top;\n",
       "    }\n",
       "\n",
       "    .dataframe thead th {\n",
       "        text-align: right;\n",
       "    }\n",
       "</style>\n",
       "<table border=\"1\" class=\"dataframe\">\n",
       "  <thead>\n",
       "    <tr style=\"text-align: right;\">\n",
       "      <th></th>\n",
       "      <th>Price</th>\n",
       "      <th>Address</th>\n",
       "      <th>Floor</th>\n",
       "      <th>Bathroom</th>\n",
       "      <th>Bedroom</th>\n",
       "      <th>Land</th>\n",
       "      <th>Road</th>\n",
       "      <th>Land Mark</th>\n",
       "    </tr>\n",
       "  </thead>\n",
       "  <tbody>\n",
       "    <tr>\n",
       "      <th>830</th>\n",
       "      <td>220000000.00</td>\n",
       "      <td>Koteshwor, Kathmandu</td>\n",
       "      <td>25</td>\n",
       "      <td>8</td>\n",
       "      <td>12</td>\n",
       "      <td>5476</td>\n",
       "      <td>13.00</td>\n",
       "      <td>koteshwor</td>\n",
       "    </tr>\n",
       "    <tr>\n",
       "      <th>842</th>\n",
       "      <td>4000000000000000.00</td>\n",
       "      <td>budanilkantha, Budhanilkantha, Kathmandu</td>\n",
       "      <td>25</td>\n",
       "      <td>3</td>\n",
       "      <td>3</td>\n",
       "      <td>1454.56</td>\n",
       "      <td>13.00</td>\n",
       "      <td>Deuba Chowk</td>\n",
       "    </tr>\n",
       "    <tr>\n",
       "      <th>845</th>\n",
       "      <td>42500000.00</td>\n",
       "      <td>budanilkantha, Budhanilkantha, Kathmandu</td>\n",
       "      <td>25</td>\n",
       "      <td>5</td>\n",
       "      <td>4</td>\n",
       "      <td>1369</td>\n",
       "      <td>13.00</td>\n",
       "      <td>budhanilkantha mandir</td>\n",
       "    </tr>\n",
       "    <tr>\n",
       "      <th>848</th>\n",
       "      <td>31500000.00</td>\n",
       "      <td>budanilkantha, Budhanilkantha, Kathmandu</td>\n",
       "      <td>25</td>\n",
       "      <td>5</td>\n",
       "      <td>9</td>\n",
       "      <td>1369</td>\n",
       "      <td>13.00</td>\n",
       "      <td>Bhangal</td>\n",
       "    </tr>\n",
       "    <tr>\n",
       "      <th>856</th>\n",
       "      <td>35200000.00</td>\n",
       "      <td>budanilkantha, Hattigaunda (Budhanilkantha), K...</td>\n",
       "      <td>25</td>\n",
       "      <td>4</td>\n",
       "      <td>5</td>\n",
       "      <td>1390.39</td>\n",
       "      <td>13.00</td>\n",
       "      <td>one car parking</td>\n",
       "    </tr>\n",
       "    <tr>\n",
       "      <th>...</th>\n",
       "      <td>...</td>\n",
       "      <td>...</td>\n",
       "      <td>...</td>\n",
       "      <td>...</td>\n",
       "      <td>...</td>\n",
       "      <td>...</td>\n",
       "      <td>...</td>\n",
       "      <td>...</td>\n",
       "    </tr>\n",
       "    <tr>\n",
       "      <th>1640</th>\n",
       "      <td>36500000.00</td>\n",
       "      <td>Kathmandu &gt; Balkhu</td>\n",
       "      <td>25</td>\n",
       "      <td>3</td>\n",
       "      <td>6</td>\n",
       "      <td>1369</td>\n",
       "      <td>13.00</td>\n",
       "      <td>Balkhu.</td>\n",
       "    </tr>\n",
       "    <tr>\n",
       "      <th>1642</th>\n",
       "      <td>29200000.00</td>\n",
       "      <td>Kathmandu &gt; Balkhu</td>\n",
       "      <td>25</td>\n",
       "      <td>4</td>\n",
       "      <td>4</td>\n",
       "      <td>1026.75</td>\n",
       "      <td>13.00</td>\n",
       "      <td>just 1.3 km from Tribhuvan University, 600m fr...</td>\n",
       "    </tr>\n",
       "    <tr>\n",
       "      <th>1645</th>\n",
       "      <td>53500000.00</td>\n",
       "      <td>Kathmandu &gt; Sukedhara</td>\n",
       "      <td>25</td>\n",
       "      <td>5</td>\n",
       "      <td>5</td>\n",
       "      <td>2395.75</td>\n",
       "      <td>12.00</td>\n",
       "      <td>Sukedhara , KTM</td>\n",
       "    </tr>\n",
       "    <tr>\n",
       "      <th>1657</th>\n",
       "      <td>59900000.00</td>\n",
       "      <td>bhaisipati, Bhaisepati / Sainbu, Lalitpur</td>\n",
       "      <td>25</td>\n",
       "      <td>3</td>\n",
       "      <td>4</td>\n",
       "      <td>1369</td>\n",
       "      <td>20.00</td>\n",
       "      <td>Bhaisapati inside awash</td>\n",
       "    </tr>\n",
       "    <tr>\n",
       "      <th>1658</th>\n",
       "      <td>29800000.00</td>\n",
       "      <td>Sanepa, Lalitpur</td>\n",
       "      <td>25</td>\n",
       "      <td>3</td>\n",
       "      <td>4</td>\n",
       "      <td>1026.75</td>\n",
       "      <td>20.00</td>\n",
       "      <td>Lalitpur sanepa</td>\n",
       "    </tr>\n",
       "  </tbody>\n",
       "</table>\n",
       "<p>302 rows × 8 columns</p>\n",
       "</div>"
      ],
      "text/plain": [
       "                   Price                                            Address  \\\n",
       "830         220000000.00                               Koteshwor, Kathmandu   \n",
       "842  4000000000000000.00           budanilkantha, Budhanilkantha, Kathmandu   \n",
       "845          42500000.00           budanilkantha, Budhanilkantha, Kathmandu   \n",
       "848          31500000.00           budanilkantha, Budhanilkantha, Kathmandu   \n",
       "856          35200000.00  budanilkantha, Hattigaunda (Budhanilkantha), K...   \n",
       "...                  ...                                                ...   \n",
       "1640         36500000.00                                 Kathmandu > Balkhu   \n",
       "1642         29200000.00                                 Kathmandu > Balkhu   \n",
       "1645         53500000.00                              Kathmandu > Sukedhara   \n",
       "1657         59900000.00          bhaisipati, Bhaisepati / Sainbu, Lalitpur   \n",
       "1658         29800000.00                                   Sanepa, Lalitpur   \n",
       "\n",
       "     Floor Bathroom Bedroom     Land  Road  \\\n",
       "830     25        8      12     5476 13.00   \n",
       "842     25        3       3  1454.56 13.00   \n",
       "845     25        5       4     1369 13.00   \n",
       "848     25        5       9     1369 13.00   \n",
       "856     25        4       5  1390.39 13.00   \n",
       "...    ...      ...     ...      ...   ...   \n",
       "1640    25        3       6     1369 13.00   \n",
       "1642    25        4       4  1026.75 13.00   \n",
       "1645    25        5       5  2395.75 12.00   \n",
       "1657    25        3       4     1369 20.00   \n",
       "1658    25        3       4  1026.75 20.00   \n",
       "\n",
       "                                              Land Mark  \n",
       "830                                           koteshwor  \n",
       "842                                         Deuba Chowk  \n",
       "845                               budhanilkantha mandir  \n",
       "848                                             Bhangal  \n",
       "856                                     one car parking  \n",
       "...                                                 ...  \n",
       "1640                                            Balkhu.  \n",
       "1642  just 1.3 km from Tribhuvan University, 600m fr...  \n",
       "1645                                    Sukedhara , KTM  \n",
       "1657                            Bhaisapati inside awash  \n",
       "1658                                    Lalitpur sanepa  \n",
       "\n",
       "[302 rows x 8 columns]"
      ]
     },
     "execution_count": 90,
     "metadata": {},
     "output_type": "execute_result"
    }
   ],
   "source": [
    "a"
   ]
  },
  {
   "cell_type": "code",
   "execution_count": 92,
   "id": "469a4b49",
   "metadata": {},
   "outputs": [
    {
     "data": {
      "text/html": [
       "<div>\n",
       "<style scoped>\n",
       "    .dataframe tbody tr th:only-of-type {\n",
       "        vertical-align: middle;\n",
       "    }\n",
       "\n",
       "    .dataframe tbody tr th {\n",
       "        vertical-align: top;\n",
       "    }\n",
       "\n",
       "    .dataframe thead th {\n",
       "        text-align: right;\n",
       "    }\n",
       "</style>\n",
       "<table border=\"1\" class=\"dataframe\">\n",
       "  <thead>\n",
       "    <tr style=\"text-align: right;\">\n",
       "      <th></th>\n",
       "      <th>Price</th>\n",
       "      <th>Address</th>\n",
       "      <th>Floor</th>\n",
       "      <th>Bathroom</th>\n",
       "      <th>Bedroom</th>\n",
       "      <th>Land</th>\n",
       "      <th>Road</th>\n",
       "      <th>Land Mark</th>\n",
       "    </tr>\n",
       "  </thead>\n",
       "  <tbody>\n",
       "    <tr>\n",
       "      <th>1655</th>\n",
       "      <td>21000000.00</td>\n",
       "      <td>महालक्ष्मीस्थान रोड, टिखिडोल, कुसुन्ती</td>\n",
       "      <td>250</td>\n",
       "      <td>3.0</td>\n",
       "      <td>4.0</td>\n",
       "      <td>1026.75</td>\n",
       "      <td>13.00</td>\n",
       "      <td>1</td>\n",
       "    </tr>\n",
       "  </tbody>\n",
       "</table>\n",
       "</div>"
      ],
      "text/plain": [
       "           Price                                 Address Floor Bathroom  \\\n",
       "1655 21000000.00  महालक्ष्मीस्थान रोड, टिखिडोल, कुसुन्ती   250      3.0   \n",
       "\n",
       "     Bedroom     Land  Road Land Mark  \n",
       "1655     4.0  1026.75 13.00         1  "
      ]
     },
     "execution_count": 92,
     "metadata": {},
     "output_type": "execute_result"
    }
   ],
   "source": [
    "a =dropped[dropped['Floor'] == '250']\n",
    "a"
   ]
  },
  {
   "cell_type": "code",
   "execution_count": 93,
   "id": "4343ba56",
   "metadata": {},
   "outputs": [
    {
     "data": {
      "text/plain": [
       "array(['0', '1', '1 ', '1 .5', '1.5', '10', '12', '3', '13', '15', '2',\n",
       "       '2  .5 ', '2 1', '2  .5', '2.5', '25', '25 ', '25 s', '250', '26',\n",
       "       '3   .5', '3  .5', '3 ', '3  .5 ', '3 s', '3.5', '35', '35 ',\n",
       "       '350', '3rd ', '4', '4  .5', '4.5', '43', '45', '5', '55', '6',\n",
       "       '800', 'O'], dtype=object)"
      ]
     },
     "execution_count": 93,
     "metadata": {},
     "output_type": "execute_result"
    }
   ],
   "source": [
    "dropped['Floor'].unique()"
   ]
  },
  {
   "cell_type": "code",
   "execution_count": 94,
   "id": "7f8a3d86",
   "metadata": {},
   "outputs": [
    {
     "data": {
      "text/plain": [
       "Floor\n",
       "3         310\n",
       "25        302\n",
       "2.5       102\n",
       "35         80\n",
       "2          71\n",
       "1          45\n",
       "4          40\n",
       "3.5        20\n",
       "5          13\n",
       "0          11\n",
       "12          8\n",
       "6           6\n",
       "O           5\n",
       "2  .5       4\n",
       "45          4\n",
       "4.5         4\n",
       "25          3\n",
       "1.5         3\n",
       "26          2\n",
       "15          2\n",
       "3           2\n",
       "35          2\n",
       "3rd         1\n",
       "800         1\n",
       "1           1\n",
       "55          1\n",
       "1 .5        1\n",
       "43          1\n",
       "4  .5       1\n",
       "10          1\n",
       "350         1\n",
       "2 1         1\n",
       "13          1\n",
       "3 s         1\n",
       "3  .5       1\n",
       "3  .5       1\n",
       "250         1\n",
       "25 s        1\n",
       "2  .5       1\n",
       "3   .5      1\n",
       "Name: count, dtype: int64"
      ]
     },
     "execution_count": 94,
     "metadata": {},
     "output_type": "execute_result"
    }
   ],
   "source": [
    "dropped['Floor'].value_counts()"
   ]
  },
  {
   "cell_type": "code",
   "execution_count": 95,
   "id": "c3472950",
   "metadata": {},
   "outputs": [],
   "source": [
    "dropped['Floor']=dropped['Floor'].str.replace('rd','').str.replace('s','')"
   ]
  },
  {
   "cell_type": "code",
   "execution_count": 100,
   "id": "5c0aff21",
   "metadata": {},
   "outputs": [
    {
     "data": {
      "text/plain": [
       "Floor\n",
       "3      314\n",
       "25     306\n",
       "2.5    107\n",
       "35      82\n",
       "2       71\n",
       "1       46\n",
       "4       40\n",
       "3.5     23\n",
       "5       13\n",
       "0       11\n",
       "12       8\n",
       "6        6\n",
       "4.5      5\n",
       "O        5\n",
       "45       4\n",
       "1.5      4\n",
       "15       2\n",
       "26       2\n",
       "250      1\n",
       "21       1\n",
       "350      1\n",
       "13       1\n",
       "43       1\n",
       "10       1\n",
       "55       1\n",
       "800      1\n",
       "Name: count, dtype: int64"
      ]
     },
     "execution_count": 100,
     "metadata": {},
     "output_type": "execute_result"
    }
   ],
   "source": [
    "dropped['Floor'].value_counts()"
   ]
  },
  {
   "cell_type": "code",
   "execution_count": 98,
   "id": "9e5ff6d4",
   "metadata": {},
   "outputs": [
    {
     "data": {
      "text/html": [
       "<div>\n",
       "<style scoped>\n",
       "    .dataframe tbody tr th:only-of-type {\n",
       "        vertical-align: middle;\n",
       "    }\n",
       "\n",
       "    .dataframe tbody tr th {\n",
       "        vertical-align: top;\n",
       "    }\n",
       "\n",
       "    .dataframe thead th {\n",
       "        text-align: right;\n",
       "    }\n",
       "</style>\n",
       "<table border=\"1\" class=\"dataframe\">\n",
       "  <thead>\n",
       "    <tr style=\"text-align: right;\">\n",
       "      <th></th>\n",
       "      <th>Price</th>\n",
       "      <th>Address</th>\n",
       "      <th>Floor</th>\n",
       "      <th>Bathroom</th>\n",
       "      <th>Bedroom</th>\n",
       "      <th>Land</th>\n",
       "      <th>Road</th>\n",
       "      <th>Land Mark</th>\n",
       "    </tr>\n",
       "  </thead>\n",
       "  <tbody>\n",
       "    <tr>\n",
       "      <th>3110</th>\n",
       "      <td>30000000.00</td>\n",
       "      <td>Shree Pachali Bhairab House, 21 Ward Office, J...</td>\n",
       "      <td>55</td>\n",
       "      <td>1</td>\n",
       "      <td>4</td>\n",
       "      <td>11390.625</td>\n",
       "      <td>13.00</td>\n",
       "      <td>In front of chaitya, 5-10 mins from hanumandho...</td>\n",
       "    </tr>\n",
       "  </tbody>\n",
       "</table>\n",
       "</div>"
      ],
      "text/plain": [
       "           Price                                            Address Floor  \\\n",
       "3110 30000000.00  Shree Pachali Bhairab House, 21 Ward Office, J...    55   \n",
       "\n",
       "     Bathroom Bedroom       Land  Road  \\\n",
       "3110        1       4  11390.625 13.00   \n",
       "\n",
       "                                              Land Mark  \n",
       "3110  In front of chaitya, 5-10 mins from hanumandho...  "
      ]
     },
     "execution_count": 98,
     "metadata": {},
     "output_type": "execute_result"
    }
   ],
   "source": [
    "a =dropped[dropped['Floor'] == '55']\n",
    "a"
   ]
  },
  {
   "cell_type": "code",
   "execution_count": 99,
   "id": "e4c8985c",
   "metadata": {},
   "outputs": [],
   "source": [
    "dropped['Floor'] = dropped['Floor'].str.replace(' ', '')\n"
   ]
  },
  {
   "cell_type": "code",
   "execution_count": 101,
   "id": "675f10fc",
   "metadata": {},
   "outputs": [],
   "source": [
    "dropped['Floor'] = dropped['Floor'].apply(lambda x: x[0] + '.' + x[1:] if len(x) == 3 else x)\n"
   ]
  },
  {
   "cell_type": "code",
   "execution_count": 111,
   "id": "2d1af969",
   "metadata": {},
   "outputs": [
    {
     "data": {
      "text/plain": [
       "Floor\n",
       "2.5     413\n",
       "3       314\n",
       "3.5     105\n",
       "2        71\n",
       "1        46\n",
       "4        40\n",
       "5        13\n",
       "0        11\n",
       "4.5       9\n",
       "1.2       8\n",
       "1.5       6\n",
       "6         6\n",
       "O         5\n",
       "2.6       2\n",
       "3.50      1\n",
       "2.50      1\n",
       "2.1       1\n",
       "4.3       1\n",
       "1.3       1\n",
       "5.5       1\n",
       "1.0       1\n",
       "8.00      1\n",
       "Name: count, dtype: int64"
      ]
     },
     "execution_count": 111,
     "metadata": {},
     "output_type": "execute_result"
    }
   ],
   "source": [
    "dropped['Floor'].value_counts()"
   ]
  },
  {
   "cell_type": "code",
   "execution_count": 105,
   "id": "b49be196",
   "metadata": {},
   "outputs": [],
   "source": [
    "dropped['Floor'] = dropped['Floor'].replace('\\.{2,}', '.', regex=True)\n",
    "\n"
   ]
  },
  {
   "cell_type": "code",
   "execution_count": 110,
   "id": "f1c938c1",
   "metadata": {},
   "outputs": [],
   "source": [
    "dropped['Floor'] = dropped['Floor'].apply(lambda x:x[0]+'.'+x[1:] if len(x)==2 else x)"
   ]
  },
  {
   "cell_type": "code",
   "execution_count": 114,
   "id": "37de91ca",
   "metadata": {},
   "outputs": [
    {
     "data": {
      "image/png": "[encoded data removed]",
      "text/plain": [
       "<Figure size 1000x600 with 1 Axes>"
      ]
     },
     "metadata": {},
     "output_type": "display_data"
    }
   ],
   "source": [
    "import matplotlib.pyplot as plt\n",
    "\n",
    "floor_counts = dropped['Floor'].value_counts()\n",
    "\n",
    "plt.figure(figsize=(10, 6))\n",
    "plt.bar(floor_counts.index, floor_counts.values)\n",
    "plt.xlabel('Floor')\n",
    "plt.ylabel('Count')\n",
    "plt.title('Floor Distribution')\n",
    "plt.xticks(rotation='vertical')\n",
    "plt.show()\n"
   ]
  },
  {
   "cell_type": "code",
   "execution_count": 115,
   "id": "8f70b606",
   "metadata": {},
   "outputs": [
    {
     "data": {
      "image/png": "[encoded data removed]",
      "text/plain": [
       "<Figure size 1000x600 with 1 Axes>"
      ]
     },
     "metadata": {},
     "output_type": "display_data"
    }
   ],
   "source": [
    "import matplotlib.pyplot as plt\n",
    "\n",
    "plt.figure(figsize=(10, 6))\n",
    "plt.scatter(dropped['Floor'], dropped['Price'])\n",
    "plt.xlabel('Floor')\n",
    "plt.ylabel('Price')\n",
    "plt.title('Floor vs. Price')\n",
    "plt.show()\n"
   ]
  },
  {
   "cell_type": "code",
   "execution_count": 116,
   "id": "c65f8b39",
   "metadata": {},
   "outputs": [
    {
     "name": "stdout",
     "output_type": "stream",
     "text": [
      "<class 'pandas.core.frame.DataFrame'>\n",
      "RangeIndex: 3408 entries, 0 to 3407\n",
      "Data columns (total 8 columns):\n",
      " #   Column     Non-Null Count  Dtype  \n",
      "---  ------     --------------  -----  \n",
      " 0   Price      3408 non-null   float64\n",
      " 1   Address    3408 non-null   object \n",
      " 2   Floor      3153 non-null   object \n",
      " 3   Bathroom   3077 non-null   object \n",
      " 4   Bedroom    3071 non-null   object \n",
      " 5   Land       3244 non-null   object \n",
      " 6   Road       3244 non-null   float64\n",
      " 7   Land Mark  1196 non-null   object \n",
      "dtypes: float64(2), object(6)\n",
      "memory usage: 213.1+ KB\n"
     ]
    }
   ],
   "source": [
    "df.info()"
   ]
  },
  {
   "cell_type": "code",
   "execution_count": 117,
   "id": "3a23735a",
   "metadata": {},
   "outputs": [
    {
     "data": {
      "image/png": "[encoded data removed]",
      "text/plain": [
       "<Figure size 1000x600 with 1 Axes>"
      ]
     },
     "metadata": {},
     "output_type": "display_data"
    }
   ],
   "source": [
    "import matplotlib.pyplot as plt\n",
    "\n",
    "plt.figure(figsize=(10, 6))\n",
    "plt.scatter(dropped['Road'], dropped['Price'])\n",
    "plt.xlabel('Road')\n",
    "plt.ylabel('Price')\n",
    "plt.title('Road vs. Price')\n",
    "plt.show()\n"
   ]
  },
  {
   "cell_type": "code",
   "execution_count": 119,
   "id": "c7ee3923",
   "metadata": {},
   "outputs": [
    {
     "ename": "ValueError",
     "evalue": "could not convert string to float: 'O'",
     "output_type": "error",
     "traceback": [
      "\u001b[1;31m---------------------------------------------------------------------------\u001b[0m",
      "\u001b[1;31mValueError\u001b[0m                                Traceback (most recent call last)",
      "Cell \u001b[1;32mIn[119], line 1\u001b[0m\n\u001b[1;32m----> 1\u001b[0m dropped[\u001b[38;5;124m'\u001b[39m\u001b[38;5;124mFloor\u001b[39m\u001b[38;5;124m'\u001b[39m] \u001b[38;5;241m=\u001b[39m \u001b[43mdropped\u001b[49m\u001b[43m[\u001b[49m\u001b[38;5;124;43m'\u001b[39;49m\u001b[38;5;124;43mFloor\u001b[39;49m\u001b[38;5;124;43m'\u001b[39;49m\u001b[43m]\u001b[49m\u001b[38;5;241;43m.\u001b[39;49m\u001b[43mastype\u001b[49m\u001b[43m(\u001b[49m\u001b[38;5;28;43mfloat\u001b[39;49m\u001b[43m)\u001b[49m\n",
      "File \u001b[1;32m~\\anaconda3\\lib\\site-packages\\pandas\\core\\generic.py:6324\u001b[0m, in \u001b[0;36mNDFrame.astype\u001b[1;34m(self, dtype, copy, errors)\u001b[0m\n\u001b[0;32m   6317\u001b[0m     results \u001b[38;5;241m=\u001b[39m [\n\u001b[0;32m   6318\u001b[0m         \u001b[38;5;28mself\u001b[39m\u001b[38;5;241m.\u001b[39miloc[:, i]\u001b[38;5;241m.\u001b[39mastype(dtype, copy\u001b[38;5;241m=\u001b[39mcopy)\n\u001b[0;32m   6319\u001b[0m         \u001b[38;5;28;01mfor\u001b[39;00m i \u001b[38;5;129;01min\u001b[39;00m \u001b[38;5;28mrange\u001b[39m(\u001b[38;5;28mlen\u001b[39m(\u001b[38;5;28mself\u001b[39m\u001b[38;5;241m.\u001b[39mcolumns))\n\u001b[0;32m   6320\u001b[0m     ]\n\u001b[0;32m   6322\u001b[0m \u001b[38;5;28;01melse\u001b[39;00m:\n\u001b[0;32m   6323\u001b[0m     \u001b[38;5;66;03m# else, only a single dtype is given\u001b[39;00m\n\u001b[1;32m-> 6324\u001b[0m     new_data \u001b[38;5;241m=\u001b[39m \u001b[38;5;28;43mself\u001b[39;49m\u001b[38;5;241;43m.\u001b[39;49m\u001b[43m_mgr\u001b[49m\u001b[38;5;241;43m.\u001b[39;49m\u001b[43mastype\u001b[49m\u001b[43m(\u001b[49m\u001b[43mdtype\u001b[49m\u001b[38;5;241;43m=\u001b[39;49m\u001b[43mdtype\u001b[49m\u001b[43m,\u001b[49m\u001b[43m \u001b[49m\u001b[43mcopy\u001b[49m\u001b[38;5;241;43m=\u001b[39;49m\u001b[43mcopy\u001b[49m\u001b[43m,\u001b[49m\u001b[43m \u001b[49m\u001b[43merrors\u001b[49m\u001b[38;5;241;43m=\u001b[39;49m\u001b[43merrors\u001b[49m\u001b[43m)\u001b[49m\n\u001b[0;32m   6325\u001b[0m     \u001b[38;5;28;01mreturn\u001b[39;00m \u001b[38;5;28mself\u001b[39m\u001b[38;5;241m.\u001b[39m_constructor(new_data)\u001b[38;5;241m.\u001b[39m__finalize__(\u001b[38;5;28mself\u001b[39m, method\u001b[38;5;241m=\u001b[39m\u001b[38;5;124m\"\u001b[39m\u001b[38;5;124mastype\u001b[39m\u001b[38;5;124m\"\u001b[39m)\n\u001b[0;32m   6327\u001b[0m \u001b[38;5;66;03m# GH 33113: handle empty frame or series\u001b[39;00m\n",
      "File \u001b[1;32m~\\anaconda3\\lib\\site-packages\\pandas\\core\\internals\\managers.py:451\u001b[0m, in \u001b[0;36mBaseBlockManager.astype\u001b[1;34m(self, dtype, copy, errors)\u001b[0m\n\u001b[0;32m    448\u001b[0m \u001b[38;5;28;01melif\u001b[39;00m using_copy_on_write():\n\u001b[0;32m    449\u001b[0m     copy \u001b[38;5;241m=\u001b[39m \u001b[38;5;28;01mFalse\u001b[39;00m\n\u001b[1;32m--> 451\u001b[0m \u001b[38;5;28;01mreturn\u001b[39;00m \u001b[38;5;28;43mself\u001b[39;49m\u001b[38;5;241;43m.\u001b[39;49m\u001b[43mapply\u001b[49m\u001b[43m(\u001b[49m\n\u001b[0;32m    452\u001b[0m \u001b[43m    \u001b[49m\u001b[38;5;124;43m\"\u001b[39;49m\u001b[38;5;124;43mastype\u001b[39;49m\u001b[38;5;124;43m\"\u001b[39;49m\u001b[43m,\u001b[49m\n\u001b[0;32m    453\u001b[0m \u001b[43m    \u001b[49m\u001b[43mdtype\u001b[49m\u001b[38;5;241;43m=\u001b[39;49m\u001b[43mdtype\u001b[49m\u001b[43m,\u001b[49m\n\u001b[0;32m    454\u001b[0m \u001b[43m    \u001b[49m\u001b[43mcopy\u001b[49m\u001b[38;5;241;43m=\u001b[39;49m\u001b[43mcopy\u001b[49m\u001b[43m,\u001b[49m\n\u001b[0;32m    455\u001b[0m \u001b[43m    \u001b[49m\u001b[43merrors\u001b[49m\u001b[38;5;241;43m=\u001b[39;49m\u001b[43merrors\u001b[49m\u001b[43m,\u001b[49m\n\u001b[0;32m    456\u001b[0m \u001b[43m    \u001b[49m\u001b[43musing_cow\u001b[49m\u001b[38;5;241;43m=\u001b[39;49m\u001b[43musing_copy_on_write\u001b[49m\u001b[43m(\u001b[49m\u001b[43m)\u001b[49m\u001b[43m,\u001b[49m\n\u001b[0;32m    457\u001b[0m \u001b[43m\u001b[49m\u001b[43m)\u001b[49m\n",
      "File \u001b[1;32m~\\anaconda3\\lib\\site-packages\\pandas\\core\\internals\\managers.py:352\u001b[0m, in \u001b[0;36mBaseBlockManager.apply\u001b[1;34m(self, f, align_keys, **kwargs)\u001b[0m\n\u001b[0;32m    350\u001b[0m         applied \u001b[38;5;241m=\u001b[39m b\u001b[38;5;241m.\u001b[39mapply(f, \u001b[38;5;241m*\u001b[39m\u001b[38;5;241m*\u001b[39mkwargs)\n\u001b[0;32m    351\u001b[0m     \u001b[38;5;28;01melse\u001b[39;00m:\n\u001b[1;32m--> 352\u001b[0m         applied \u001b[38;5;241m=\u001b[39m \u001b[38;5;28mgetattr\u001b[39m(b, f)(\u001b[38;5;241m*\u001b[39m\u001b[38;5;241m*\u001b[39mkwargs)\n\u001b[0;32m    353\u001b[0m     result_blocks \u001b[38;5;241m=\u001b[39m extend_blocks(applied, result_blocks)\n\u001b[0;32m    355\u001b[0m out \u001b[38;5;241m=\u001b[39m \u001b[38;5;28mtype\u001b[39m(\u001b[38;5;28mself\u001b[39m)\u001b[38;5;241m.\u001b[39mfrom_blocks(result_blocks, \u001b[38;5;28mself\u001b[39m\u001b[38;5;241m.\u001b[39maxes)\n",
      "File \u001b[1;32m~\\anaconda3\\lib\\site-packages\\pandas\\core\\internals\\blocks.py:511\u001b[0m, in \u001b[0;36mBlock.astype\u001b[1;34m(self, dtype, copy, errors, using_cow)\u001b[0m\n\u001b[0;32m    491\u001b[0m \u001b[38;5;124;03m\"\"\"\u001b[39;00m\n\u001b[0;32m    492\u001b[0m \u001b[38;5;124;03mCoerce to the new dtype.\u001b[39;00m\n\u001b[0;32m    493\u001b[0m \n\u001b[1;32m   (...)\u001b[0m\n\u001b[0;32m    507\u001b[0m \u001b[38;5;124;03mBlock\u001b[39;00m\n\u001b[0;32m    508\u001b[0m \u001b[38;5;124;03m\"\"\"\u001b[39;00m\n\u001b[0;32m    509\u001b[0m values \u001b[38;5;241m=\u001b[39m \u001b[38;5;28mself\u001b[39m\u001b[38;5;241m.\u001b[39mvalues\n\u001b[1;32m--> 511\u001b[0m new_values \u001b[38;5;241m=\u001b[39m \u001b[43mastype_array_safe\u001b[49m\u001b[43m(\u001b[49m\u001b[43mvalues\u001b[49m\u001b[43m,\u001b[49m\u001b[43m \u001b[49m\u001b[43mdtype\u001b[49m\u001b[43m,\u001b[49m\u001b[43m \u001b[49m\u001b[43mcopy\u001b[49m\u001b[38;5;241;43m=\u001b[39;49m\u001b[43mcopy\u001b[49m\u001b[43m,\u001b[49m\u001b[43m \u001b[49m\u001b[43merrors\u001b[49m\u001b[38;5;241;43m=\u001b[39;49m\u001b[43merrors\u001b[49m\u001b[43m)\u001b[49m\n\u001b[0;32m    513\u001b[0m new_values \u001b[38;5;241m=\u001b[39m maybe_coerce_values(new_values)\n\u001b[0;32m    515\u001b[0m refs \u001b[38;5;241m=\u001b[39m \u001b[38;5;28;01mNone\u001b[39;00m\n",
      "File \u001b[1;32m~\\anaconda3\\lib\\site-packages\\pandas\\core\\dtypes\\astype.py:242\u001b[0m, in \u001b[0;36mastype_array_safe\u001b[1;34m(values, dtype, copy, errors)\u001b[0m\n\u001b[0;32m    239\u001b[0m     dtype \u001b[38;5;241m=\u001b[39m dtype\u001b[38;5;241m.\u001b[39mnumpy_dtype\n\u001b[0;32m    241\u001b[0m \u001b[38;5;28;01mtry\u001b[39;00m:\n\u001b[1;32m--> 242\u001b[0m     new_values \u001b[38;5;241m=\u001b[39m \u001b[43mastype_array\u001b[49m\u001b[43m(\u001b[49m\u001b[43mvalues\u001b[49m\u001b[43m,\u001b[49m\u001b[43m \u001b[49m\u001b[43mdtype\u001b[49m\u001b[43m,\u001b[49m\u001b[43m \u001b[49m\u001b[43mcopy\u001b[49m\u001b[38;5;241;43m=\u001b[39;49m\u001b[43mcopy\u001b[49m\u001b[43m)\u001b[49m\n\u001b[0;32m    243\u001b[0m \u001b[38;5;28;01mexcept\u001b[39;00m (\u001b[38;5;167;01mValueError\u001b[39;00m, \u001b[38;5;167;01mTypeError\u001b[39;00m):\n\u001b[0;32m    244\u001b[0m     \u001b[38;5;66;03m# e.g. _astype_nansafe can fail on object-dtype of strings\u001b[39;00m\n\u001b[0;32m    245\u001b[0m     \u001b[38;5;66;03m#  trying to convert to float\u001b[39;00m\n\u001b[0;32m    246\u001b[0m     \u001b[38;5;28;01mif\u001b[39;00m errors \u001b[38;5;241m==\u001b[39m \u001b[38;5;124m\"\u001b[39m\u001b[38;5;124mignore\u001b[39m\u001b[38;5;124m\"\u001b[39m:\n",
      "File \u001b[1;32m~\\anaconda3\\lib\\site-packages\\pandas\\core\\dtypes\\astype.py:187\u001b[0m, in \u001b[0;36mastype_array\u001b[1;34m(values, dtype, copy)\u001b[0m\n\u001b[0;32m    184\u001b[0m     values \u001b[38;5;241m=\u001b[39m values\u001b[38;5;241m.\u001b[39mastype(dtype, copy\u001b[38;5;241m=\u001b[39mcopy)\n\u001b[0;32m    186\u001b[0m \u001b[38;5;28;01melse\u001b[39;00m:\n\u001b[1;32m--> 187\u001b[0m     values \u001b[38;5;241m=\u001b[39m \u001b[43m_astype_nansafe\u001b[49m\u001b[43m(\u001b[49m\u001b[43mvalues\u001b[49m\u001b[43m,\u001b[49m\u001b[43m \u001b[49m\u001b[43mdtype\u001b[49m\u001b[43m,\u001b[49m\u001b[43m \u001b[49m\u001b[43mcopy\u001b[49m\u001b[38;5;241;43m=\u001b[39;49m\u001b[43mcopy\u001b[49m\u001b[43m)\u001b[49m\n\u001b[0;32m    189\u001b[0m \u001b[38;5;66;03m# in pandas we don't store numpy str dtypes, so convert to object\u001b[39;00m\n\u001b[0;32m    190\u001b[0m \u001b[38;5;28;01mif\u001b[39;00m \u001b[38;5;28misinstance\u001b[39m(dtype, np\u001b[38;5;241m.\u001b[39mdtype) \u001b[38;5;129;01mand\u001b[39;00m \u001b[38;5;28missubclass\u001b[39m(values\u001b[38;5;241m.\u001b[39mdtype\u001b[38;5;241m.\u001b[39mtype, \u001b[38;5;28mstr\u001b[39m):\n",
      "File \u001b[1;32m~\\anaconda3\\lib\\site-packages\\pandas\\core\\dtypes\\astype.py:138\u001b[0m, in \u001b[0;36m_astype_nansafe\u001b[1;34m(arr, dtype, copy, skipna)\u001b[0m\n\u001b[0;32m    134\u001b[0m     \u001b[38;5;28;01mraise\u001b[39;00m \u001b[38;5;167;01mValueError\u001b[39;00m(msg)\n\u001b[0;32m    136\u001b[0m \u001b[38;5;28;01mif\u001b[39;00m copy \u001b[38;5;129;01mor\u001b[39;00m is_object_dtype(arr\u001b[38;5;241m.\u001b[39mdtype) \u001b[38;5;129;01mor\u001b[39;00m is_object_dtype(dtype):\n\u001b[0;32m    137\u001b[0m     \u001b[38;5;66;03m# Explicit copy, or required since NumPy can't view from / to object.\u001b[39;00m\n\u001b[1;32m--> 138\u001b[0m     \u001b[38;5;28;01mreturn\u001b[39;00m \u001b[43marr\u001b[49m\u001b[38;5;241;43m.\u001b[39;49m\u001b[43mastype\u001b[49m\u001b[43m(\u001b[49m\u001b[43mdtype\u001b[49m\u001b[43m,\u001b[49m\u001b[43m \u001b[49m\u001b[43mcopy\u001b[49m\u001b[38;5;241;43m=\u001b[39;49m\u001b[38;5;28;43;01mTrue\u001b[39;49;00m\u001b[43m)\u001b[49m\n\u001b[0;32m    140\u001b[0m \u001b[38;5;28;01mreturn\u001b[39;00m arr\u001b[38;5;241m.\u001b[39mastype(dtype, copy\u001b[38;5;241m=\u001b[39mcopy)\n",
      "\u001b[1;31mValueError\u001b[0m: could not convert string to float: 'O'"
     ]
    }
   ],
   "source": [
    "dropped['Floor'] = dropped['Floor'].astype(float)\n"
   ]
  },
  {
   "cell_type": "markdown",
   "id": "37b4047c",
   "metadata": {},
   "source": [
    "### Removing o from Floor"
   ]
  },
  {
   "cell_type": "code",
   "execution_count": 120,
   "id": "c015ae25",
   "metadata": {},
   "outputs": [],
   "source": [
    "dropped = dropped[dropped['Floor'] != 'O']"
   ]
  },
  {
   "cell_type": "code",
   "execution_count": 122,
   "id": "fb8fff9e",
   "metadata": {},
   "outputs": [],
   "source": [
    "dropped.loc[:, 'Floor'] = dropped['Floor'].astype(float)\n"
   ]
  },
  {
   "cell_type": "code",
   "execution_count": 123,
   "id": "8fd060d4",
   "metadata": {},
   "outputs": [
    {
     "name": "stdout",
     "output_type": "stream",
     "text": [
      "<class 'pandas.core.frame.DataFrame'>\n",
      "RangeIndex: 3408 entries, 0 to 3407\n",
      "Data columns (total 8 columns):\n",
      " #   Column     Non-Null Count  Dtype  \n",
      "---  ------     --------------  -----  \n",
      " 0   Price      3408 non-null   float64\n",
      " 1   Address    3408 non-null   object \n",
      " 2   Floor      3153 non-null   object \n",
      " 3   Bathroom   3077 non-null   object \n",
      " 4   Bedroom    3071 non-null   object \n",
      " 5   Land       3244 non-null   object \n",
      " 6   Road       3244 non-null   float64\n",
      " 7   Land Mark  1196 non-null   object \n",
      "dtypes: float64(2), object(6)\n",
      "memory usage: 213.1+ KB\n"
     ]
    }
   ],
   "source": [
    "df.info()"
   ]
  },
  {
   "cell_type": "code",
   "execution_count": 129,
   "id": "4ae1e90e",
   "metadata": {},
   "outputs": [
    {
     "data": {
      "text/plain": [
       "-0.010375017170336856"
      ]
     },
     "execution_count": 129,
     "metadata": {},
     "output_type": "execute_result"
    }
   ],
   "source": [
    "correlation = dropped['Price'].corr(dropped['Road'])\n",
    "correlation"
   ]
  },
  {
   "cell_type": "code",
   "execution_count": 130,
   "id": "c6e8db46",
   "metadata": {},
   "outputs": [],
   "source": [
    "dropped.to_csv('cleanerfloor_hamrobazar.csv')"
   ]
  },
  {
   "cell_type": "code",
   "execution_count": null,
   "id": "61b4636b",
   "metadata": {},
   "outputs": [],
   "source": []
  }
 ],
 "metadata": {
  "kernelspec": {
   "display_name": "Python 3 (ipykernel)",
   "language": "python",
   "name": "python3"
  },
  "language_info": {
   "codemirror_mode": {
    "name": "ipython",
    "version": 3
   },
   "file_extension": ".py",
   "mimetype": "text/x-python",
   "name": "python",
   "nbconvert_exporter": "python",
   "pygments_lexer": "ipython3",
   "version": "3.10.9"
  }
 },
 "nbformat": 4,
 "nbformat_minor": 5
}
