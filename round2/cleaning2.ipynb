{
 "cells": [
  {
   "cell_type": "code",
   "execution_count": 1,
   "id": "d9aa3d03",
   "metadata": {},
   "outputs": [],
   "source": [
    "import pandas as pd"
   ]
  },
  {
   "cell_type": "code",
   "execution_count": 2,
   "id": "cd2cbf89",
   "metadata": {},
   "outputs": [],
   "source": [
    "df = pd.read_csv('cleanerfloor_hamrobazar.csv')"
   ]
  },
  {
   "cell_type": "code",
   "execution_count": 5,
   "id": "6513ed5c",
   "metadata": {},
   "outputs": [],
   "source": [
    "location = df['Address'].str.contains('kathmandu|lalitpur|bhaktapur', case=False)"
   ]
  },
  {
   "cell_type": "code",
   "execution_count": 8,
   "id": "8279f63e",
   "metadata": {},
   "outputs": [
    {
     "data": {
      "text/plain": [
       "Address\n",
       "True     782\n",
       "False    270\n",
       "Name: count, dtype: int64"
      ]
     },
     "execution_count": 8,
     "metadata": {},
     "output_type": "execute_result"
    }
   ],
   "source": [
    "location.value_counts()"
   ]
  },
  {
   "cell_type": "code",
   "execution_count": 9,
   "id": "dd6c7831",
   "metadata": {},
   "outputs": [],
   "source": [
    "location = df['Address'].str.contains('kathmandu|lalitpur|bhaktapur', case=False)\n",
    "filtered_df = df[location]\n"
   ]
  },
  {
   "cell_type": "code",
   "execution_count": 16,
   "id": "24dc4e80",
   "metadata": {},
   "outputs": [],
   "source": [
    "filtered_df_contains_location = filtered_df['Address'].str.contains('kathmandu|lalitpur|bhaktapur', case=False)\n"
   ]
  },
  {
   "cell_type": "code",
   "execution_count": 18,
   "id": "8e3fc0bf",
   "metadata": {},
   "outputs": [
    {
     "data": {
      "text/plain": [
       "Address\n",
       "True    782\n",
       "Name: count, dtype: int64"
      ]
     },
     "execution_count": 18,
     "metadata": {},
     "output_type": "execute_result"
    }
   ],
   "source": [
    "filtered_df_contains_location.value_counts()"
   ]
  },
  {
   "cell_type": "code",
   "execution_count": 19,
   "id": "d2148111",
   "metadata": {},
   "outputs": [],
   "source": [
    "filtered_df_contains_location.to_csv('filtered_location.csv')"
   ]
  },
  {
   "cell_type": "code",
   "execution_count": null,
   "id": "fd77bd10",
   "metadata": {},
   "outputs": [],
   "source": []
  }
 ],
 "metadata": {
  "kernelspec": {
   "display_name": "Python 3 (ipykernel)",
   "language": "python",
   "name": "python3"
  },
  "language_info": {
   "codemirror_mode": {
    "name": "ipython",
    "version": 3
   },
   "file_extension": ".py",
   "mimetype": "text/x-python",
   "name": "python",
   "nbconvert_exporter": "python",
   "pygments_lexer": "ipython3",
   "version": "3.10.9"
  }
 },
 "nbformat": 4,
 "nbformat_minor": 5
}
