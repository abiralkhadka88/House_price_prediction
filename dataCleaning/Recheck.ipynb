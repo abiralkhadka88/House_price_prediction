{
 "cells": [
  {
   "cell_type": "code",
   "execution_count": 34,
   "id": "46f1e310",
   "metadata": {},
   "outputs": [],
   "source": [
    "import pandas as pd"
   ]
  },
  {
   "cell_type": "code",
   "execution_count": 35,
   "id": "36ae9034",
   "metadata": {},
   "outputs": [],
   "source": [
    "df = pd.read_csv('cleaned4.csv')"
   ]
  },
  {
   "cell_type": "code",
   "execution_count": 36,
   "id": "046c5eee",
   "metadata": {},
   "outputs": [
    {
     "data": {
      "text/html": [
       "<div>\n",
       "<style scoped>\n",
       "    .dataframe tbody tr th:only-of-type {\n",
       "        vertical-align: middle;\n",
       "    }\n",
       "\n",
       "    .dataframe tbody tr th {\n",
       "        vertical-align: top;\n",
       "    }\n",
       "\n",
       "    .dataframe thead th {\n",
       "        text-align: right;\n",
       "    }\n",
       "</style>\n",
       "<table border=\"1\" class=\"dataframe\">\n",
       "  <thead>\n",
       "    <tr style=\"text-align: right;\">\n",
       "      <th></th>\n",
       "      <th>price</th>\n",
       "      <th>views</th>\n",
       "      <th>land area</th>\n",
       "      <th>road access</th>\n",
       "      <th>facing</th>\n",
       "      <th>floor</th>\n",
       "      <th>parking</th>\n",
       "      <th>bedroom</th>\n",
       "      <th>bathroom</th>\n",
       "      <th>furnish status</th>\n",
       "      <th>amenity</th>\n",
       "      <th>city</th>\n",
       "      <th>district</th>\n",
       "    </tr>\n",
       "  </thead>\n",
       "  <tbody>\n",
       "    <tr>\n",
       "      <th>0</th>\n",
       "      <td>46500000.0</td>\n",
       "      <td>183</td>\n",
       "      <td>4.3</td>\n",
       "      <td>13.0</td>\n",
       "      <td>West</td>\n",
       "      <td>3.0</td>\n",
       "      <td>5.0</td>\n",
       "      <td>6.0</td>\n",
       "      <td>6.0</td>\n",
       "      <td>Full-Furnished</td>\n",
       "      <td>Earthquake Resistant,Parquet,Marbel,Drainage,G...</td>\n",
       "      <td>Hepali Height</td>\n",
       "      <td>Kathmandu</td>\n",
       "    </tr>\n",
       "    <tr>\n",
       "      <th>1</th>\n",
       "      <td>35000000.0</td>\n",
       "      <td>95</td>\n",
       "      <td>2.5</td>\n",
       "      <td>13.0</td>\n",
       "      <td>South-East</td>\n",
       "      <td>3.0</td>\n",
       "      <td>3.0</td>\n",
       "      <td>3.0</td>\n",
       "      <td>2.0</td>\n",
       "      <td>Semi-Furnished</td>\n",
       "      <td>Drainage,Solar,Parking,Drinking Water,Balcony,...</td>\n",
       "      <td>Sanepa</td>\n",
       "      <td>Lalitpur</td>\n",
       "    </tr>\n",
       "    <tr>\n",
       "      <th>2</th>\n",
       "      <td>28000000.0</td>\n",
       "      <td>400</td>\n",
       "      <td>3.2</td>\n",
       "      <td>6.0</td>\n",
       "      <td>East</td>\n",
       "      <td>6.0</td>\n",
       "      <td>NaN</td>\n",
       "      <td>22.0</td>\n",
       "      <td>8.0</td>\n",
       "      <td>Un-Furnished</td>\n",
       "      <td>NaN</td>\n",
       "      <td>Old Baneshwor</td>\n",
       "      <td>Kathmandu</td>\n",
       "    </tr>\n",
       "    <tr>\n",
       "      <th>3</th>\n",
       "      <td>76000000.0</td>\n",
       "      <td>29</td>\n",
       "      <td>6.0</td>\n",
       "      <td>10.0</td>\n",
       "      <td>South</td>\n",
       "      <td>3.5</td>\n",
       "      <td>6.0</td>\n",
       "      <td>8.0</td>\n",
       "      <td>10.0</td>\n",
       "      <td>Semi-Furnished</td>\n",
       "      <td>Earthquake Resistant,Parquet,Marbel,CC Camera,...</td>\n",
       "      <td>Baluwatar</td>\n",
       "      <td>Kathmandu</td>\n",
       "    </tr>\n",
       "    <tr>\n",
       "      <th>4</th>\n",
       "      <td>73500000.0</td>\n",
       "      <td>40</td>\n",
       "      <td>9.1</td>\n",
       "      <td>13.0</td>\n",
       "      <td>South-East</td>\n",
       "      <td>3.5</td>\n",
       "      <td>6.0</td>\n",
       "      <td>4.0</td>\n",
       "      <td>3.0</td>\n",
       "      <td>Semi-Furnished</td>\n",
       "      <td>Earthquake Resistant,Marbel,Parquet,Drainage,S...</td>\n",
       "      <td>Manamaiju</td>\n",
       "      <td>Kathmandu</td>\n",
       "    </tr>\n",
       "  </tbody>\n",
       "</table>\n",
       "</div>"
      ],
      "text/plain": [
       "        price views  land area  road access      facing  floor  parking  \\\n",
       "0  46500000.0   183        4.3         13.0        West    3.0      5.0   \n",
       "1  35000000.0   95         2.5         13.0  South-East    3.0      3.0   \n",
       "2  28000000.0   400        3.2          6.0        East    6.0      NaN   \n",
       "3  76000000.0   29         6.0         10.0       South    3.5      6.0   \n",
       "4  73500000.0   40         9.1         13.0  South-East    3.5      6.0   \n",
       "\n",
       "   bedroom  bathroom  furnish status  \\\n",
       "0      6.0       6.0  Full-Furnished   \n",
       "1      3.0       2.0  Semi-Furnished   \n",
       "2     22.0       8.0    Un-Furnished   \n",
       "3      8.0      10.0  Semi-Furnished   \n",
       "4      4.0       3.0  Semi-Furnished   \n",
       "\n",
       "                                             amenity           city  \\\n",
       "0  Earthquake Resistant,Parquet,Marbel,Drainage,G...  Hepali Height   \n",
       "1  Drainage,Solar,Parking,Drinking Water,Balcony,...         Sanepa   \n",
       "2                                                NaN  Old Baneshwor   \n",
       "3  Earthquake Resistant,Parquet,Marbel,CC Camera,...      Baluwatar   \n",
       "4  Earthquake Resistant,Marbel,Parquet,Drainage,S...      Manamaiju   \n",
       "\n",
       "     district  \n",
       "0   Kathmandu  \n",
       "1    Lalitpur  \n",
       "2   Kathmandu  \n",
       "3   Kathmandu  \n",
       "4   Kathmandu  "
      ]
     },
     "execution_count": 36,
     "metadata": {},
     "output_type": "execute_result"
    }
   ],
   "source": [
    "df.head()"
   ]
  },
  {
   "cell_type": "code",
   "execution_count": 37,
   "id": "6cbd01fe",
   "metadata": {},
   "outputs": [],
   "source": [
    "df = df.rename(columns={\n",
    "    'price': 'Price',\n",
    "    'views': 'Views',\n",
    "    'land area': 'Land Area',\n",
    "    'road access': 'Road Access',\n",
    "    'facing': 'Facing',\n",
    "    'floor': 'Floor',\n",
    "    'parking': 'Parking',\n",
    "    'bedroom': 'Bedroom',\n",
    "    'bathroom': 'Bathroom',\n",
    "    'furnish status': 'Furnish Status',\n",
    "    'amenity': 'Amenity',\n",
    "    'city': 'City',\n",
    "    'distric': 'District'\n",
    "})"
   ]
  },
  {
   "cell_type": "code",
   "execution_count": 38,
   "id": "077b3c38",
   "metadata": {},
   "outputs": [
    {
     "data": {
      "text/html": [
       "<div>\n",
       "<style scoped>\n",
       "    .dataframe tbody tr th:only-of-type {\n",
       "        vertical-align: middle;\n",
       "    }\n",
       "\n",
       "    .dataframe tbody tr th {\n",
       "        vertical-align: top;\n",
       "    }\n",
       "\n",
       "    .dataframe thead th {\n",
       "        text-align: right;\n",
       "    }\n",
       "</style>\n",
       "<table border=\"1\" class=\"dataframe\">\n",
       "  <thead>\n",
       "    <tr style=\"text-align: right;\">\n",
       "      <th></th>\n",
       "      <th>Price</th>\n",
       "      <th>Views</th>\n",
       "      <th>Land Area</th>\n",
       "      <th>Road Access</th>\n",
       "      <th>Facing</th>\n",
       "      <th>Floor</th>\n",
       "      <th>Parking</th>\n",
       "      <th>Bedroom</th>\n",
       "      <th>Bathroom</th>\n",
       "      <th>Furnish Status</th>\n",
       "      <th>Amenity</th>\n",
       "      <th>City</th>\n",
       "      <th>district</th>\n",
       "    </tr>\n",
       "  </thead>\n",
       "  <tbody>\n",
       "    <tr>\n",
       "      <th>0</th>\n",
       "      <td>46500000.0</td>\n",
       "      <td>183</td>\n",
       "      <td>4.3</td>\n",
       "      <td>13.0</td>\n",
       "      <td>West</td>\n",
       "      <td>3.0</td>\n",
       "      <td>5.0</td>\n",
       "      <td>6.0</td>\n",
       "      <td>6.0</td>\n",
       "      <td>Full-Furnished</td>\n",
       "      <td>Earthquake Resistant,Parquet,Marbel,Drainage,G...</td>\n",
       "      <td>Hepali Height</td>\n",
       "      <td>Kathmandu</td>\n",
       "    </tr>\n",
       "    <tr>\n",
       "      <th>1</th>\n",
       "      <td>35000000.0</td>\n",
       "      <td>95</td>\n",
       "      <td>2.5</td>\n",
       "      <td>13.0</td>\n",
       "      <td>South-East</td>\n",
       "      <td>3.0</td>\n",
       "      <td>3.0</td>\n",
       "      <td>3.0</td>\n",
       "      <td>2.0</td>\n",
       "      <td>Semi-Furnished</td>\n",
       "      <td>Drainage,Solar,Parking,Drinking Water,Balcony,...</td>\n",
       "      <td>Sanepa</td>\n",
       "      <td>Lalitpur</td>\n",
       "    </tr>\n",
       "    <tr>\n",
       "      <th>2</th>\n",
       "      <td>28000000.0</td>\n",
       "      <td>400</td>\n",
       "      <td>3.2</td>\n",
       "      <td>6.0</td>\n",
       "      <td>East</td>\n",
       "      <td>6.0</td>\n",
       "      <td>NaN</td>\n",
       "      <td>22.0</td>\n",
       "      <td>8.0</td>\n",
       "      <td>Un-Furnished</td>\n",
       "      <td>NaN</td>\n",
       "      <td>Old Baneshwor</td>\n",
       "      <td>Kathmandu</td>\n",
       "    </tr>\n",
       "    <tr>\n",
       "      <th>3</th>\n",
       "      <td>76000000.0</td>\n",
       "      <td>29</td>\n",
       "      <td>6.0</td>\n",
       "      <td>10.0</td>\n",
       "      <td>South</td>\n",
       "      <td>3.5</td>\n",
       "      <td>6.0</td>\n",
       "      <td>8.0</td>\n",
       "      <td>10.0</td>\n",
       "      <td>Semi-Furnished</td>\n",
       "      <td>Earthquake Resistant,Parquet,Marbel,CC Camera,...</td>\n",
       "      <td>Baluwatar</td>\n",
       "      <td>Kathmandu</td>\n",
       "    </tr>\n",
       "    <tr>\n",
       "      <th>4</th>\n",
       "      <td>73500000.0</td>\n",
       "      <td>40</td>\n",
       "      <td>9.1</td>\n",
       "      <td>13.0</td>\n",
       "      <td>South-East</td>\n",
       "      <td>3.5</td>\n",
       "      <td>6.0</td>\n",
       "      <td>4.0</td>\n",
       "      <td>3.0</td>\n",
       "      <td>Semi-Furnished</td>\n",
       "      <td>Earthquake Resistant,Marbel,Parquet,Drainage,S...</td>\n",
       "      <td>Manamaiju</td>\n",
       "      <td>Kathmandu</td>\n",
       "    </tr>\n",
       "    <tr>\n",
       "      <th>...</th>\n",
       "      <td>...</td>\n",
       "      <td>...</td>\n",
       "      <td>...</td>\n",
       "      <td>...</td>\n",
       "      <td>...</td>\n",
       "      <td>...</td>\n",
       "      <td>...</td>\n",
       "      <td>...</td>\n",
       "      <td>...</td>\n",
       "      <td>...</td>\n",
       "      <td>...</td>\n",
       "      <td>...</td>\n",
       "      <td>...</td>\n",
       "    </tr>\n",
       "    <tr>\n",
       "      <th>1996</th>\n",
       "      <td>100000000.0</td>\n",
       "      <td>49</td>\n",
       "      <td>12.0</td>\n",
       "      <td>16.5</td>\n",
       "      <td>North</td>\n",
       "      <td>2.5</td>\n",
       "      <td>NaN</td>\n",
       "      <td>5.0</td>\n",
       "      <td>6.0</td>\n",
       "      <td>Semi-Furnished</td>\n",
       "      <td>NaN</td>\n",
       "      <td>Banasthali</td>\n",
       "      <td>Kathmandu</td>\n",
       "    </tr>\n",
       "    <tr>\n",
       "      <th>1997</th>\n",
       "      <td>27000000.0</td>\n",
       "      <td>41</td>\n",
       "      <td>4.0</td>\n",
       "      <td>11.0</td>\n",
       "      <td>West</td>\n",
       "      <td>4.5</td>\n",
       "      <td>NaN</td>\n",
       "      <td>8.0</td>\n",
       "      <td>4.0</td>\n",
       "      <td>Semi-Furnished</td>\n",
       "      <td>NaN</td>\n",
       "      <td>Gorkarneshwor</td>\n",
       "      <td>Kathmandu</td>\n",
       "    </tr>\n",
       "    <tr>\n",
       "      <th>1998</th>\n",
       "      <td>50000000.0</td>\n",
       "      <td>368</td>\n",
       "      <td>6.0</td>\n",
       "      <td>14.0</td>\n",
       "      <td>South-East</td>\n",
       "      <td>3.0</td>\n",
       "      <td>NaN</td>\n",
       "      <td>10.0</td>\n",
       "      <td>5.0</td>\n",
       "      <td>Un-Furnished</td>\n",
       "      <td>NaN</td>\n",
       "      <td>Bijulibajar</td>\n",
       "      <td>Kathmandu</td>\n",
       "    </tr>\n",
       "    <tr>\n",
       "      <th>1999</th>\n",
       "      <td>42500000.0</td>\n",
       "      <td>64</td>\n",
       "      <td>5.2</td>\n",
       "      <td>15.0</td>\n",
       "      <td>South-West</td>\n",
       "      <td>2.5</td>\n",
       "      <td>NaN</td>\n",
       "      <td>4.0</td>\n",
       "      <td>4.0</td>\n",
       "      <td>Un-Furnished</td>\n",
       "      <td>NaN</td>\n",
       "      <td>Kusunti</td>\n",
       "      <td>Lalitpur</td>\n",
       "    </tr>\n",
       "    <tr>\n",
       "      <th>2000</th>\n",
       "      <td>251000000.0</td>\n",
       "      <td>514</td>\n",
       "      <td>162.0</td>\n",
       "      <td>16.0</td>\n",
       "      <td>North-East</td>\n",
       "      <td>3.0</td>\n",
       "      <td>NaN</td>\n",
       "      <td>NaN</td>\n",
       "      <td>NaN</td>\n",
       "      <td>Semi-Furnished</td>\n",
       "      <td>NaN</td>\n",
       "      <td>Godawari</td>\n",
       "      <td>Lalitpur</td>\n",
       "    </tr>\n",
       "  </tbody>\n",
       "</table>\n",
       "<p>2001 rows × 13 columns</p>\n",
       "</div>"
      ],
      "text/plain": [
       "            Price Views  Land Area  Road Access      Facing  Floor  Parking  \\\n",
       "0      46500000.0   183        4.3         13.0        West    3.0      5.0   \n",
       "1      35000000.0   95         2.5         13.0  South-East    3.0      3.0   \n",
       "2      28000000.0   400        3.2          6.0        East    6.0      NaN   \n",
       "3      76000000.0   29         6.0         10.0       South    3.5      6.0   \n",
       "4      73500000.0   40         9.1         13.0  South-East    3.5      6.0   \n",
       "...           ...   ...        ...          ...         ...    ...      ...   \n",
       "1996  100000000.0   49        12.0         16.5       North    2.5      NaN   \n",
       "1997   27000000.0   41         4.0         11.0        West    4.5      NaN   \n",
       "1998   50000000.0   368        6.0         14.0  South-East    3.0      NaN   \n",
       "1999   42500000.0   64         5.2         15.0  South-West    2.5      NaN   \n",
       "2000  251000000.0   514      162.0         16.0  North-East    3.0      NaN   \n",
       "\n",
       "      Bedroom  Bathroom  Furnish Status  \\\n",
       "0         6.0       6.0  Full-Furnished   \n",
       "1         3.0       2.0  Semi-Furnished   \n",
       "2        22.0       8.0    Un-Furnished   \n",
       "3         8.0      10.0  Semi-Furnished   \n",
       "4         4.0       3.0  Semi-Furnished   \n",
       "...       ...       ...             ...   \n",
       "1996      5.0       6.0  Semi-Furnished   \n",
       "1997      8.0       4.0  Semi-Furnished   \n",
       "1998     10.0       5.0    Un-Furnished   \n",
       "1999      4.0       4.0    Un-Furnished   \n",
       "2000      NaN       NaN  Semi-Furnished   \n",
       "\n",
       "                                                Amenity           City  \\\n",
       "0     Earthquake Resistant,Parquet,Marbel,Drainage,G...  Hepali Height   \n",
       "1     Drainage,Solar,Parking,Drinking Water,Balcony,...         Sanepa   \n",
       "2                                                   NaN  Old Baneshwor   \n",
       "3     Earthquake Resistant,Parquet,Marbel,CC Camera,...      Baluwatar   \n",
       "4     Earthquake Resistant,Marbel,Parquet,Drainage,S...      Manamaiju   \n",
       "...                                                 ...            ...   \n",
       "1996                                                NaN     Banasthali   \n",
       "1997                                                NaN  Gorkarneshwor   \n",
       "1998                                                NaN    Bijulibajar   \n",
       "1999                                                NaN        Kusunti   \n",
       "2000                                                NaN       Godawari   \n",
       "\n",
       "        district  \n",
       "0      Kathmandu  \n",
       "1       Lalitpur  \n",
       "2      Kathmandu  \n",
       "3      Kathmandu  \n",
       "4      Kathmandu  \n",
       "...          ...  \n",
       "1996   Kathmandu  \n",
       "1997   Kathmandu  \n",
       "1998   Kathmandu  \n",
       "1999    Lalitpur  \n",
       "2000    Lalitpur  \n",
       "\n",
       "[2001 rows x 13 columns]"
      ]
     },
     "execution_count": 38,
     "metadata": {},
     "output_type": "execute_result"
    }
   ],
   "source": [
    "df"
   ]
  },
  {
   "cell_type": "code",
   "execution_count": 39,
   "id": "712a7fb6",
   "metadata": {},
   "outputs": [
    {
     "name": "stdout",
     "output_type": "stream",
     "text": [
      "<class 'pandas.core.frame.DataFrame'>\n",
      "RangeIndex: 2001 entries, 0 to 2000\n",
      "Data columns (total 13 columns):\n",
      " #   Column          Non-Null Count  Dtype  \n",
      "---  ------          --------------  -----  \n",
      " 0   Price           2001 non-null   float64\n",
      " 1   Views           2001 non-null   object \n",
      " 2   Land Area       2001 non-null   float64\n",
      " 3   Road Access     2001 non-null   float64\n",
      " 4   Facing          1393 non-null   object \n",
      " 5   Floor           1901 non-null   float64\n",
      " 6   Parking         76 non-null     float64\n",
      " 7   Bedroom         1421 non-null   float64\n",
      " 8   Bathroom        1325 non-null   float64\n",
      " 9   Furnish Status  362 non-null    object \n",
      " 10  Amenity         118 non-null    object \n",
      " 11  City            2001 non-null   object \n",
      " 12  district        1998 non-null   object \n",
      "dtypes: float64(7), object(6)\n",
      "memory usage: 203.4+ KB\n"
     ]
    }
   ],
   "source": [
    "df.info()"
   ]
  },
  {
   "cell_type": "code",
   "execution_count": 40,
   "id": "e92a9d70",
   "metadata": {},
   "outputs": [
    {
     "data": {
      "text/plain": [
       "Price                0\n",
       "Views                0\n",
       "Land Area            0\n",
       "Road Access          0\n",
       "Facing             608\n",
       "Floor              100\n",
       "Parking           1925\n",
       "Bedroom            580\n",
       "Bathroom           676\n",
       "Furnish Status    1639\n",
       "Amenity           1883\n",
       "City                 0\n",
       "district             3\n",
       "dtype: int64"
      ]
     },
     "execution_count": 40,
     "metadata": {},
     "output_type": "execute_result"
    }
   ],
   "source": [
    "df.isna().sum()"
   ]
  },
  {
   "cell_type": "code",
   "execution_count": 41,
   "id": "820552d7",
   "metadata": {},
   "outputs": [
    {
     "data": {
      "text/plain": [
       "East          305\n",
       "South         299\n",
       "West          204\n",
       "South-East    160\n",
       "North         153\n",
       "North-East    123\n",
       "South-West     95\n",
       "North-West     54\n",
       "Name: Facing, dtype: int64"
      ]
     },
     "execution_count": 41,
     "metadata": {},
     "output_type": "execute_result"
    }
   ],
   "source": [
    "df['Facing'].value_counts()\n"
   ]
  },
  {
   "cell_type": "code",
   "execution_count": 42,
   "id": "926ab743",
   "metadata": {},
   "outputs": [
    {
     "data": {
      "image/png": "[encoded data removed]",
      "text/plain": [
       "<Figure size 640x480 with 1 Axes>"
      ]
     },
     "metadata": {},
     "output_type": "display_data"
    }
   ],
   "source": [
    "import matplotlib.pyplot as plt\n",
    "\n",
    "# Assuming you have a DataFrame named 'df' containing the data\n",
    "\n",
    "facing_counts = df['Facing'].value_counts()\n",
    "\n",
    "# Plotting the bar plot\n",
    "facing_counts.plot.bar()\n",
    "\n",
    "# Adding labels and title\n",
    "plt.xlabel('Facing')\n",
    "plt.ylabel('Count')\n",
    "plt.title('Count of Unique Values in Facing Column')\n",
    "\n",
    "# Displaying the plot\n",
    "plt.show()\n"
   ]
  },
  {
   "cell_type": "code",
   "execution_count": 25,
   "id": "d1080b6b",
   "metadata": {},
   "outputs": [
    {
     "data": {
      "text/plain": [
       "Price             550000000.0\n",
       "Views                     182\n",
       "Land Area                40.0\n",
       "Road Access              20.0\n",
       "Facing                   West\n",
       "Floor                     6.0\n",
       "Parking                   NaN\n",
       "Bedroom                   NaN\n",
       "Bathroom                  NaN\n",
       "Furnish Status            NaN\n",
       "Amenity                   NaN\n",
       "City                  Gongabu\n",
       "district            Kathmandu\n",
       "Name: 132, dtype: object"
      ]
     },
     "execution_count": 25,
     "metadata": {},
     "output_type": "execute_result"
    }
   ],
   "source": [
    "df.loc[df['Price'].idxmax()]"
   ]
  },
  {
   "cell_type": "code",
   "execution_count": 43,
   "id": "d3189997",
   "metadata": {},
   "outputs": [
    {
     "data": {
      "text/plain": [
       "array([13.        ,  6.        , 10.        , 14.        , 18.        ,\n",
       "       12.        , 16.        , 20.        ,  5.        , 26.        ,\n",
       "       24.        , 27.        , 30.        , 17.        , 32.        ,\n",
       "       16.5       , 11.        , 15.        , 12.5       ,  9.        ,\n",
       "       19.5       , 22.        , 25.        , 15.5       , 20.5       ,\n",
       "        4.        ,  8.        , 23.        , 10.5       , 11.5       ,\n",
       "       14.5       , 40.        , 13.5       ,  3.        , 28.        ,\n",
       "        0.        , 18.5       , 36.        ,  6.5       , 19.        ,\n",
       "       45.        , 21.        , 50.        , 17.5       , 68.        ,\n",
       "       72.        , 65.        , 60.        , 42.        , 29.        ,\n",
       "       33.        , 16.66666667])"
      ]
     },
     "execution_count": 43,
     "metadata": {},
     "output_type": "execute_result"
    }
   ],
   "source": [
    "df['Road Access'].unique()"
   ]
  },
  {
   "cell_type": "code",
   "execution_count": 28,
   "id": "6700a585",
   "metadata": {},
   "outputs": [],
   "source": [
    "df['Road Access'] = df['Road Access'].replace(16.66666667, 17)"
   ]
  },
  {
   "cell_type": "code",
   "execution_count": 31,
   "id": "a8d4e335",
   "metadata": {},
   "outputs": [
    {
     "data": {
      "text/plain": [
       "array([13.        ,  6.        , 10.        , 14.        , 18.        ,\n",
       "       12.        , 16.        , 20.        ,  5.        , 26.        ,\n",
       "       24.        , 27.        , 30.        , 17.        , 32.        ,\n",
       "       16.5       , 11.        , 15.        , 12.5       ,  9.        ,\n",
       "       19.5       , 22.        , 25.        , 15.5       , 20.5       ,\n",
       "        4.        ,  8.        , 23.        , 10.5       , 11.5       ,\n",
       "       14.5       , 40.        , 13.5       ,  3.        , 28.        ,\n",
       "        0.        , 18.5       , 36.        ,  6.5       , 19.        ,\n",
       "       45.        , 21.        , 50.        , 17.5       , 68.        ,\n",
       "       72.        , 65.        , 60.        , 42.        , 29.        ,\n",
       "       33.        , 16.66666667])"
      ]
     },
     "execution_count": 31,
     "metadata": {},
     "output_type": "execute_result"
    }
   ],
   "source": [
    "df['Road Access'].unique()"
   ]
  },
  {
   "cell_type": "code",
   "execution_count": 45,
   "id": "142d66ff",
   "metadata": {},
   "outputs": [
    {
     "name": "stdout",
     "output_type": "stream",
     "text": [
      "[13.  6. 10. 14. 18. 12. 16. 20.  5. 26. 24. 27. 30. 17. 32. 11. 15.  9.\n",
      " 22. 25.  4.  8. 23. 40.  3. 28.  0. 36. 19. 45. 21. 50. 68. 72. 65. 60.\n",
      " 42. 29. 33.]\n"
     ]
    }
   ],
   "source": [
    "# Assuming you have a DataFrame named 'df' containing the data\n",
    "\n",
    "df['Road Access'] = df['Road Access'].round(0)\n",
    "df['Road Access'] = df['Road Access'].replace(16.67, 17)\n",
    "\n",
    "# Printing the unique values in the 'Road Access' column\n",
    "print(df['Road Access'].unique())\n"
   ]
  },
  {
   "cell_type": "code",
   "execution_count": 46,
   "id": "54511894",
   "metadata": {},
   "outputs": [
    {
     "data": {
      "text/plain": [
       "14.822088955522238"
      ]
     },
     "execution_count": 46,
     "metadata": {},
     "output_type": "execute_result"
    }
   ],
   "source": [
    "df['Road Access'].mean()"
   ]
  },
  {
   "cell_type": "code",
   "execution_count": 50,
   "id": "40c6db95",
   "metadata": {},
   "outputs": [
    {
     "data": {
      "text/plain": [
       "array([' Kathmandu', ' Lalitpur', ' Bhaktapur', nan], dtype=object)"
      ]
     },
     "execution_count": 50,
     "metadata": {},
     "output_type": "execute_result"
    }
   ],
   "source": [
    "df['district'].unique()"
   ]
  },
  {
   "cell_type": "code",
   "execution_count": 51,
   "id": "5b4912ac",
   "metadata": {},
   "outputs": [],
   "source": [
    "df.to_csv('cleaned_ab.csv',index=False)"
   ]
  },
  {
   "cell_type": "code",
   "execution_count": null,
   "id": "1503017c",
   "metadata": {},
   "outputs": [],
   "source": []
  }
 ],
 "metadata": {
  "kernelspec": {
   "display_name": "Python 3 (ipykernel)",
   "language": "python",
   "name": "python3"
  },
  "language_info": {
   "codemirror_mode": {
    "name": "ipython",
    "version": 3
   },
   "file_extension": ".py",
   "mimetype": "text/x-python",
   "name": "python",
   "nbconvert_exporter": "python",
   "pygments_lexer": "ipython3",
   "version": "3.10.9"
  }
 },
 "nbformat": 4,
 "nbformat_minor": 5
}
