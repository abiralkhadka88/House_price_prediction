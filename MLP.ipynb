{
 "cells": [
  {
   "cell_type": "code",
   "execution_count": 2,
   "id": "1683e1fb",
   "metadata": {},
   "outputs": [
    {
     "name": "stderr",
     "output_type": "stream",
     "text": [
      "C:\\Users\\nepal\\anaconda3\\lib\\site-packages\\scipy\\__init__.py:146: UserWarning: A NumPy version >=1.16.5 and <1.23.0 is required for this version of SciPy (detected version 1.25.0\n",
      "  warnings.warn(f\"A NumPy version >={np_minversion} and <{np_maxversion}\"\n"
     ]
    }
   ],
   "source": [
    "import numpy as np\n",
    "from sklearn.model_selection import train_test_split\n",
    "from sklearn.preprocessing import StandardScaler\n",
    "from sklearn.metrics import mean_absolute_error,mean_squared_error, r2_score\n",
    "import tensorflow as tf\n",
    "from tensorflow.keras.models import Sequential\n",
    "from tensorflow.keras.layers import Dense\n",
    "import pandas as pd\n",
    "\n",
    "from sklearn.preprocessing import LabelEncoder,OneHotEncoder\n",
    "from sklearn.compose import ColumnTransformer\n",
    "\n"
   ]
  },
  {
   "cell_type": "code",
   "execution_count": 3,
   "id": "012aeb17",
   "metadata": {},
   "outputs": [],
   "source": [
    "df=pd.read_csv('NewDataset.csv')\n",
    "# Split the data into features (X) and target (y)\n",
    "X = df.drop(columns=['Price'])\n",
    "y = df['Price']\n",
    "\n",
    "\n",
    "Label_encoder = LabelEncoder()\n",
    "nominal_cols = ['Face','Address','City']\n",
    "transformer = ColumnTransformer([('one_hot_encoder',OneHotEncoder(drop='first'),nominal_cols)],remainder='passthrough')\n",
    "X_encoded = transformer.fit_transform(X)"
   ]
  },
  {
   "cell_type": "code",
   "execution_count": 4,
   "id": "c33ce11e",
   "metadata": {},
   "outputs": [],
   "source": [
    "# Split the data into training and testing sets\n",
    "X_train, X_test, y_train, y_test = train_test_split(X_encoded, y, test_size=0.2, random_state=42)\n"
   ]
  },
  {
   "cell_type": "code",
   "execution_count": 5,
   "id": "56b96b48",
   "metadata": {},
   "outputs": [],
   "source": [
    "# Scale the input features\n",
    "scaler = StandardScaler(with_mean=False)\n",
    "X_train = scaler.fit_transform(X_train)\n",
    "X_test = scaler.transform(X_test)"
   ]
  },
  {
   "cell_type": "code",
   "execution_count": 6,
   "id": "82fde54f",
   "metadata": {},
   "outputs": [],
   "source": [
    "# Define the MLP architecture\n",
    "model = Sequential()\n",
    "model.add(Dense(64, activation='relu', input_shape=(X_train.shape[1],)))\n",
    "model.add(Dense(64, activation='relu'))\n",
    "model.add(Dense(1))  # Output layer with linear activation for regression"
   ]
  },
  {
   "cell_type": "code",
   "execution_count": 7,
   "id": "c3a39561",
   "metadata": {},
   "outputs": [],
   "source": [
    "# Compile the model\n",
    "model.compile(optimizer='adam', loss='mean_squared_error')"
   ]
  },
  {
   "cell_type": "code",
   "execution_count": 8,
   "id": "8e11a5c3",
   "metadata": {},
   "outputs": [
    {
     "name": "stdout",
     "output_type": "stream",
     "text": [
      "Epoch 1/50\n",
      "77/77 [==============================] - 1s 2ms/step - loss: 1301571853877248.0000\n",
      "Epoch 2/50\n",
      "77/77 [==============================] - 0s 2ms/step - loss: 1301535078219776.0000\n",
      "Epoch 3/50\n",
      "77/77 [==============================] - 0s 2ms/step - loss: 1301362876874752.0000\n",
      "Epoch 4/50\n",
      "77/77 [==============================] - 0s 2ms/step - loss: 1300931501096960.0000\n",
      "Epoch 5/50\n",
      "77/77 [==============================] - 0s 2ms/step - loss: 1300128744865792.0000\n",
      "Epoch 6/50\n",
      "77/77 [==============================] - 0s 2ms/step - loss: 1298855018627072.0000\n",
      "Epoch 7/50\n",
      "77/77 [==============================] - 0s 2ms/step - loss: 1297011672350720.0000\n",
      "Epoch 8/50\n",
      "77/77 [==============================] - 0s 2ms/step - loss: 1294522873020416.0000\n",
      "Epoch 9/50\n",
      "77/77 [==============================] - 0s 2ms/step - loss: 1291300976459776.0000\n",
      "Epoch 10/50\n",
      "77/77 [==============================] - 0s 2ms/step - loss: 1287301556600832.0000\n",
      "Epoch 11/50\n",
      "77/77 [==============================] - 0s 2ms/step - loss: 1282440056274944.0000\n",
      "Epoch 12/50\n",
      "77/77 [==============================] - 0s 2ms/step - loss: 1276673525809152.0000\n",
      "Epoch 13/50\n",
      "77/77 [==============================] - 0s 3ms/step - loss: 1269962773626880.0000\n",
      "Epoch 14/50\n",
      "77/77 [==============================] - 0s 2ms/step - loss: 1262262971006976.0000\n",
      "Epoch 15/50\n",
      "77/77 [==============================] - 0s 2ms/step - loss: 1253551972024320.0000\n",
      "Epoch 16/50\n",
      "77/77 [==============================] - 0s 2ms/step - loss: 1243799846125568.0000\n",
      "Epoch 17/50\n",
      "77/77 [==============================] - 0s 2ms/step - loss: 1232988876570624.0000\n",
      "Epoch 18/50\n",
      "77/77 [==============================] - 0s 2ms/step - loss: 1221122284584960.0000\n",
      "Epoch 19/50\n",
      "77/77 [==============================] - 0s 2ms/step - loss: 1208178997985280.0000\n",
      "Epoch 20/50\n",
      "77/77 [==============================] - 0s 2ms/step - loss: 1194145729216512.0000\n",
      "Epoch 21/50\n",
      "77/77 [==============================] - 0s 2ms/step - loss: 1179068246523904.0000\n",
      "Epoch 22/50\n",
      "77/77 [==============================] - 0s 2ms/step - loss: 1162926417248256.0000\n",
      "Epoch 23/50\n",
      "77/77 [==============================] - 0s 2ms/step - loss: 1145769365078016.0000\n",
      "Epoch 24/50\n",
      "77/77 [==============================] - 0s 2ms/step - loss: 1127618027978752.0000\n",
      "Epoch 25/50\n",
      "77/77 [==============================] - 0s 2ms/step - loss: 1108508980281344.0000\n",
      "Epoch 26/50\n",
      "77/77 [==============================] - 0s 2ms/step - loss: 1088401352687616.0000\n",
      "Epoch 27/50\n",
      "77/77 [==============================] - 0s 2ms/step - loss: 1067426007482368.0000\n",
      "Epoch 28/50\n",
      "77/77 [==============================] - 0s 2ms/step - loss: 1045679111667712.0000\n",
      "Epoch 29/50\n",
      "77/77 [==============================] - 0s 1ms/step - loss: 1023052687081472.0000\n",
      "Epoch 30/50\n",
      "77/77 [==============================] - 0s 2ms/step - loss: 999656658042880.0000\n",
      "Epoch 31/50\n",
      "77/77 [==============================] - 0s 1ms/step - loss: 975539879804928.0000\n",
      "Epoch 32/50\n",
      "77/77 [==============================] - 0s 2ms/step - loss: 950777044533248.0000\n",
      "Epoch 33/50\n",
      "77/77 [==============================] - 0s 2ms/step - loss: 925435596636160.0000\n",
      "Epoch 34/50\n",
      "77/77 [==============================] - 0s 2ms/step - loss: 899535199010816.0000\n",
      "Epoch 35/50\n",
      "77/77 [==============================] - 0s 2ms/step - loss: 873167455256576.0000\n",
      "Epoch 36/50\n",
      "77/77 [==============================] - 0s 1ms/step - loss: 846355316604928.0000\n",
      "Epoch 37/50\n",
      "77/77 [==============================] - 0s 1ms/step - loss: 819301988696064.0000\n",
      "Epoch 38/50\n",
      "77/77 [==============================] - 0s 2ms/step - loss: 791993445777408.0000\n",
      "Epoch 39/50\n",
      "77/77 [==============================] - 0s 2ms/step - loss: 764523908694016.0000\n",
      "Epoch 40/50\n",
      "77/77 [==============================] - 0s 1ms/step - loss: 736815598272512.0000\n",
      "Epoch 41/50\n",
      "77/77 [==============================] - 0s 2ms/step - loss: 709264792354816.0000\n",
      "Epoch 42/50\n",
      "77/77 [==============================] - 0s 2ms/step - loss: 681700698882048.0000\n",
      "Epoch 43/50\n",
      "77/77 [==============================] - 0s 2ms/step - loss: 654320215261184.0000\n",
      "Epoch 44/50\n",
      "77/77 [==============================] - 0s 2ms/step - loss: 627102739070976.0000\n",
      "Epoch 45/50\n",
      "77/77 [==============================] - 0s 2ms/step - loss: 600201882501120.0000\n",
      "Epoch 46/50\n",
      "77/77 [==============================] - 0s 2ms/step - loss: 573622007627776.0000\n",
      "Epoch 47/50\n",
      "77/77 [==============================] - 0s 2ms/step - loss: 547472938106880.0000\n",
      "Epoch 48/50\n",
      "77/77 [==============================] - 0s 2ms/step - loss: 521886039539712.0000\n",
      "Epoch 49/50\n",
      "77/77 [==============================] - 0s 2ms/step - loss: 496814637711360.0000\n",
      "Epoch 50/50\n",
      "77/77 [==============================] - 0s 2ms/step - loss: 472396708446208.0000\n"
     ]
    },
    {
     "data": {
      "text/plain": [
       "<keras.callbacks.History at 0x1eabc546eb0>"
      ]
     },
     "execution_count": 8,
     "metadata": {},
     "output_type": "execute_result"
    }
   ],
   "source": [
    "# Train the model\n",
    "X_train_dense = X_train.toarray()\n",
    "\n",
    "\n",
    "# Train the model\n",
    "model.fit(X_train_dense, y_train, batch_size=32, epochs=50, verbose=1)"
   ]
  },
  {
   "cell_type": "code",
   "execution_count": 9,
   "id": "12c6ac5f",
   "metadata": {},
   "outputs": [
    {
     "name": "stdout",
     "output_type": "stream",
     "text": [
      "20/20 [==============================] - 0s 848us/step\n",
      "RMSE: 4134.978272919009\n",
      "R2 -1.4506866093750572\n",
      "Mean Absolute Error: 17098045.317512274\n"
     ]
    }
   ],
   "source": [
    "# Evaluate the model\n",
    "y_pred = model.predict(X_test)\n",
    "mae = mean_absolute_error(y_test, y_pred)\n",
    "rmse = np.sqrt(mae)\n",
    "r2 = r2_score(y_test, y_pred)\n",
    "print(\"RMSE:\", rmse)\n",
    "print(\"R2\",r2)\n",
    "print(f\"Mean Absolute Error: {mae}\")"
   ]
  },
  {
   "cell_type": "code",
   "execution_count": 10,
   "id": "e3cf7ec1",
   "metadata": {},
   "outputs": [
    {
     "data": {
      "image/png": "[encoded data removed]",
      "text/plain": [
       "<Figure size 432x288 with 1 Axes>"
      ]
     },
     "metadata": {
      "needs_background": "light"
     },
     "output_type": "display_data"
    }
   ],
   "source": [
    "import matplotlib.pyplot as plt\n",
    "\n",
    "# Assuming 'y_test' is the true target values and 'y_pred' is the predicted target values\n",
    "\n",
    "# Plotting\n",
    "plt.scatter(y_test, y_pred, color='blue', label='Actual vs Predicted')\n",
    "\n",
    "# Add labels and title\n",
    "plt.xlabel('Actual Price')\n",
    "plt.ylabel('Predicted Price')\n",
    "plt.title('Actual vs Predicted Price in Random')\n",
    "\n",
    "# Add legend\n",
    "plt.legend()\n",
    "\n",
    "# Display the plot\n",
    "plt.show()"
   ]
  },
  {
   "cell_type": "code",
   "execution_count": null,
   "id": "df59d370",
   "metadata": {},
   "outputs": [],
   "source": []
  }
 ],
 "metadata": {
  "kernelspec": {
   "display_name": "Python 3 (ipykernel)",
   "language": "python",
   "name": "python3"
  },
  "language_info": {
   "codemirror_mode": {
    "name": "ipython",
    "version": 3
   },
   "file_extension": ".py",
   "mimetype": "text/x-python",
   "name": "python",
   "nbconvert_exporter": "python",
   "pygments_lexer": "ipython3",
   "version": "3.9.12"
  }
 },
 "nbformat": 4,
 "nbformat_minor": 5
}
